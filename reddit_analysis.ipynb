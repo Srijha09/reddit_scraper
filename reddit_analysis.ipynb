{
 "cells": [
  {
   "cell_type": "code",
   "execution_count": 1,
   "metadata": {},
   "outputs": [],
   "source": [
    "import time\n",
    "import csv\n",
    "import bs4 as bs\n",
    "import pandas as pd\n",
    "import regex as re \n",
    "import pickle \n",
    "import warnings\n",
    "\n",
    "warnings.filterwarnings(\"ignore\")\n",
    "\n",
    "from urllib.request import FancyURLopener\n",
    "from random import choice\n",
    "from bs4 import SoupStrainer, BeautifulSoup\n",
    "\n",
    "from selenium import webdriver\n",
    "from selenium.webdriver.common.keys import Keys\n",
    "from selenium.webdriver.chrome.options import Options\n",
    "\n",
    "chrome_options = Options()\n",
    "chrome_options.add_argument(\"--headless\")\n",
    "chrome_options.add_argument(\"--no-sandbox\")\n",
    "chrome_options.add_argument(\"--disable-dev-shm-usage\")\n",
    "driver = webdriver.Chrome(\"/usr/local/bin/chromedriver\", chrome_options=chrome_options)\n",
    "\n",
    "user_agents = [\n",
    "    \"Mozilla/5.0 (Windows NT 6.1) AppleWebKit/537.36 (KHTML, like Gecko) Chrome/41.0.2228.0 Safari/537.36\",\n",
    "    \"Opera/9.80 (X11; Linux i686; Ubuntu/14.10) Presto/2.12.388 Version/12.16\",\n",
    "    \"Mozilla/5.0 (Windows; U; Windows NT 6.1; rv:2.2) Gecko/20110201\",\n",
    "    \"Mozilla/5.0 (Macintosh; Intel Mac OS X 10_9_3) AppleWebKit/537.75.14 (KHTML, like Gecko) Version/7.0.3 Safari/7046A194A\",\n",
    "    \"Mozilla/5.0 (Windows NT 10.0; Win64; x64) AppleWebKit/537.36 (KHTML, like Gecko) Chrome/42.0.2311.135 Safari/537.36 Edge/12.246\",\n",
    "]\n",
    "\n",
    "\n",
    "class MyOpener(FancyURLopener, object):\n",
    "    version = choice(user_agents)\n",
    "\n",
    "myopener = MyOpener()"
   ]
  },
  {
   "cell_type": "markdown",
   "metadata": {},
   "source": [
    "# Scraping neutral subreddits"
   ]
  },
  {
   "cell_type": "code",
   "execution_count": 2,
   "metadata": {},
   "outputs": [],
   "source": [
    "starter_url = \"https://old.reddit.com/r/NeutralPolitics\"\n",
    "driver.get(starter_url)\n",
    "\n",
    "title_list = []\n",
    "upvotes_list = []\n",
    "current_url = starter_url\n",
    "for x in range(30):\n",
    "    page = myopener.open(current_url)\n",
    "    html = page.read().decode(\"utf-8\")\n",
    "    soup = BeautifulSoup(html, \"html.parser\")\n",
    "    titles_upvotes = soup.select(\".unvoted\")\n",
    "    x = 0\n",
    "    while x < len(titles_upvotes):\n",
    "        if \"•\" == titles_upvotes[x + 1].get_text():\n",
    "            x = x + 3\n",
    "            continue\n",
    "        else:\n",
    "            upvotes_list.append(str(titles_upvotes[x + 1]).split('=\"')[2].split('\"')[0])\n",
    "            title_list.append(titles_upvotes[x + 2].get_text().split(\" (\")[0])\n",
    "            x = x + 3\n",
    "\n",
    "    time.sleep(5)\n",
    "\n",
    "    driver.get(current_url)\n",
    "    button = driver.find_element_by_css_selector(\"a[rel='nofollow next']\")\n",
    "    button.click()\n",
    "    current_url = driver.current_url"
   ]
  },
  {
   "cell_type": "code",
   "execution_count": null,
   "metadata": {},
   "outputs": [],
   "source": [
    "starter_url = \"https://old.reddit.com/r/news\"\n",
    "driver.get(starter_url)\n",
    "\n",
    "current_url = starter_url\n",
    "for x in range(30):\n",
    "    page = myopener.open(current_url)\n",
    "    html = page.read().decode(\"utf-8\")\n",
    "    soup = BeautifulSoup(html, \"html.parser\")\n",
    "    titles_upvotes = soup.select(\".unvoted\")\n",
    "    x = 0\n",
    "    while x < len(titles_upvotes):\n",
    "        if \"•\" == titles_upvotes[x + 1].get_text():\n",
    "            x = x + 3\n",
    "            continue\n",
    "        else:\n",
    "            upvotes_list.append(str(titles_upvotes[x + 1]).split('=\"')[2].split('\"')[0])\n",
    "            title_list.append(titles_upvotes[x + 2].get_text().split(\" (\")[0])\n",
    "            x = x + 3\n",
    "\n",
    "    time.sleep(5)\n",
    "\n",
    "    driver.get(current_url)\n",
    "    button = driver.find_element_by_css_selector(\"a[rel='nofollow next']\")\n",
    "    button.click()\n",
    "    current_url = driver.current_url"
   ]
  },
  {
   "cell_type": "markdown",
   "metadata": {},
   "source": [
    "# Scraping left leaning subreddits"
   ]
  },
  {
   "cell_type": "markdown",
   "metadata": {},
   "source": [
    "### /r/Democrats"
   ]
  },
  {
   "cell_type": "code",
   "execution_count": 304,
   "metadata": {},
   "outputs": [],
   "source": [
    "starter_url = \"https://old.reddit.com/r/Democrats\"\n",
    "driver.get(starter_url)\n",
    "\n",
    "left_title_list = []\n",
    "left_upvotes_list = []\n",
    "current_url = starter_url\n",
    "for x in range(20):\n",
    "    page = myopener.open(current_url)\n",
    "    html = page.read().decode('utf-8')\n",
    "    soup = BeautifulSoup(html, 'html.parser')\n",
    "    titles_upvotes = soup.select('.unvoted')\n",
    "    x = 0\n",
    "    while x < len(titles_upvotes):\n",
    "        if '•' == titles_upvotes[x+1].get_text():\n",
    "            x = x + 3\n",
    "            continue\n",
    "        else:\n",
    "            left_upvotes_list.append(str(titles_upvotes[x+1]).split(\"=\\\"\")[2].split(\"\\\"\")[0])\n",
    "            left_title_list.append(titles_upvotes[x+2].get_text().split(' (')[0])\n",
    "            x = x + 3\n",
    "            \n",
    "    time.sleep(5)\n",
    "    \n",
    "    driver.get(current_url)\n",
    "    button = driver.find_element_by_css_selector(\"a[rel='nofollow next']\")\n",
    "    button.click()\n",
    "    current_url = driver.current_url"
   ]
  },
  {
   "cell_type": "markdown",
   "metadata": {},
   "source": [
    "### /r/politics"
   ]
  },
  {
   "cell_type": "code",
   "execution_count": 305,
   "metadata": {},
   "outputs": [],
   "source": [
    "starter_url = \"https://old.reddit.com/r/politics\"\n",
    "driver.get(starter_url)\n",
    "\n",
    "current_url = starter_url\n",
    "for x in range(20):\n",
    "    page = myopener.open(current_url)\n",
    "    html = page.read().decode('utf-8')\n",
    "    soup = BeautifulSoup(html, 'html.parser')\n",
    "    titles_upvotes = soup.select('.unvoted')\n",
    "    x = 0\n",
    "    while x < len(titles_upvotes):\n",
    "        if '•' == titles_upvotes[x+1].get_text():\n",
    "            x = x + 3\n",
    "            continue\n",
    "        else:\n",
    "            left_upvotes_list.append(str(titles_upvotes[x+1]).split(\"=\\\"\")[2].split(\"\\\"\")[0])\n",
    "            left_title_list.append(titles_upvotes[x+2].get_text().split(' (')[0])\n",
    "            x = x + 3\n",
    "            \n",
    "    time.sleep(5)\n",
    "    \n",
    "    driver.get(current_url)\n",
    "    button = driver.find_element_by_css_selector(\"a[rel='nofollow next']\")\n",
    "    button.click()\n",
    "    current_url = driver.current_url"
   ]
  },
  {
   "cell_type": "markdown",
   "metadata": {},
   "source": [
    "### /r/esist"
   ]
  },
  {
   "cell_type": "code",
   "execution_count": 306,
   "metadata": {},
   "outputs": [],
   "source": [
    "starter_url = \"https://old.reddit.com/r/esist\"\n",
    "driver.get(starter_url)\n",
    "\n",
    "current_url = starter_url\n",
    "for x in range(20):\n",
    "    page = myopener.open(current_url)\n",
    "    html = page.read().decode('utf-8')\n",
    "    soup = BeautifulSoup(html, 'html.parser')\n",
    "    titles_upvotes = soup.select('.unvoted')\n",
    "    x = 0\n",
    "    while x < len(titles_upvotes):\n",
    "        if '•' == titles_upvotes[x+1].get_text():\n",
    "            x = x + 3\n",
    "            continue\n",
    "        else:\n",
    "            left_upvotes_list.append(str(titles_upvotes[x+1]).split(\"=\\\"\")[2].split(\"\\\"\")[0])\n",
    "            left_title_list.append(titles_upvotes[x+2].get_text().split(' (')[0])\n",
    "            x = x + 3\n",
    "            \n",
    "    time.sleep(5)\n",
    "    \n",
    "    driver.get(current_url)\n",
    "    button = driver.find_element_by_css_selector(\"a[rel='nofollow next']\")\n",
    "    button.click()\n",
    "    current_url = driver.current_url"
   ]
  },
  {
   "cell_type": "markdown",
   "metadata": {},
   "source": [
    "### /r/liberal"
   ]
  },
  {
   "cell_type": "code",
   "execution_count": null,
   "metadata": {},
   "outputs": [],
   "source": [
    "starter_url = \"https://old.reddit.com/r/liberal\"\n",
    "driver.get(starter_url)\n",
    "\n",
    "current_url = starter_url\n",
    "for x in range(20):\n",
    "    page = myopener.open(current_url)\n",
    "    html = page.read().decode('utf-8')\n",
    "    soup = BeautifulSoup(html, 'html.parser')\n",
    "    titles_upvotes = soup.select('.unvoted')\n",
    "    x = 0\n",
    "    while x < len(titles_upvotes):\n",
    "        if '•' == titles_upvotes[x+1].get_text():\n",
    "            x = x + 3\n",
    "            continue\n",
    "        else:\n",
    "            left_upvotes_list.append(str(titles_upvotes[x+1]).split(\"=\\\"\")[2].split(\"\\\"\")[0])\n",
    "            left_title_list.append(titles_upvotes[x+2].get_text().split(' (')[0])\n",
    "            x = x + 3\n",
    "            \n",
    "    time.sleep(5)\n",
    "    \n",
    "    driver.get(current_url)\n",
    "    button = driver.find_element_by_css_selector(\"a[rel='nofollow next']\")\n",
    "    button.click()\n",
    "    current_url = driver.current_url"
   ]
  },
  {
   "cell_type": "markdown",
   "metadata": {},
   "source": [
    "# Scraping right leaning subreddits"
   ]
  },
  {
   "cell_type": "markdown",
   "metadata": {},
   "source": [
    "### /r/Conservative"
   ]
  },
  {
   "cell_type": "code",
   "execution_count": 211,
   "metadata": {},
   "outputs": [],
   "source": [
    "starter_url = \"https://old.reddit.com/r/Conservative\"\n",
    "driver.get(starter_url)\n",
    "\n",
    "right_title_list = []\n",
    "right_upvotes_list = []\n",
    "current_url = starter_url\n",
    "for x in range(20):\n",
    "    page = myopener.open(current_url)\n",
    "    html = page.read().decode('utf-8')\n",
    "    soup = BeautifulSoup(html, 'html.parser')\n",
    "    titles_upvotes = soup.select('.unvoted')\n",
    "    x = 0\n",
    "    while x < len(titles_upvotes):\n",
    "        if '•' == titles_upvotes[x+1].get_text():\n",
    "            x = x + 3\n",
    "            continue\n",
    "        else:\n",
    "            right_upvotes_list.append(str(titles_upvotes[x+1]).split(\"=\\\"\")[2].split(\"\\\"\")[0])\n",
    "            right_title_list.append(titles_upvotes[x+2].get_text().split(' (')[0])\n",
    "            x = x + 3\n",
    "            \n",
    "    time.sleep(5)\n",
    "    \n",
    "    driver.get(current_url)\n",
    "    button = driver.find_element_by_css_selector(\"a[rel='nofollow next']\")\n",
    "    button.click()\n",
    "    current_url = driver.current_url"
   ]
  },
  {
   "cell_type": "markdown",
   "metadata": {},
   "source": [
    "### /r/The_Donald"
   ]
  },
  {
   "cell_type": "code",
   "execution_count": 212,
   "metadata": {},
   "outputs": [],
   "source": [
    "starter_url = \"https://old.reddit.com/r/The_Donald\"\n",
    "driver.get(starter_url)\n",
    "continue_button = driver.find_element_by_css_selector(\"button[type='submit']\")\n",
    "continue_button.click()\n",
    "current_url_new = driver.current_url\n",
    "\n",
    "current_url = current_url_new\n",
    "for x in range(20):\n",
    "    page = myopener.open(current_url)\n",
    "    html = page.read().decode('utf-8')\n",
    "    soup = BeautifulSoup(html, 'html.parser')\n",
    "    titles_upvotes = soup.select('.unvoted')\n",
    "    x = 0\n",
    "    while x < len(titles_upvotes):\n",
    "        if '•' == titles_upvotes[x+1].get_text():\n",
    "            x = x + 3\n",
    "            continue\n",
    "        else:\n",
    "            right_upvotes_list.append(str(titles_upvotes[x+1]).split(\"=\\\"\")[2].split(\"\\\"\")[0])\n",
    "            right_title_list.append(titles_upvotes[x+2].get_text().split(' (')[0])\n",
    "            x = x + 3\n",
    "            \n",
    "    time.sleep(5)\n",
    "    \n",
    "    driver.get(current_url)\n",
    "    button = driver.find_element_by_css_selector(\"a[rel='nofollow next']\")\n",
    "    button.click()\n",
    "    current_url = driver.current_url"
   ]
  },
  {
   "cell_type": "markdown",
   "metadata": {},
   "source": [
    "### /r/republican"
   ]
  },
  {
   "cell_type": "code",
   "execution_count": 213,
   "metadata": {},
   "outputs": [],
   "source": [
    "starter_url = \"https://old.reddit.com/r/republican\"\n",
    "driver.get(starter_url)\n",
    "\n",
    "current_url = starter_url\n",
    "for x in range(20):\n",
    "    page = myopener.open(current_url)\n",
    "    html = page.read().decode('utf-8')\n",
    "    soup = BeautifulSoup(html, 'html.parser')\n",
    "    titles_upvotes = soup.select('.unvoted')\n",
    "    x = 0\n",
    "    while x < len(titles_upvotes):\n",
    "        if '•' == titles_upvotes[x+1].get_text():\n",
    "            x = x + 3\n",
    "            continue\n",
    "        else:\n",
    "            right_upvotes_list.append(str(titles_upvotes[x+1]).split(\"=\\\"\")[2].split(\"\\\"\")[0])\n",
    "            right_title_list.append(titles_upvotes[x+2].get_text().split(' (')[0])\n",
    "            x = x + 3\n",
    "            \n",
    "    time.sleep(5)\n",
    "    \n",
    "    driver.get(current_url)\n",
    "    button = driver.find_element_by_css_selector(\"a[rel='nofollow next']\")\n",
    "    button.click()\n",
    "    current_url = driver.current_url"
   ]
  },
  {
   "cell_type": "markdown",
   "metadata": {},
   "source": [
    "### /r/TheRightBoycott"
   ]
  },
  {
   "cell_type": "code",
   "execution_count": 214,
   "metadata": {},
   "outputs": [],
   "source": [
    "starter_url = \"https://old.reddit.com/r/TheRightBoycott\"\n",
    "driver.get(starter_url)\n",
    "\n",
    "current_url = starter_url\n",
    "for x in range(20):\n",
    "    page = myopener.open(current_url)\n",
    "    html = page.read().decode('utf-8')\n",
    "    soup = BeautifulSoup(html, 'html.parser')\n",
    "    titles_upvotes = soup.select('.unvoted')\n",
    "    x = 0\n",
    "    while x < len(titles_upvotes):\n",
    "        if '•' == titles_upvotes[x+1].get_text():\n",
    "            x = x + 3\n",
    "            continue\n",
    "        else:\n",
    "            right_upvotes_list.append(str(titles_upvotes[x+1]).split(\"=\\\"\")[2].split(\"\\\"\")[0])\n",
    "            right_title_list.append(titles_upvotes[x+2].get_text().split(' (')[0])\n",
    "            x = x + 3\n",
    "            \n",
    "    time.sleep(5)\n",
    "    \n",
    "    driver.get(current_url)\n",
    "    button = driver.find_element_by_css_selector(\"a[rel='nofollow next']\")\n",
    "    button.click()\n",
    "    current_url = driver.current_url"
   ]
  },
  {
   "cell_type": "markdown",
   "metadata": {},
   "source": [
    "# Text cleaning and modeling"
   ]
  },
  {
   "cell_type": "code",
   "execution_count": 2,
   "metadata": {},
   "outputs": [
    {
     "name": "stderr",
     "output_type": "stream",
     "text": [
      "/usr/local/lib/python3.6/dist-packages/scipy/sparse/sparsetools.py:21: DeprecationWarning: `scipy.sparse.sparsetools` is deprecated!\n",
      "scipy.sparse.sparsetools is a private module for scipy.sparse, and should not be used.\n",
      "  _deprecated()\n"
     ]
    }
   ],
   "source": [
    "import numpy as np\n",
    "import matplotlib.pyplot as plt\n",
    "import seaborn as sns\n",
    "import random\n",
    "import regex\n",
    "import nltk\n",
    "import spacy\n",
    "import scipy.sparse\n",
    "import pyLDAvis\n",
    "import pyLDAvis.gensim\n",
    "import gensim.corpora as corpora\n",
    "\n",
    "from gensim.utils import simple_preprocess\n",
    "from gensim.models import CoherenceModel\n",
    "from gensim import matutils, models\n",
    "from itertools import chain\n",
    "from tqdm import tqdm\n",
    "from sklearn.feature_extraction.text import TfidfVectorizer\n",
    "from sklearn.model_selection import train_test_split, KFold\n",
    "from sklearn import linear_model\n",
    "from sklearn.pipeline import Pipeline\n",
    "from sklearn.model_selection import GridSearchCV\n",
    "from sklearn.preprocessing import LabelEncoder \n",
    "from sklearn.utils import shuffle\n",
    "from nltk.corpus import stopwords\n",
    "\n",
    "from collections import defaultdict\n",
    "from statistics import mean\n",
    "\n",
    "plt.rcParams[\"figure.figsize\"] = [20, 10]"
   ]
  },
  {
   "cell_type": "code",
   "execution_count": 308,
   "metadata": {},
   "outputs": [],
   "source": [
    "stop_words = set(stopwords.words(\"english\"))\n",
    "stop_words.add('u')\n",
    "stop_words.add('r')\n",
    "\n",
    "def text_cleaner(text):\n",
    "    text = regex.sub(\"[^a-zA-Z]\", \" \", text)\n",
    "    text = \" \".join(text.split())\n",
    "    text = text.lower()\n",
    "    return text\n",
    "            \n",
    "neutral_titles = [text_cleaner(x) for x in title_list]\n",
    "right_titles = [text_cleaner(x) for x in right_title_list]\n",
    "left_titles = [text_cleaner(x) for x in left_title_list]"
   ]
  },
  {
   "cell_type": "markdown",
   "metadata": {},
   "source": [
    "## Neutral titles wordcount"
   ]
  },
  {
   "cell_type": "code",
   "execution_count": 309,
   "metadata": {},
   "outputs": [],
   "source": [
    "wordCount_n = defaultdict(int)\n",
    "totalWords = 0\n",
    "\n",
    "for title in neutral_titles:\n",
    "    t = title\n",
    "    t = \"\".join(t)\n",
    "    words = t.strip().split()\n",
    "    for w in words:\n",
    "        if w in stop_words:\n",
    "            continue\n",
    "        else:\n",
    "            totalWords += 1\n",
    "            wordCount_n[w] += 1"
   ]
  },
  {
   "cell_type": "code",
   "execution_count": 310,
   "metadata": {},
   "outputs": [
    {
     "data": {
      "text/plain": [
       "[(104, 'trump'),\n",
       " (102, 'us'),\n",
       " (68, 'president'),\n",
       " (61, 'states'),\n",
       " (52, 'new'),\n",
       " (49, 'pros'),\n",
       " (49, 'cons'),\n",
       " (48, 'legal'),\n",
       " (43, 'law'),\n",
       " (41, 'state')]"
      ]
     },
     "execution_count": 310,
     "metadata": {},
     "output_type": "execute_result"
    }
   ],
   "source": [
    "counts_n = [(wordCount_n[w], w) for w in wordCount_n]\n",
    "counts_n.sort()\n",
    "counts_n.reverse()\n",
    "counts_n[:10]"
   ]
  },
  {
   "cell_type": "code",
   "execution_count": 311,
   "metadata": {},
   "outputs": [
    {
     "data": {
      "image/png": "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\n",
      "text/plain": [
       "<Figure size 1440x720 with 1 Axes>"
      ]
     },
     "metadata": {
      "needs_background": "light"
     },
     "output_type": "display_data"
    }
   ],
   "source": [
    "words_df_n = pd.DataFrame.from_dict(counts_n)\n",
    "sns.barplot(data=words_df_n[:50], x=0, y=1)\n",
    "plt.xlabel(\"Count\")\n",
    "plt.ylabel(\"Words\")\n",
    "plt.title(\"Word Frequency\")\n",
    "plt.show()"
   ]
  },
  {
   "cell_type": "markdown",
   "metadata": {},
   "source": [
    "## Right titles wordcount"
   ]
  },
  {
   "cell_type": "code",
   "execution_count": 312,
   "metadata": {},
   "outputs": [],
   "source": [
    "wordCount_r = defaultdict(int)\n",
    "totalWords = 0\n",
    "\n",
    "for title in right_titles:\n",
    "    t = title\n",
    "    t = \"\".join(t)\n",
    "    words = t.strip().split()\n",
    "    for w in words:\n",
    "        if w in stop_words:\n",
    "            continue\n",
    "        else:\n",
    "            totalWords += 1\n",
    "            wordCount_r[w] += 1"
   ]
  },
  {
   "cell_type": "code",
   "execution_count": 313,
   "metadata": {},
   "outputs": [
    {
     "data": {
      "text/plain": [
       "[(247, 'trump'),\n",
       " (163, 'impeachment'),\n",
       " (103, 'christmas'),\n",
       " (91, 'democrats'),\n",
       " (79, 'boycott'),\n",
       " (72, 'new'),\n",
       " (60, 'boycottboycott'),\n",
       " (59, 'support'),\n",
       " (53, 'one'),\n",
       " (43, 'time')]"
      ]
     },
     "execution_count": 313,
     "metadata": {},
     "output_type": "execute_result"
    }
   ],
   "source": [
    "counts_r = [(wordCount_r[w], w) for w in wordCount_r]\n",
    "counts_r.sort()\n",
    "counts_r.reverse()\n",
    "counts_r[:10]"
   ]
  },
  {
   "cell_type": "code",
   "execution_count": 314,
   "metadata": {},
   "outputs": [
    {
     "data": {
      "image/png": "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\n",
      "text/plain": [
       "<Figure size 1440x720 with 1 Axes>"
      ]
     },
     "metadata": {
      "needs_background": "light"
     },
     "output_type": "display_data"
    }
   ],
   "source": [
    "words_df_r = pd.DataFrame.from_dict(counts_r)\n",
    "sns.barplot(data=words_df_r[:50], x=0, y=1)\n",
    "plt.xlabel(\"Count\")\n",
    "plt.ylabel(\"Words\")\n",
    "plt.title(\"Word Frequency\")\n",
    "plt.show()"
   ]
  },
  {
   "cell_type": "markdown",
   "metadata": {},
   "source": [
    "## Left titles wordcount"
   ]
  },
  {
   "cell_type": "code",
   "execution_count": 315,
   "metadata": {},
   "outputs": [],
   "source": [
    "wordCount_l = defaultdict(int)\n",
    "totalWords = 0\n",
    "\n",
    "for title in left_titles:\n",
    "    t = title\n",
    "    t = \"\".join(t)\n",
    "    words = t.strip().split()\n",
    "    for w in words:\n",
    "        if w in stop_words:\n",
    "            continue\n",
    "        else:\n",
    "            totalWords += 1\n",
    "            wordCount_l[w] += 1"
   ]
  },
  {
   "cell_type": "code",
   "execution_count": 316,
   "metadata": {},
   "outputs": [
    {
     "data": {
      "text/plain": [
       "[(807, 'trump'),\n",
       " (232, 'impeachment'),\n",
       " (129, 'president'),\n",
       " (126, 'house'),\n",
       " (99, 'ukraine'),\n",
       " (96, 'says'),\n",
       " (88, 'new'),\n",
       " (87, 'democrats'),\n",
       " (79, 'one'),\n",
       " (75, 'white')]"
      ]
     },
     "execution_count": 316,
     "metadata": {},
     "output_type": "execute_result"
    }
   ],
   "source": [
    "counts_l = [(wordCount_l[w], w) for w in wordCount_l]\n",
    "counts_l.sort()\n",
    "counts_l.reverse()\n",
    "counts_l[:10]"
   ]
  },
  {
   "cell_type": "code",
   "execution_count": 317,
   "metadata": {},
   "outputs": [
    {
     "data": {
      "image/png": "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\n",
      "text/plain": [
       "<Figure size 1440x720 with 1 Axes>"
      ]
     },
     "metadata": {
      "needs_background": "light"
     },
     "output_type": "display_data"
    }
   ],
   "source": [
    "words_df_l = pd.DataFrame.from_dict(counts_l)\n",
    "sns.barplot(data=words_df_l[:50], x=0, y=1)\n",
    "plt.xlabel(\"Count\")\n",
    "plt.ylabel(\"Words\")\n",
    "plt.title(\"Word Frequency\")\n",
    "plt.show()"
   ]
  },
  {
   "cell_type": "markdown",
   "metadata": {},
   "source": [
    "# Model Building"
   ]
  },
  {
   "cell_type": "code",
   "execution_count": 326,
   "metadata": {},
   "outputs": [],
   "source": [
    "neutral_titles_final = []\n",
    "right_titles_final = []\n",
    "left_titles_final = []\n",
    "\n",
    "for title in neutral_titles:\n",
    "    title = [words for words in title.split() if words not in stop_words]\n",
    "    title = \" \".join(title)\n",
    "    neutral_titles_final.append(title)\n",
    "    \n",
    "for title in right_txitles:\n",
    "    title = [words for words in title.split() if words not in stop_words]\n",
    "    title = \" \".join(title)\n",
    "    right_titles_final.append(title)\n",
    "    \n",
    "for title in left_titles:\n",
    "    title = [words for words in title.split() if words not in stop_words]\n",
    "    title = \" \".join(title)\n",
    "    left_titles_final.append(title)"
   ]
  },
  {
   "cell_type": "code",
   "execution_count": 384,
   "metadata": {},
   "outputs": [],
   "source": [
    "y_neutral = [int(x) for x in upvotes_list]\n",
    "y_right = [int(x) for x in right_upvotes_list]\n",
    "y_left = [int(x) for x in left_upvotes_list]"
   ]
  },
  {
   "cell_type": "code",
   "execution_count": 387,
   "metadata": {},
   "outputs": [],
   "source": [
    "X_train_n, X_val_n, y_train_n, y_val_n = train_test_split(neutral_titles, y_neutral, test_size=0.25)\n",
    "X_train_r, X_val_r, y_train_r, y_val_r = train_test_split(right_titles, y_right, test_size=0.25)\n",
    "X_train_l, X_val_l, y_train_l, y_val_l = train_test_split(left_titles, y_left, test_size=0.25)\n",
    "\n",
    "estimators = [(\"tf_idf\", TfidfVectorizer()), \n",
    "              (\"ridge\", linear_model.Ridge())]\n",
    "\n",
    "model_neutral = Pipeline(estimators)\n",
    "model_left = Pipeline(estimators)\n",
    "model_right = Pipeline(estimators)"
   ]
  },
  {
   "cell_type": "code",
   "execution_count": 388,
   "metadata": {},
   "outputs": [
    {
     "data": {
      "text/plain": [
       "Pipeline(memory=None,\n",
       "         steps=[('tf_idf',\n",
       "                 TfidfVectorizer(analyzer='word', binary=False,\n",
       "                                 decode_error='strict',\n",
       "                                 dtype=<class 'numpy.float64'>,\n",
       "                                 encoding='utf-8', input='content',\n",
       "                                 lowercase=True, max_df=1.0, max_features=None,\n",
       "                                 min_df=1, ngram_range=(1, 1), norm='l2',\n",
       "                                 preprocessor=None, smooth_idf=True,\n",
       "                                 stop_words=None, strip_accents=None,\n",
       "                                 sublinear_tf=False,\n",
       "                                 token_pattern='(?u)\\\\b\\\\w\\\\w+\\\\b',\n",
       "                                 tokenizer=None, use_idf=True,\n",
       "                                 vocabulary=None)),\n",
       "                ('ridge',\n",
       "                 Ridge(alpha=1.0, copy_X=True, fit_intercept=True,\n",
       "                       max_iter=None, normalize=False, random_state=None,\n",
       "                       solver='auto', tol=0.001))],\n",
       "         verbose=False)"
      ]
     },
     "execution_count": 388,
     "metadata": {},
     "output_type": "execute_result"
    }
   ],
   "source": [
    "model_neutral.fit(X_train_n, y_train_n)"
   ]
  },
  {
   "cell_type": "code",
   "execution_count": 389,
   "metadata": {},
   "outputs": [
    {
     "data": {
      "text/plain": [
       "Pipeline(memory=None,\n",
       "         steps=[('tf_idf',\n",
       "                 TfidfVectorizer(analyzer='word', binary=False,\n",
       "                                 decode_error='strict',\n",
       "                                 dtype=<class 'numpy.float64'>,\n",
       "                                 encoding='utf-8', input='content',\n",
       "                                 lowercase=True, max_df=1.0, max_features=None,\n",
       "                                 min_df=1, ngram_range=(1, 1), norm='l2',\n",
       "                                 preprocessor=None, smooth_idf=True,\n",
       "                                 stop_words=None, strip_accents=None,\n",
       "                                 sublinear_tf=False,\n",
       "                                 token_pattern='(?u)\\\\b\\\\w\\\\w+\\\\b',\n",
       "                                 tokenizer=None, use_idf=True,\n",
       "                                 vocabulary=None)),\n",
       "                ('ridge',\n",
       "                 Ridge(alpha=1.0, copy_X=True, fit_intercept=True,\n",
       "                       max_iter=None, normalize=False, random_state=None,\n",
       "                       solver='auto', tol=0.001))],\n",
       "         verbose=False)"
      ]
     },
     "execution_count": 389,
     "metadata": {},
     "output_type": "execute_result"
    }
   ],
   "source": [
    "model_left.fit(X_train_l, y_train_l)"
   ]
  },
  {
   "cell_type": "code",
   "execution_count": 390,
   "metadata": {},
   "outputs": [
    {
     "data": {
      "text/plain": [
       "Pipeline(memory=None,\n",
       "         steps=[('tf_idf',\n",
       "                 TfidfVectorizer(analyzer='word', binary=False,\n",
       "                                 decode_error='strict',\n",
       "                                 dtype=<class 'numpy.float64'>,\n",
       "                                 encoding='utf-8', input='content',\n",
       "                                 lowercase=True, max_df=1.0, max_features=None,\n",
       "                                 min_df=1, ngram_range=(1, 1), norm='l2',\n",
       "                                 preprocessor=None, smooth_idf=True,\n",
       "                                 stop_words=None, strip_accents=None,\n",
       "                                 sublinear_tf=False,\n",
       "                                 token_pattern='(?u)\\\\b\\\\w\\\\w+\\\\b',\n",
       "                                 tokenizer=None, use_idf=True,\n",
       "                                 vocabulary=None)),\n",
       "                ('ridge',\n",
       "                 Ridge(alpha=1.0, copy_X=True, fit_intercept=True,\n",
       "                       max_iter=None, normalize=False, random_state=None,\n",
       "                       solver='auto', tol=0.001))],\n",
       "         verbose=False)"
      ]
     },
     "execution_count": 390,
     "metadata": {},
     "output_type": "execute_result"
    }
   ],
   "source": [
    "model_right.fit(X_train_r, y_train_r)"
   ]
  },
  {
   "cell_type": "code",
   "execution_count": 394,
   "metadata": {},
   "outputs": [],
   "source": [
    "params = {\"ridge__alpha\":[0.1, 0.2, 0.3, 0.4, 0.5, 0.8, 1, 3, 5, 10], \n",
    "          \"tf_idf__min_df\": [1, 2, 3, 4, 5], \n",
    "          \"tf_idf__ngram_range\": [(1,1), (1,2)], \n",
    "          \"tf_idf__stop_words\": [None, \"english\"]}"
   ]
  },
  {
   "cell_type": "code",
   "execution_count": 395,
   "metadata": {},
   "outputs": [
    {
     "data": {
      "text/plain": [
       "GridSearchCV(cv='warn', error_score='raise-deprecating',\n",
       "             estimator=Pipeline(memory=None,\n",
       "                                steps=[('tf_idf',\n",
       "                                        TfidfVectorizer(analyzer='word',\n",
       "                                                        binary=False,\n",
       "                                                        decode_error='strict',\n",
       "                                                        dtype=<class 'numpy.float64'>,\n",
       "                                                        encoding='utf-8',\n",
       "                                                        input='content',\n",
       "                                                        lowercase=True,\n",
       "                                                        max_df=1.0,\n",
       "                                                        max_features=None,\n",
       "                                                        min_df=1,\n",
       "                                                        ngram_range=(1, 1),\n",
       "                                                        norm='l2',\n",
       "                                                        preprocessor=None,\n",
       "                                                        smooth_idf=True,\n",
       "                                                        sto...\n",
       "                                              fit_intercept=True, max_iter=None,\n",
       "                                              normalize=False,\n",
       "                                              random_state=None, solver='auto',\n",
       "                                              tol=0.001))],\n",
       "                                verbose=False),\n",
       "             iid='warn', n_jobs=None,\n",
       "             param_grid={'ridge__alpha': [0.1, 0.2, 0.3, 0.4, 0.5, 0.8, 1, 3, 5,\n",
       "                                          10],\n",
       "                         'tf_idf__min_df': [1, 2, 3, 4, 5],\n",
       "                         'tf_idf__ngram_range': [(1, 1), (1, 2)],\n",
       "                         'tf_idf__stop_words': [None, 'english']},\n",
       "             pre_dispatch='2*n_jobs', refit=True, return_train_score=False,\n",
       "             scoring=None, verbose=0)"
      ]
     },
     "execution_count": 395,
     "metadata": {},
     "output_type": "execute_result"
    }
   ],
   "source": [
    "grid_neutral = GridSearchCV(estimator = model_neutral, param_grid = params)\n",
    "grid_right = GridSearchCV(estimator = model_right, param_grid = params)\n",
    "grid_left = GridSearchCV(estimator = model_left, param_grid = params)\n",
    "\n",
    "grid_neutral.fit(X_train_n, y_train_n)\n",
    "grid_right.fit(X_train_r, y_train_r)\n",
    "grid_left.fit(X_train_l, y_train_l)"
   ]
  },
  {
   "cell_type": "code",
   "execution_count": 397,
   "metadata": {},
   "outputs": [
    {
     "data": {
      "text/plain": [
       "Pipeline(memory=None,\n",
       "         steps=[('tf_idf',\n",
       "                 TfidfVectorizer(analyzer='word', binary=False,\n",
       "                                 decode_error='strict',\n",
       "                                 dtype=<class 'numpy.float64'>,\n",
       "                                 encoding='utf-8', input='content',\n",
       "                                 lowercase=True, max_df=1.0, max_features=None,\n",
       "                                 min_df=1, ngram_range=(1, 2), norm='l2',\n",
       "                                 preprocessor=None, smooth_idf=True,\n",
       "                                 stop_words=None, strip_accents=None,\n",
       "                                 sublinear_tf=False,\n",
       "                                 token_pattern='(?u)\\\\b\\\\w\\\\w+\\\\b',\n",
       "                                 tokenizer=None, use_idf=True,\n",
       "                                 vocabulary=None)),\n",
       "                ('ridge',\n",
       "                 Ridge(alpha=10, copy_X=True, fit_intercept=True, max_iter=None,\n",
       "                       normalize=False, random_state=None, solver='auto',\n",
       "                       tol=0.001))],\n",
       "         verbose=False)"
      ]
     },
     "execution_count": 397,
     "metadata": {},
     "output_type": "execute_result"
    }
   ],
   "source": [
    "grid_neutral.best_estimator_"
   ]
  },
  {
   "cell_type": "code",
   "execution_count": 399,
   "metadata": {},
   "outputs": [
    {
     "data": {
      "text/plain": [
       "Pipeline(memory=None,\n",
       "         steps=[('tf_idf',\n",
       "                 TfidfVectorizer(analyzer='word', binary=False,\n",
       "                                 decode_error='strict',\n",
       "                                 dtype=<class 'numpy.float64'>,\n",
       "                                 encoding='utf-8', input='content',\n",
       "                                 lowercase=True, max_df=1.0, max_features=None,\n",
       "                                 min_df=1, ngram_range=(1, 1), norm='l2',\n",
       "                                 preprocessor=None, smooth_idf=True,\n",
       "                                 stop_words=None, strip_accents=None,\n",
       "                                 sublinear_tf=False,\n",
       "                                 token_pattern='(?u)\\\\b\\\\w\\\\w+\\\\b',\n",
       "                                 tokenizer=None, use_idf=True,\n",
       "                                 vocabulary=None)),\n",
       "                ('ridge',\n",
       "                 Ridge(alpha=3, copy_X=True, fit_intercept=True, max_iter=None,\n",
       "                       normalize=False, random_state=None, solver='auto',\n",
       "                       tol=0.001))],\n",
       "         verbose=False)"
      ]
     },
     "execution_count": 399,
     "metadata": {},
     "output_type": "execute_result"
    }
   ],
   "source": [
    "grid_right.best_estimator_"
   ]
  },
  {
   "cell_type": "code",
   "execution_count": 400,
   "metadata": {},
   "outputs": [
    {
     "data": {
      "text/plain": [
       "Pipeline(memory=None,\n",
       "         steps=[('tf_idf',\n",
       "                 TfidfVectorizer(analyzer='word', binary=False,\n",
       "                                 decode_error='strict',\n",
       "                                 dtype=<class 'numpy.float64'>,\n",
       "                                 encoding='utf-8', input='content',\n",
       "                                 lowercase=True, max_df=1.0, max_features=None,\n",
       "                                 min_df=4, ngram_range=(1, 2), norm='l2',\n",
       "                                 preprocessor=None, smooth_idf=True,\n",
       "                                 stop_words=None, strip_accents=None,\n",
       "                                 sublinear_tf=False,\n",
       "                                 token_pattern='(?u)\\\\b\\\\w\\\\w+\\\\b',\n",
       "                                 tokenizer=None, use_idf=True,\n",
       "                                 vocabulary=None)),\n",
       "                ('ridge',\n",
       "                 Ridge(alpha=10, copy_X=True, fit_intercept=True, max_iter=None,\n",
       "                       normalize=False, random_state=None, solver='auto',\n",
       "                       tol=0.001))],\n",
       "         verbose=False)"
      ]
     },
     "execution_count": 400,
     "metadata": {},
     "output_type": "execute_result"
    }
   ],
   "source": [
    "grid_left.best_estimator_"
   ]
  },
  {
   "cell_type": "code",
   "execution_count": 412,
   "metadata": {},
   "outputs": [],
   "source": [
    "def score_predictor(text: str):\n",
    "    text = text_cleaner(text)\n",
    "    text = [text]\n",
    "    which_affiliation = input(\"Will you be posting on a neutral, left or right leaning subreddit (n, l, r): \")\n",
    "    if which_affiliation == 'n':\n",
    "        return grid_neutral.predict(text)\n",
    "    elif which_affiliation == 'l':\n",
    "        return grid_left.predict(text)\n",
    "    elif which_affiliation == 'r':\n",
    "        return grid_right.predict(text)\n",
    "    else:\n",
    "        print('False input, try again')\n",
    "        score_predictor(text)"
   ]
  },
  {
   "cell_type": "markdown",
   "metadata": {},
   "source": [
    "."
   ]
  },
  {
   "cell_type": "markdown",
   "metadata": {},
   "source": [
    ".\n"
   ]
  },
  {
   "cell_type": "markdown",
   "metadata": {},
   "source": [
    "."
   ]
  },
  {
   "cell_type": "code",
   "execution_count": 670,
   "metadata": {},
   "outputs": [],
   "source": [
    "neutral_titles_df = pd.DataFrame(data = {'titles': neutral_titles})\n",
    "left_titles_df = pd.DataFrame(data = {'titles': left_titles})\n",
    "right_titles_df = pd.DataFrame(data = {'titles': right_titles})\n",
    "\n",
    "neutral_titles_df.to_csv(\"neutral_titles.csv\", sep = ',', index = False)\n",
    "left_titles_df.to_csv(\"left_titles.csv\", sep = ',', index = False)\n",
    "right_titles_df.to_csv(\"right_titles.csv\", sep = ',', index = False)"
   ]
  },
  {
   "cell_type": "markdown",
   "metadata": {},
   "source": [
    "# Scraping reddit comments"
   ]
  },
  {
   "cell_type": "markdown",
   "metadata": {},
   "source": [
    "## Left leaning comments"
   ]
  },
  {
   "cell_type": "code",
   "execution_count": null,
   "metadata": {},
   "outputs": [],
   "source": [
    "starter_url = \"https://old.reddit.com/r/liberal\"\n",
    "driver.get(starter_url)\n",
    "\n",
    "links_list = []\n",
    "current_url = starter_url\n",
    "for x in range(15):\n",
    "    page = myopener.open(current_url)\n",
    "    html = page.read().decode('utf-8')\n",
    "    soup = BeautifulSoup(html, 'html.parser')\n",
    "    links = soup.select('.may-blank')\n",
    "\n",
    "    for link in links:\n",
    "        if 'class' in link.attrs and 'comments' in link['class']:\n",
    "            links_list.append(link['href'])\n",
    "        \n",
    "    time.sleep(5)\n",
    "    \n",
    "    driver.get(current_url)\n",
    "    button = driver.find_element_by_css_selector(\"a[rel='nofollow next']\")\n",
    "    button.click()\n",
    "    current_url = driver.current_url"
   ]
  },
  {
   "cell_type": "code",
   "execution_count": 643,
   "metadata": {},
   "outputs": [],
   "source": [
    "starter_url = \"https://old.reddit.com/r/politics\"\n",
    "driver.get(starter_url)\n",
    "\n",
    "current_url = starter_url\n",
    "for x in range(15):\n",
    "    page = myopener.open(current_url)\n",
    "    html = page.read().decode('utf-8')\n",
    "    soup = BeautifulSoup(html, 'html.parser')\n",
    "    links = soup.select('.may-blank')\n",
    "\n",
    "    for link in links:\n",
    "        if 'class' in link.attrs and 'comments' in link['class']:\n",
    "            links_list.append(link['href'])\n",
    "        \n",
    "    time.sleep(5)\n",
    "    \n",
    "    driver.get(current_url)\n",
    "    button = driver.find_element_by_css_selector(\"a[rel='nofollow next']\")\n",
    "    button.click()\n",
    "    current_url = driver.current_url"
   ]
  },
  {
   "cell_type": "code",
   "execution_count": 645,
   "metadata": {},
   "outputs": [],
   "source": [
    "starter_url = \"https://old.reddit.com/r/esist\"\n",
    "driver.get(starter_url)\n",
    "\n",
    "current_url = starter_url\n",
    "for x in range(15):\n",
    "    page = myopener.open(current_url)\n",
    "    html = page.read().decode('utf-8')\n",
    "    soup = BeautifulSoup(html, 'html.parser')\n",
    "    links = soup.select('.may-blank')\n",
    "\n",
    "    for link in links:\n",
    "        if 'class' in link.attrs and 'comments' in link['class']:\n",
    "            links_list.append(link['href'])\n",
    "        \n",
    "    time.sleep(5)\n",
    "    \n",
    "    driver.get(current_url)\n",
    "    button = driver.find_element_by_css_selector(\"a[rel='nofollow next']\")\n",
    "    button.click()\n",
    "    current_url = driver.current_url"
   ]
  },
  {
   "cell_type": "code",
   "execution_count": 648,
   "metadata": {},
   "outputs": [],
   "source": [
    "left_comments_text = []\n",
    "for links in links_list:\n",
    "    page = myopener.open(links)\n",
    "    html = page.read().decode('utf-8')\n",
    "    soup = BeautifulSoup(html, 'html.parser', multi_valued_attributes = None)\n",
    "    stuff = soup.select('.commentarea')\n",
    "    \n",
    "    for comments in str(stuff).split('<p>')[1:-2]:\n",
    "        left_comments_text.append(comments.split('</p>')[0])"
   ]
  },
  {
   "cell_type": "code",
   "execution_count": 674,
   "metadata": {},
   "outputs": [],
   "source": [
    "links_list_df = pd.DataFrame(data={'url': links_list})\n",
    "left_comments_df = pd.DataFrame(data={'comment_text': left_comments_text})\n",
    "\n",
    "links_list_df.to_csv(\"left_links.csv\", sep = ',', index = False)\n",
    "left_comments_df.to_csv(\"left_comments.csv\", sep = ',', index = False)"
   ]
  },
  {
   "cell_type": "markdown",
   "metadata": {},
   "source": [
    "## Right leaning comments"
   ]
  },
  {
   "cell_type": "code",
   "execution_count": 3,
   "metadata": {},
   "outputs": [],
   "source": [
    "starter_url = \"https://old.reddit.com/r/conservative\"\n",
    "\n",
    "right_links_list = []\n",
    "current_url = starter_url\n",
    "for x in range(15):\n",
    "    page = myopener.open(current_url)\n",
    "    html = page.read().decode('utf-8')\n",
    "    soup = BeautifulSoup(html, 'html.parser')\n",
    "    links = soup.select('.may-blank')\n",
    "\n",
    "    for link in links:\n",
    "        if 'class' in link.attrs and 'comments' in link['class']:\n",
    "            right_links_list.append(link['href'])\n",
    "        \n",
    "    time.sleep(5)\n",
    "    \n",
    "    driver.get(current_url)\n",
    "    \n",
    "    time.sleep(5)\n",
    "    \n",
    "    button = driver.find_element_by_css_selector(\"a[rel='nofollow next']\")\n",
    "    button.click()\n",
    "    current_url = driver.current_url"
   ]
  },
  {
   "cell_type": "code",
   "execution_count": null,
   "metadata": {},
   "outputs": [],
   "source": [
    "starter_url = \"https://old.reddit.com/r/Libertarian\"\n",
    "driver.get(starter_url)\n",
    "\n",
    "current_url = starter_url\n",
    "for x in range(15):\n",
    "    page = myopener.open(current_url)\n",
    "    html = page.read().decode('utf-8')\n",
    "    soup = BeautifulSoup(html, 'html.parser')\n",
    "    links = soup.select('.may-blank')\n",
    "\n",
    "    for link in links:\n",
    "        if 'class' in link.attrs and 'comments' in link['class']:\n",
    "            right_links_list.append(link['href'])\n",
    "        \n",
    "    time.sleep(5)\n",
    "    \n",
    "    driver.get(current_url)\n",
    "    \n",
    "    time.sleep(5)\n",
    "    \n",
    "    button = driver.find_element_by_css_selector(\"a[rel='nofollow next']\")\n",
    "    button.click()\n",
    "    current_url = driver.current_url"
   ]
  },
  {
   "cell_type": "code",
   "execution_count": 5,
   "metadata": {},
   "outputs": [],
   "source": [
    "starter_url = \"https://old.reddit.com/r/republican\"\n",
    "driver.get(starter_url)\n",
    "\n",
    "current_url = starter_url\n",
    "for x in range(15):\n",
    "    page = myopener.open(current_url)\n",
    "    html = page.read().decode('utf-8')\n",
    "    soup = BeautifulSoup(html, 'html.parser')\n",
    "    links = soup.select('.may-blank')\n",
    "\n",
    "    for link in links:\n",
    "        if 'class' in link.attrs and 'comments' in link['class']:\n",
    "            right_links_list.append(link['href'])\n",
    "        \n",
    "    time.sleep(5)\n",
    "    \n",
    "    driver.get(current_url)\n",
    "    \n",
    "    time.sleep(5)\n",
    "    \n",
    "    button = driver.find_element_by_css_selector(\"a[rel='nofollow next']\")\n",
    "    button.click()\n",
    "    current_url = driver.current_url"
   ]
  },
  {
   "cell_type": "code",
   "execution_count": null,
   "metadata": {},
   "outputs": [],
   "source": [
    "right_comments_text = []\n",
    "for links in right_links_list:\n",
    "    page = myopener.open(links)\n",
    "    html = page.read().decode('utf-8')\n",
    "    soup = BeautifulSoup(html, 'html.parser', multi_valued_attributes = None)\n",
    "    stuff = soup.select('.commentarea')\n",
    "    \n",
    "    for comments in str(stuff).split('<p>')[1:-2]:\n",
    "        right_comments_text.append(comments.split('</p>')[0])"
   ]
  },
  {
   "cell_type": "code",
   "execution_count": null,
   "metadata": {},
   "outputs": [],
   "source": [
    "right_links_list_df = pd.DataFrame(data={'url': right_links_list})\n",
    "right_comments_df = pd.DataFrame(data={'comment_text': right_comments_text})\n",
    "\n",
    "right_links_list_df.to_csv(\"right_links.csv\", sep = ',', index = False)\n",
    "right_comments_df.to_csv(\"right_comments.csv\", sep = ',', index = False)"
   ]
  },
  {
   "cell_type": "code",
   "execution_count": 52,
   "metadata": {},
   "outputs": [],
   "source": [
    "right_comments = pd.read_csv('right_comments.csv')\n",
    "left_comments = pd.read_csv('left_comments.csv')"
   ]
  },
  {
   "cell_type": "code",
   "execution_count": 53,
   "metadata": {},
   "outputs": [
    {
     "data": {
      "text/plain": [
       "28695"
      ]
     },
     "execution_count": 53,
     "metadata": {},
     "output_type": "execute_result"
    }
   ],
   "source": [
    "len(right_comments)"
   ]
  },
  {
   "cell_type": "code",
   "execution_count": 54,
   "metadata": {},
   "outputs": [
    {
     "data": {
      "text/plain": [
       "60353"
      ]
     },
     "execution_count": 54,
     "metadata": {},
     "output_type": "execute_result"
    }
   ],
   "source": [
    "len(left_comments)"
   ]
  },
  {
   "cell_type": "markdown",
   "metadata": {},
   "source": [
    "#### We can see that with almost 3 times as many left-leaning comments, we will have problems with imbalanced classifiers"
   ]
  },
  {
   "cell_type": "markdown",
   "metadata": {},
   "source": [
    "## Topic Modeling - Text Cleaning"
   ]
  },
  {
   "cell_type": "code",
   "execution_count": 61,
   "metadata": {},
   "outputs": [
    {
     "name": "stderr",
     "output_type": "stream",
     "text": [
      "[nltk_data] Downloading package stopwords to /home/jovyan/nltk_data...\n",
      "[nltk_data]   Package stopwords is already up-to-date!\n"
     ]
    }
   ],
   "source": [
    "from nltk.corpus import stopwords\n",
    "nltk.download('stopwords')\n",
    "stop_words = set(stopwords.words(\"english\"))\n",
    "stop_words.add('href')\n",
    "stop_words.add('em')\n",
    "stop_words.add('rel')\n",
    "stop_words.add('nofollow')\n",
    "stop_words.add('com')\n",
    "stop_words.add('www')\n",
    "stop_words.add('https')"
   ]
  },
  {
   "cell_type": "code",
   "execution_count": 62,
   "metadata": {},
   "outputs": [],
   "source": [
    "from sklearn.feature_extraction.text import CountVectorizer "
   ]
  },
  {
   "cell_type": "code",
   "execution_count": 63,
   "metadata": {},
   "outputs": [],
   "source": [
    "def text_cleaner(text):\n",
    "    text = text.replace('[deleted]', \"\")\n",
    "    text = re.sub(\"[^a-zA-Z]\", \" \", text)\n",
    "    text = ' '.join(text.split())\n",
    "    text = text.lower()\n",
    "    return text\n",
    "\n",
    "def rem_stopwords(text):\n",
    "    text_n = []\n",
    "    if len(text) == 0:\n",
    "        return None\n",
    "    for words in text.split():\n",
    "        if words in stop_words or len(words) <= 1 or 'href' in words:\n",
    "            continue\n",
    "        else:\n",
    "            text_n.append(words)\n",
    "    text_new = \" \".join(text_n)\n",
    "    return text_new"
   ]
  },
  {
   "cell_type": "code",
   "execution_count": 74,
   "metadata": {},
   "outputs": [],
   "source": [
    "right_comments_clean = [text_cleaner(i) for i in right_comments['comment_text']]\n",
    "left_comments_clean = [text_cleaner(i) for i in left_comments['comment_text']]\n",
    "right_affiliation = ['right-leaning'] * len(right_comments_clean)\n",
    "left_affiliation = ['left-leaning'] * len(left_comments_clean)\n",
    "\n",
    "right_userID = list(range(len(right_comments_clean)+1))\n",
    "left_userID = list(range(len(left_comments_clean)+1))\n",
    "\n",
    "right_df = pd.DataFrame(list(zip(right_comments_clean, right_affiliation, right_userID)), \n",
    "                        columns = ['comment_text', 'affiliation', 'userID'])\n",
    "left_df = pd.DataFrame(list(zip(left_comments_clean, left_affiliation, left_userID)), \n",
    "                       columns = ['comment_text', 'affiliation', 'userID'])\n",
    "all_list = right_comments_clean + left_comments_clean\n",
    "all_df = pd.concat([right_df, left_df], ignore_index=True)"
   ]
  },
  {
   "cell_type": "code",
   "execution_count": 75,
   "metadata": {},
   "outputs": [],
   "source": [
    "all_list_clean = [rem_stopwords(a) for a in all_list if rem_stopwords(a) != None]"
   ]
  },
  {
   "cell_type": "code",
   "execution_count": 13,
   "metadata": {},
   "outputs": [],
   "source": [
    "all_words = set()\n",
    "for line in all_list_clean:\n",
    "    text = \"\".join(line)\n",
    "    text = text.strip().split()\n",
    "    for words in text:\n",
    "        all_words.add(words)"
   ]
  },
  {
   "cell_type": "code",
   "execution_count": 12,
   "metadata": {},
   "outputs": [],
   "source": [
    "vec = CountVectorizer()\n",
    "dtm = vec.fit_transform(all_list_clean)\n",
    "dtm_t = dtm.transpose()"
   ]
  },
  {
   "cell_type": "code",
   "execution_count": 13,
   "metadata": {},
   "outputs": [],
   "source": [
    "dtm_df = pd.DataFrame(dtm.toarray(), columns = vec.get_feature_names())"
   ]
  },
  {
   "cell_type": "code",
   "execution_count": 14,
   "metadata": {},
   "outputs": [],
   "source": [
    "dtm_sparse = scipy.sparse.csr_matrix(dtm_t)\n",
    "corpus = matutils.Sparse2Corpus(dtm_sparse)"
   ]
  },
  {
   "cell_type": "code",
   "execution_count": 15,
   "metadata": {},
   "outputs": [],
   "source": [
    "id2word = dict()\n",
    "for word in all_words:\n",
    "    try:\n",
    "        id2word.update({dtm_df.columns.get_loc(word): word})\n",
    "    except KeyError:\n",
    "        continue\n",
    "        \n",
    "tfidfv = TfidfVectorizer()\n",
    "tfidfv_fit = tfidfv.fit_transform(all_list)\n",
    "word2id = dict((k,v) for k, v in tfidfv.vocabulary_.items())\n",
    "d = corpora.Dictionary()\n",
    "d.id2token = id2word\n",
    "d.token2id = word2id"
   ]
  },
  {
   "cell_type": "code",
   "execution_count": 17,
   "metadata": {},
   "outputs": [],
   "source": [
    "lda = models.LdaModel(corpus=corpus, \n",
    "                      id2word=d, \n",
    "                      num_topics=8,\n",
    "                      passes=100)"
   ]
  },
  {
   "cell_type": "code",
   "execution_count": 18,
   "metadata": {},
   "outputs": [
    {
     "data": {
      "text/plain": [
       "[(0,\n",
       "  '0.033*\"trickled\" + 0.017*\"ekh\" + 0.014*\"prefect\" + 0.014*\"bi\" + 0.011*\"wokescold\" + 0.011*\"virginian\" + 0.011*\"libya\" + 0.010*\"russicans\" + 0.008*\"vis\" + 0.007*\"grapples\"'),\n",
       " (1,\n",
       "  '0.028*\"whiny\" + 0.019*\"citation\" + 0.018*\"qr\" + 0.017*\"opposing\" + 0.016*\"poena\" + 0.014*\"gop\" + 0.012*\"creeds\" + 0.011*\"stakeholder\" + 0.011*\"unfamiliar\" + 0.009*\"whiplashed\"'),\n",
       " (2,\n",
       "  '0.032*\"strangling\" + 0.012*\"confrontational\" + 0.009*\"perfectly\" + 0.009*\"pedestrian\" + 0.009*\"gb\" + 0.009*\"atomic\" + 0.009*\"counting\" + 0.009*\"harrassment\" + 0.009*\"roundabout\" + 0.008*\"organizations\"'),\n",
       " (3,\n",
       "  '0.019*\"pedestrian\" + 0.017*\"libya\" + 0.016*\"trickled\" + 0.013*\"theinsider\" + 0.012*\"revulsion\" + 0.011*\"geopolitcal\" + 0.010*\"kju\" + 0.009*\"wokescold\" + 0.008*\"oikos\" + 0.008*\"shaving\"'),\n",
       " (4,\n",
       "  '0.013*\"trickled\" + 0.010*\"gomer\" + 0.009*\"wandered\" + 0.009*\"sumpter\" + 0.008*\"prefect\" + 0.008*\"conspirator\" + 0.007*\"possessing\" + 0.007*\"canard\" + 0.007*\"pnuahwrioeogcpcbgayycw\" + 0.007*\"tribunal\"'),\n",
       " (5,\n",
       "  '0.016*\"pedestrian\" + 0.011*\"wokescold\" + 0.008*\"modsupport\" + 0.007*\"libya\" + 0.007*\"oikos\" + 0.007*\"geopolitcal\" + 0.006*\"gorge\" + 0.006*\"euros\" + 0.006*\"counteract\" + 0.005*\"unwanted\"'),\n",
       " (6,\n",
       "  '0.044*\"repeated\" + 0.036*\"repealing\" + 0.029*\"plague\" + 0.027*\"poena\" + 0.025*\"imgur\" + 0.023*\"seditious\" + 0.021*\"virginian\" + 0.016*\"reclaim\" + 0.015*\"study\" + 0.014*\"commanding\"'),\n",
       " (7,\n",
       "  '0.023*\"unwanted\" + 0.022*\"nepotistic\" + 0.011*\"waclimate\" + 0.010*\"forthright\" + 0.010*\"amongst\" + 0.008*\"xfm\" + 0.008*\"gls\" + 0.007*\"xenophobes\" + 0.007*\"ime\" + 0.007*\"nuisances\"')]"
      ]
     },
     "execution_count": 18,
     "metadata": {},
     "output_type": "execute_result"
    }
   ],
   "source": [
    "lda.print_topics()"
   ]
  },
  {
   "cell_type": "code",
   "execution_count": 19,
   "metadata": {},
   "outputs": [],
   "source": [
    "pyLDAvis.enable_notebook()"
   ]
  },
  {
   "cell_type": "code",
   "execution_count": 20,
   "metadata": {},
   "outputs": [],
   "source": [
    "vis = pyLDAvis.gensim.prepare(lda, corpus, d)"
   ]
  },
  {
   "cell_type": "code",
   "execution_count": null,
   "metadata": {},
   "outputs": [],
   "source": [
    "vis"
   ]
  },
  {
   "cell_type": "markdown",
   "metadata": {},
   "source": [
    "## Creating a logistic regression based classification"
   ]
  },
  {
   "cell_type": "markdown",
   "metadata": {},
   "source": [
    "### Redo dataframe creation, this time without stopwords"
   ]
  },
  {
   "cell_type": "code",
   "execution_count": 93,
   "metadata": {},
   "outputs": [],
   "source": [
    "from sklearn.linear_model import LogisticRegression\n",
    "from sklearn.metrics import f1_score\n",
    "from sklearn.multiclass import OneVsRestClassifier"
   ]
  },
  {
   "cell_type": "code",
   "execution_count": 76,
   "metadata": {},
   "outputs": [],
   "source": [
    "right_comments_clean = [rem_stopwords(i) for i in right_comments_clean if rem_stopwords(i) != None]\n",
    "left_comments_clean = [rem_stopwords(i) for i in left_comments_clean if rem_stopwords(i) != None]\n",
    "right_affiliation = ['right-leaning'] * len(right_comments_clean)\n",
    "left_affiliation = ['left-leaning'] * len(left_comments_clean)\n",
    "\n",
    "all_list = right_comments_clean + left_comments_clean\n",
    "\n",
    "right_userID = list(range(len(right_comments_clean)+1))\n",
    "left_userID = list(range(len(left_comments_clean)+1))\n",
    "\n",
    "right_df = pd.DataFrame(list(zip(right_comments_clean, right_affiliation, right_userID)), \n",
    "                        columns = ['comment_text', 'affiliation', 'userID'])\n",
    "left_df = pd.DataFrame(list(zip(left_comments_clean, left_affiliation, left_userID)), \n",
    "                       columns = ['comment_text', 'affiliation', 'userID'])\n",
    "all_df = pd.concat([right_df, left_df], ignore_index=True)"
   ]
  },
  {
   "cell_type": "code",
   "execution_count": 77,
   "metadata": {},
   "outputs": [],
   "source": [
    "y = pd.get_dummies(all_df['affiliation'])\n",
    "tfidf_vectorizer = TfidfVectorizer(max_df=0.75, max_features=10000)\n",
    "\n",
    "X_train, X_val, y_train, y_val = train_test_split(all_list, y, test_size=0.25)\n",
    "X_train_tfidf = tfidf_vectorizer.fit_transform(X_train)\n",
    "X_val_tfidf = tfidf_vectorizer.transform(X_val)"
   ]
  },
  {
   "cell_type": "code",
   "execution_count": 86,
   "metadata": {},
   "outputs": [],
   "source": [
    "lr = LogisticRegression(class_weight='auto')\n",
    "ovr = OneVsRestClassifier(lr)\n",
    "\n",
    "ovr.fit(X_train_tfidf, y_train)\n",
    "\n",
    "y_pred = ovr.predict(X_val_tfidf)"
   ]
  },
  {
   "cell_type": "code",
   "execution_count": 94,
   "metadata": {},
   "outputs": [],
   "source": [
    "f1_list = []\n",
    "threshold_list = []\n",
    "for threshold in np.arange(.1, .9, .005):\n",
    "    y_pred_p = ovr.predict_proba(X_val_tfidf)\n",
    "    y_pred_new = (y_pred_p >= threshold).astype(int)\n",
    "    f1_list.append(f1_score(y_val, y_pred_new, average = \"micro\"))\n",
    "    threshold_list.append(threshold)"
   ]
  },
  {
   "cell_type": "code",
   "execution_count": 95,
   "metadata": {},
   "outputs": [
    {
     "data": {
      "text/plain": [
       "<matplotlib.axes._subplots.AxesSubplot at 0x7fe0ade82fd0>"
      ]
     },
     "execution_count": 95,
     "metadata": {},
     "output_type": "execute_result"
    },
    {
     "data": {
      "image/png": "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\n",
      "text/plain": [
       "<Figure size 1440x720 with 1 Axes>"
      ]
     },
     "metadata": {
      "needs_background": "light"
     },
     "output_type": "display_data"
    }
   ],
   "source": [
    "threshold_f1 = pd.DataFrame(list(zip(threshold_list, f1_list)), \n",
    "                            columns = ['Threshold', 'F1_Score'])\n",
    "\n",
    "sns.lineplot(x = 'Threshold', y = 'F1_Score', data = threshold_f1)"
   ]
  },
  {
   "cell_type": "code",
   "execution_count": 98,
   "metadata": {},
   "outputs": [],
   "source": [
    "def text_cleaner(in_text):\n",
    "    in_text = regex.sub(\"<[^<]+?>\", \"\", in_text) \n",
    "    in_text = in_text.replace(\"\\n\", \" \")\n",
    "    in_text = in_text.replace(\"'\", \"\")\n",
    "    in_text = regex.sub(\"[^a-zA-Z]\", \" \", in_text)\n",
    "    in_text = \" \".join(in_text.split())\n",
    "    in_text = in_text.lower()\n",
    "    in_text = [word for word in in_text.split() if not word in stop_words]\n",
    "    return \" \".join(in_text)\n",
    "\n",
    "def predictor(in_text):\n",
    "    in_text = text_cleaner(in_text)\n",
    "    tfidf = tfidf_vectorizer.transform([in_text])\n",
    "    y_pred_p = ovr.predict_proba(tfidf)\n",
    "    y_pred_new = (y_pred_p >= threshold_f1.loc[threshold_f1['F1_Score'].idxmax()][0]).astype(int)\n",
    "    return y_pred_new.dot(y_val.columns)[0].upper()\n"
   ]
  },
  {
   "cell_type": "code",
   "execution_count": 101,
   "metadata": {},
   "outputs": [
    {
     "data": {
      "text/plain": [
       "'LEFT-LEANING'"
      ]
     },
     "execution_count": 101,
     "metadata": {},
     "output_type": "execute_result"
    }
   ],
   
  },
  {
   "cell_type": "code",
   "execution_count": null,
   "metadata": {},
   "outputs": [],
   "source": []
  }
 ],
 "metadata": {
  "kernelspec": {
   "display_name": "Python 3",
   "language": "python",
   "name": "python3"
  },
  "language_info": {
   "codemirror_mode": {
    "name": "ipython",
    "version": 3
   },
   "file_extension": ".py",
   "mimetype": "text/x-python",
   "name": "python",
   "nbconvert_exporter": "python",
   "pygments_lexer": "ipython3",
   "version": "3.6.9"
  }
 },
 "nbformat": 4,
 "nbformat_minor": 4
}
