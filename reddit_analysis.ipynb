{
 "cells": [
  {
   "cell_type": "code",
   "execution_count": 1,
   "metadata": {},
   "outputs": [],
   "source": [
    "import time\n",
    "import csv\n",
    "import bs4 as bs\n",
    "import pandas as pd\n",
    "import regex as re \n",
    "import pickle \n",
    "import warnings\n",
    "\n",
    "warnings.filterwarnings(\"ignore\")\n",
    "\n",
    "from urllib.request import FancyURLopener\n",
    "from random import choice\n",
    "from bs4 import SoupStrainer, BeautifulSoup\n",
    "\n",
    "from selenium import webdriver\n",
    "from selenium.webdriver.common.keys import Keys\n",
    "from selenium.webdriver.chrome.options import Options\n",
    "\n",
    "chrome_options = Options()\n",
    "chrome_options.add_argument(\"--headless\")\n",
    "chrome_options.add_argument(\"--no-sandbox\")\n",
    "chrome_options.add_argument(\"--disable-dev-shm-usage\")\n",
    "driver = webdriver.Chrome(\"/usr/local/bin/chromedriver\", chrome_options=chrome_options)\n",
    "\n",
    "user_agents = [\n",
    "    \"Mozilla/5.0 (Windows NT 6.1) AppleWebKit/537.36 (KHTML, like Gecko) Chrome/41.0.2228.0 Safari/537.36\",\n",
    "    \"Opera/9.80 (X11; Linux i686; Ubuntu/14.10) Presto/2.12.388 Version/12.16\",\n",
    "    \"Mozilla/5.0 (Windows; U; Windows NT 6.1; rv:2.2) Gecko/20110201\",\n",
    "    \"Mozilla/5.0 (Macintosh; Intel Mac OS X 10_9_3) AppleWebKit/537.75.14 (KHTML, like Gecko) Version/7.0.3 Safari/7046A194A\",\n",
    "    \"Mozilla/5.0 (Windows NT 10.0; Win64; x64) AppleWebKit/537.36 (KHTML, like Gecko) Chrome/42.0.2311.135 Safari/537.36 Edge/12.246\",\n",
    "]\n",
    "\n",
    "\n",
    "class MyOpener(FancyURLopener, object):\n",
    "    version = choice(user_agents)\n",
    "\n",
    "myopener = MyOpener()"
   ]
  },
  {
   "cell_type": "markdown",
   "metadata": {},
   "source": [
    "# Scraping neutral subreddits"
   ]
  },
  {
   "cell_type": "code",
   "execution_count": 2,
   "metadata": {},
   "outputs": [],
   "source": [
    "starter_url = \"https://old.reddit.com/r/NeutralPolitics\"\n",
    "driver.get(starter_url)\n",
    "\n",
    "title_list = []\n",
    "upvotes_list = []\n",
    "current_url = starter_url\n",
    "for x in range(30):\n",
    "    page = myopener.open(current_url)\n",
    "    html = page.read().decode(\"utf-8\")\n",
    "    soup = BeautifulSoup(html, \"html.parser\")\n",
    "    titles_upvotes = soup.select(\".unvoted\")\n",
    "    x = 0\n",
    "    while x < len(titles_upvotes):\n",
    "        if \"•\" == titles_upvotes[x + 1].get_text():\n",
    "            x = x + 3\n",
    "            continue\n",
    "        else:\n",
    "            upvotes_list.append(str(titles_upvotes[x + 1]).split('=\"')[2].split('\"')[0])\n",
    "            title_list.append(titles_upvotes[x + 2].get_text().split(\" (\")[0])\n",
    "            x = x + 3\n",
    "\n",
    "    time.sleep(5)\n",
    "\n",
    "    driver.get(current_url)\n",
    "    button = driver.find_element_by_css_selector(\"a[rel='nofollow next']\")\n",
    "    button.click()\n",
    "    current_url = driver.current_url"
   ]
  },
  {
   "cell_type": "code",
   "execution_count": null,
   "metadata": {},
   "outputs": [],
   "source": [
    "starter_url = \"https://old.reddit.com/r/news\"\n",
    "driver.get(starter_url)\n",
    "\n",
    "current_url = starter_url\n",
    "for x in range(30):\n",
    "    page = myopener.open(current_url)\n",
    "    html = page.read().decode(\"utf-8\")\n",
    "    soup = BeautifulSoup(html, \"html.parser\")\n",
    "    titles_upvotes = soup.select(\".unvoted\")\n",
    "    x = 0\n",
    "    while x < len(titles_upvotes):\n",
    "        if \"•\" == titles_upvotes[x + 1].get_text():\n",
    "            x = x + 3\n",
    "            continue\n",
    "        else:\n",
    "            upvotes_list.append(str(titles_upvotes[x + 1]).split('=\"')[2].split('\"')[0])\n",
    "            title_list.append(titles_upvotes[x + 2].get_text().split(\" (\")[0])\n",
    "            x = x + 3\n",
    "\n",
    "    time.sleep(5)\n",
    "\n",
    "    driver.get(current_url)\n",
    "    button = driver.find_element_by_css_selector(\"a[rel='nofollow next']\")\n",
    "    button.click()\n",
    "    current_url = driver.current_url"
   ]
  },
  {
   "cell_type": "markdown",
   "metadata": {},
   "source": [
    "# Scraping left leaning subreddits"
   ]
  },
  {
   "cell_type": "markdown",
   "metadata": {},
   "source": [
    "### /r/Democrats"
   ]
  },
  {
   "cell_type": "code",
   "execution_count": 304,
   "metadata": {},
   "outputs": [],
   "source": [
    "starter_url = \"https://old.reddit.com/r/Democrats\"\n",
    "driver.get(starter_url)\n",
    "\n",
    "left_title_list = []\n",
    "left_upvotes_list = []\n",
    "current_url = starter_url\n",
    "for x in range(20):\n",
    "    page = myopener.open(current_url)\n",
    "    html = page.read().decode('utf-8')\n",
    "    soup = BeautifulSoup(html, 'html.parser')\n",
    "    titles_upvotes = soup.select('.unvoted')\n",
    "    x = 0\n",
    "    while x < len(titles_upvotes):\n",
    "        if '•' == titles_upvotes[x+1].get_text():\n",
    "            x = x + 3\n",
    "            continue\n",
    "        else:\n",
    "            left_upvotes_list.append(str(titles_upvotes[x+1]).split(\"=\\\"\")[2].split(\"\\\"\")[0])\n",
    "            left_title_list.append(titles_upvotes[x+2].get_text().split(' (')[0])\n",
    "            x = x + 3\n",
    "            \n",
    "    time.sleep(5)\n",
    "    \n",
    "    driver.get(current_url)\n",
    "    button = driver.find_element_by_css_selector(\"a[rel='nofollow next']\")\n",
    "    button.click()\n",
    "    current_url = driver.current_url"
   ]
  },
  {
   "cell_type": "markdown",
   "metadata": {},
   "source": [
    "### /r/politics"
   ]
  },
  {
   "cell_type": "code",
   "execution_count": 305,
   "metadata": {},
   "outputs": [],
   "source": [
    "starter_url = \"https://old.reddit.com/r/politics\"\n",
    "driver.get(starter_url)\n",
    "\n",
    "current_url = starter_url\n",
    "for x in range(20):\n",
    "    page = myopener.open(current_url)\n",
    "    html = page.read().decode('utf-8')\n",
    "    soup = BeautifulSoup(html, 'html.parser')\n",
    "    titles_upvotes = soup.select('.unvoted')\n",
    "    x = 0\n",
    "    while x < len(titles_upvotes):\n",
    "        if '•' == titles_upvotes[x+1].get_text():\n",
    "            x = x + 3\n",
    "            continue\n",
    "        else:\n",
    "            left_upvotes_list.append(str(titles_upvotes[x+1]).split(\"=\\\"\")[2].split(\"\\\"\")[0])\n",
    "            left_title_list.append(titles_upvotes[x+2].get_text().split(' (')[0])\n",
    "            x = x + 3\n",
    "            \n",
    "    time.sleep(5)\n",
    "    \n",
    "    driver.get(current_url)\n",
    "    button = driver.find_element_by_css_selector(\"a[rel='nofollow next']\")\n",
    "    button.click()\n",
    "    current_url = driver.current_url"
   ]
  },
  {
   "cell_type": "markdown",
   "metadata": {},
   "source": [
    "### /r/esist"
   ]
  },
  {
   "cell_type": "code",
   "execution_count": 306,
   "metadata": {},
   "outputs": [],
   "source": [
    "starter_url = \"https://old.reddit.com/r/esist\"\n",
    "driver.get(starter_url)\n",
    "\n",
    "current_url = starter_url\n",
    "for x in range(20):\n",
    "    page = myopener.open(current_url)\n",
    "    html = page.read().decode('utf-8')\n",
    "    soup = BeautifulSoup(html, 'html.parser')\n",
    "    titles_upvotes = soup.select('.unvoted')\n",
    "    x = 0\n",
    "    while x < len(titles_upvotes):\n",
    "        if '•' == titles_upvotes[x+1].get_text():\n",
    "            x = x + 3\n",
    "            continue\n",
    "        else:\n",
    "            left_upvotes_list.append(str(titles_upvotes[x+1]).split(\"=\\\"\")[2].split(\"\\\"\")[0])\n",
    "            left_title_list.append(titles_upvotes[x+2].get_text().split(' (')[0])\n",
    "            x = x + 3\n",
    "            \n",
    "    time.sleep(5)\n",
    "    \n",
    "    driver.get(current_url)\n",
    "    button = driver.find_element_by_css_selector(\"a[rel='nofollow next']\")\n",
    "    button.click()\n",
    "    current_url = driver.current_url"
   ]
  },
  {
   "cell_type": "markdown",
   "metadata": {},
   "source": [
    "### /r/liberal"
   ]
  },
  {
   "cell_type": "code",
   "execution_count": null,
   "metadata": {},
   "outputs": [],
   "source": [
    "starter_url = \"https://old.reddit.com/r/liberal\"\n",
    "driver.get(starter_url)\n",
    "\n",
    "current_url = starter_url\n",
    "for x in range(20):\n",
    "    page = myopener.open(current_url)\n",
    "    html = page.read().decode('utf-8')\n",
    "    soup = BeautifulSoup(html, 'html.parser')\n",
    "    titles_upvotes = soup.select('.unvoted')\n",
    "    x = 0\n",
    "    while x < len(titles_upvotes):\n",
    "        if '•' == titles_upvotes[x+1].get_text():\n",
    "            x = x + 3\n",
    "            continue\n",
    "        else:\n",
    "            left_upvotes_list.append(str(titles_upvotes[x+1]).split(\"=\\\"\")[2].split(\"\\\"\")[0])\n",
    "            left_title_list.append(titles_upvotes[x+2].get_text().split(' (')[0])\n",
    "            x = x + 3\n",
    "            \n",
    "    time.sleep(5)\n",
    "    \n",
    "    driver.get(current_url)\n",
    "    button = driver.find_element_by_css_selector(\"a[rel='nofollow next']\")\n",
    "    button.click()\n",
    "    current_url = driver.current_url"
   ]
  },
  {
   "cell_type": "markdown",
   "metadata": {},
   "source": [
    "# Scraping right leaning subreddits"
   ]
  },
  {
   "cell_type": "markdown",
   "metadata": {},
   "source": [
    "### /r/Conservative"
   ]
  },
  {
   "cell_type": "code",
   "execution_count": 211,
   "metadata": {},
   "outputs": [],
   "source": [
    "starter_url = \"https://old.reddit.com/r/Conservative\"\n",
    "driver.get(starter_url)\n",
    "\n",
    "right_title_list = []\n",
    "right_upvotes_list = []\n",
    "current_url = starter_url\n",
    "for x in range(20):\n",
    "    page = myopener.open(current_url)\n",
    "    html = page.read().decode('utf-8')\n",
    "    soup = BeautifulSoup(html, 'html.parser')\n",
    "    titles_upvotes = soup.select('.unvoted')\n",
    "    x = 0\n",
    "    while x < len(titles_upvotes):\n",
    "        if '•' == titles_upvotes[x+1].get_text():\n",
    "            x = x + 3\n",
    "            continue\n",
    "        else:\n",
    "            right_upvotes_list.append(str(titles_upvotes[x+1]).split(\"=\\\"\")[2].split(\"\\\"\")[0])\n",
    "            right_title_list.append(titles_upvotes[x+2].get_text().split(' (')[0])\n",
    "            x = x + 3\n",
    "            \n",
    "    time.sleep(5)\n",
    "    \n",
    "    driver.get(current_url)\n",
    "    button = driver.find_element_by_css_selector(\"a[rel='nofollow next']\")\n",
    "    button.click()\n",
    "    current_url = driver.current_url"
   ]
  },
  {
   "cell_type": "markdown",
   "metadata": {},
   "source": [
    "### /r/The_Donald"
   ]
  },
  {
   "cell_type": "code",
   "execution_count": 212,
   "metadata": {},
   "outputs": [],
   "source": [
    "starter_url = \"https://old.reddit.com/r/The_Donald\"\n",
    "driver.get(starter_url)\n",
    "continue_button = driver.find_element_by_css_selector(\"button[type='submit']\")\n",
    "continue_button.click()\n",
    "current_url_new = driver.current_url\n",
    "\n",
    "current_url = current_url_new\n",
    "for x in range(20):\n",
    "    page = myopener.open(current_url)\n",
    "    html = page.read().decode('utf-8')\n",
    "    soup = BeautifulSoup(html, 'html.parser')\n",
    "    titles_upvotes = soup.select('.unvoted')\n",
    "    x = 0\n",
    "    while x < len(titles_upvotes):\n",
    "        if '•' == titles_upvotes[x+1].get_text():\n",
    "            x = x + 3\n",
    "            continue\n",
    "        else:\n",
    "            right_upvotes_list.append(str(titles_upvotes[x+1]).split(\"=\\\"\")[2].split(\"\\\"\")[0])\n",
    "            right_title_list.append(titles_upvotes[x+2].get_text().split(' (')[0])\n",
    "            x = x + 3\n",
    "            \n",
    "    time.sleep(5)\n",
    "    \n",
    "    driver.get(current_url)\n",
    "    button = driver.find_element_by_css_selector(\"a[rel='nofollow next']\")\n",
    "    button.click()\n",
    "    current_url = driver.current_url"
   ]
  },
  {
   "cell_type": "markdown",
   "metadata": {},
   "source": [
    "### /r/republican"
   ]
  },
  {
   "cell_type": "code",
   "execution_count": 213,
   "metadata": {},
   "outputs": [],
   "source": [
    "starter_url = \"https://old.reddit.com/r/republican\"\n",
    "driver.get(starter_url)\n",
    "\n",
    "current_url = starter_url\n",
    "for x in range(20):\n",
    "    page = myopener.open(current_url)\n",
    "    html = page.read().decode('utf-8')\n",
    "    soup = BeautifulSoup(html, 'html.parser')\n",
    "    titles_upvotes = soup.select('.unvoted')\n",
    "    x = 0\n",
    "    while x < len(titles_upvotes):\n",
    "        if '•' == titles_upvotes[x+1].get_text():\n",
    "            x = x + 3\n",
    "            continue\n",
    "        else:\n",
    "            right_upvotes_list.append(str(titles_upvotes[x+1]).split(\"=\\\"\")[2].split(\"\\\"\")[0])\n",
    "            right_title_list.append(titles_upvotes[x+2].get_text().split(' (')[0])\n",
    "            x = x + 3\n",
    "            \n",
    "    time.sleep(5)\n",
    "    \n",
    "    driver.get(current_url)\n",
    "    button = driver.find_element_by_css_selector(\"a[rel='nofollow next']\")\n",
    "    button.click()\n",
    "    current_url = driver.current_url"
   ]
  },
  {
   "cell_type": "markdown",
   "metadata": {},
   "source": [
    "### /r/TheRightBoycott"
   ]
  },
  {
   "cell_type": "code",
   "execution_count": 214,
   "metadata": {},
   "outputs": [],
   "source": [
    "starter_url = \"https://old.reddit.com/r/TheRightBoycott\"\n",
    "driver.get(starter_url)\n",
    "\n",
    "current_url = starter_url\n",
    "for x in range(20):\n",
    "    page = myopener.open(current_url)\n",
    "    html = page.read().decode('utf-8')\n",
    "    soup = BeautifulSoup(html, 'html.parser')\n",
    "    titles_upvotes = soup.select('.unvoted')\n",
    "    x = 0\n",
    "    while x < len(titles_upvotes):\n",
    "        if '•' == titles_upvotes[x+1].get_text():\n",
    "            x = x + 3\n",
    "            continue\n",
    "        else:\n",
    "            right_upvotes_list.append(str(titles_upvotes[x+1]).split(\"=\\\"\")[2].split(\"\\\"\")[0])\n",
    "            right_title_list.append(titles_upvotes[x+2].get_text().split(' (')[0])\n",
    "            x = x + 3\n",
    "            \n",
    "    time.sleep(5)\n",
    "    \n",
    "    driver.get(current_url)\n",
    "    button = driver.find_element_by_css_selector(\"a[rel='nofollow next']\")\n",
    "    button.click()\n",
    "    current_url = driver.current_url"
   ]
  },
  {
   "cell_type": "markdown",
   "metadata": {},
   "source": [
    "# Text cleaning and modeling"
   ]
  },
  {
   "cell_type": "code",
   "execution_count": 2,
   "metadata": {},
   "outputs": [
    {
     "name": "stderr",
     "output_type": "stream",
     "text": [
      "/usr/local/lib/python3.6/dist-packages/scipy/sparse/sparsetools.py:21: DeprecationWarning: `scipy.sparse.sparsetools` is deprecated!\n",
      "scipy.sparse.sparsetools is a private module for scipy.sparse, and should not be used.\n",
      "  _deprecated()\n"
     ]
    }
   ],
   "source": [
    "import numpy as np\n",
    "import matplotlib.pyplot as plt\n",
    "import seaborn as sns\n",
    "import random\n",
    "import regex\n",
    "import nltk\n",
    "import spacy\n",
    "import scipy.sparse\n",
    "import pyLDAvis\n",
    "import pyLDAvis.gensim\n",
    "import gensim.corpora as corpora\n",
    "\n",
    "from gensim.utils import simple_preprocess\n",
    "from gensim.models import CoherenceModel\n",
    "from gensim import matutils, models\n",
    "from itertools import chain\n",
    "from tqdm import tqdm\n",
    "from sklearn.feature_extraction.text import TfidfVectorizer\n",
    "from sklearn.model_selection import train_test_split, KFold\n",
    "from sklearn import linear_model\n",
    "from sklearn.pipeline import Pipeline\n",
    "from sklearn.model_selection import GridSearchCV\n",
    "from sklearn.preprocessing import LabelEncoder \n",
    "from sklearn.utils import shuffle\n",
    "from nltk.corpus import stopwords\n",
    "\n",
    "from collections import defaultdict\n",
    "from statistics import mean\n",
    "\n",
    "plt.rcParams[\"figure.figsize\"] = [20, 10]"
   ]
  },
  {
   "cell_type": "code",
   "execution_count": 308,
   "metadata": {},
   "outputs": [],
   "source": [
    "stop_words = set(stopwords.words(\"english\"))\n",
    "stop_words.add('u')\n",
    "stop_words.add('r')\n",
    "\n",
    "def text_cleaner(text):\n",
    "    text = regex.sub(\"[^a-zA-Z]\", \" \", text)\n",
    "    text = \" \".join(text.split())\n",
    "    text = text.lower()\n",
    "    return text\n",
    "            \n",
    "neutral_titles = [text_cleaner(x) for x in title_list]\n",
    "right_titles = [text_cleaner(x) for x in right_title_list]\n",
    "left_titles = [text_cleaner(x) for x in left_title_list]"
   ]
  },
  {
   "cell_type": "markdown",
   "metadata": {},
   "source": [
    "## Neutral titles wordcount"
   ]
  },
  {
   "cell_type": "code",
   "execution_count": 309,
   "metadata": {},
   "outputs": [],
   "source": [
    "wordCount_n = defaultdict(int)\n",
    "totalWords = 0\n",
    "\n",
    "for title in neutral_titles:\n",
    "    t = title\n",
    "    t = \"\".join(t)\n",
    "    words = t.strip().split()\n",
    "    for w in words:\n",
    "        if w in stop_words:\n",
    "            continue\n",
    "        else:\n",
    "            totalWords += 1\n",
    "            wordCount_n[w] += 1"
   ]
  },
  {
   "cell_type": "code",
   "execution_count": 310,
   "metadata": {},
   "outputs": [
    {
     "data": {
      "text/plain": [
       "[(104, 'trump'),\n",
       " (102, 'us'),\n",
       " (68, 'president'),\n",
       " (61, 'states'),\n",
       " (52, 'new'),\n",
       " (49, 'pros'),\n",
       " (49, 'cons'),\n",
       " (48, 'legal'),\n",
       " (43, 'law'),\n",
       " (41, 'state')]"
      ]
     },
     "execution_count": 310,
     "metadata": {},
     "output_type": "execute_result"
    }
   ],
   "source": [
    "counts_n = [(wordCount_n[w], w) for w in wordCount_n]\n",
    "counts_n.sort()\n",
    "counts_n.reverse()\n",
    "counts_n[:10]"
   ]
  },
  {
   "cell_type": "code",
   "execution_count": 311,
   "metadata": {},
   "outputs": [
    {
     "data": {
      "image/png": "[encoded data removed]",
      "text/plain": [
       "<Figure size 1440x720 with 1 Axes>"
      ]
     },
     "metadata": {
      "needs_background": "light"
     },
     "output_type": "display_data"
    }
   ],
   "source": [
    "words_df_n = pd.DataFrame.from_dict(counts_n)\n",
    "sns.barplot(data=words_df_n[:50], x=0, y=1)\n",
    "plt.xlabel(\"Count\")\n",
    "plt.ylabel(\"Words\")\n",
    "plt.title(\"Word Frequency\")\n",
    "plt.show()"
   ]
  },
  {
   "cell_type": "markdown",
   "metadata": {},
   "source": [
    "## Right titles wordcount"
   ]
  },
  {
   "cell_type": "code",
   "execution_count": 312,
   "metadata": {},
   "outputs": [],
   "source": [
    "wordCount_r = defaultdict(int)\n",
    "totalWords = 0\n",
    "\n",
    "for title in right_titles:\n",
    "    t = title\n",
    "    t = \"\".join(t)\n",
    "    words = t.strip().split()\n",
    "    for w in words:\n",
    "        if w in stop_words:\n",
    "            continue\n",
    "        else:\n",
    "            totalWords += 1\n",
    "            wordCount_r[w] += 1"
   ]
  },
  {
   "cell_type": "code",
   "execution_count": 313,
   "metadata": {},
   "outputs": [
    {
     "data": {
      "text/plain": [
       "[(247, 'trump'),\n",
       " (163, 'impeachment'),\n",
       " (103, 'christmas'),\n",
       " (91, 'democrats'),\n",
       " (79, 'boycott'),\n",
       " (72, 'new'),\n",
       " (60, 'boycottboycott'),\n",
       " (59, 'support'),\n",
       " (53, 'one'),\n",
       " (43, 'time')]"
      ]
     },
     "execution_count": 313,
     "metadata": {},
     "output_type": "execute_result"
    }
   ],
   "source": [
    "counts_r = [(wordCount_r[w], w) for w in wordCount_r]\n",
    "counts_r.sort()\n",
    "counts_r.reverse()\n",
    "counts_r[:10]"
   ]
  },
  {
   "cell_type": "code",
   "execution_count": 314,
   "metadata": {},
   "outputs": [
    {
     "data": {
      "image/png": "[encoded data removed]",
      "text/plain": [
       "<Figure size 1440x720 with 1 Axes>"
      ]
     },
     "metadata": {
      "needs_background": "light"
     },
     "output_type": "display_data"
    }
   ],
   "source": [
    "words_df_r = pd.DataFrame.from_dict(counts_r)\n",
    "sns.barplot(data=words_df_r[:50], x=0, y=1)\n",
    "plt.xlabel(\"Count\")\n",
    "plt.ylabel(\"Words\")\n",
    "plt.title(\"Word Frequency\")\n",
    "plt.show()"
   ]
  },
  {
   "cell_type": "markdown",
   "metadata": {},
   "source": [
    "## Left titles wordcount"
   ]
  },
  {
   "cell_type": "code",
   "execution_count": 315,
   "metadata": {},
   "outputs": [],
   "source": [
    "wordCount_l = defaultdict(int)\n",
    "totalWords = 0\n",
    "\n",
    "for title in left_titles:\n",
    "    t = title\n",
    "    t = \"\".join(t)\n",
    "    words = t.strip().split()\n",
    "    for w in words:\n",
    "        if w in stop_words:\n",
    "            continue\n",
    "        else:\n",
    "            totalWords += 1\n",
    "            wordCount_l[w] += 1"
   ]
  },
  {
   "cell_type": "code",
   "execution_count": 316,
   "metadata": {},
   "outputs": [
    {
     "data": {
      "text/plain": [
       "[(807, 'trump'),\n",
       " (232, 'impeachment'),\n",
       " (129, 'president'),\n",
       " (126, 'house'),\n",
       " (99, 'ukraine'),\n",
       " (96, 'says'),\n",
       " (88, 'new'),\n",
       " (87, 'democrats'),\n",
       " (79, 'one'),\n",
       " (75, 'white')]"
      ]
     },
     "execution_count": 316,
     "metadata": {},
     "output_type": "execute_result"
    }
   ],
   "source": [
    "counts_l = [(wordCount_l[w], w) for w in wordCount_l]\n",
    "counts_l.sort()\n",
    "counts_l.reverse()\n",
    "counts_l[:10]"
   ]
  },
  {
   "cell_type": "code",
   "execution_count": 317,
   "metadata": {},
   "outputs": [
    {
     "data": {
      "image/png": "[encoded data removed]",
      "text/plain": [
       "<Figure size 1440x720 with 1 Axes>"
      ]
     },
     "metadata": {
      "needs_background": "light"
     },
     "output_type": "display_data"
    }
   ],
   "source": [
    "words_df_l = pd.DataFrame.from_dict(counts_l)\n",
    "sns.barplot(data=words_df_l[:50], x=0, y=1)\n",
    "plt.xlabel(\"Count\")\n",
    "plt.ylabel(\"Words\")\n",
    "plt.title(\"Word Frequency\")\n",
    "plt.show()"
   ]
  },
  {
   "cell_type": "markdown",
   "metadata": {},
   "source": [
    "# Model Building"
   ]
  },
  {
   "cell_type": "code",
   "execution_count": 326,
   "metadata": {},
   "outputs": [],
   "source": [
    "neutral_titles_final = []\n",
    "right_titles_final = []\n",
    "left_titles_final = []\n",
    "\n",
    "for title in neutral_titles:\n",
    "    title = [words for words in title.split() if words not in stop_words]\n",
    "    title = \" \".join(title)\n",
    "    neutral_titles_final.append(title)\n",
    "    \n",
    "for title in right_txitles:\n",
    "    title = [words for words in title.split() if words not in stop_words]\n",
    "    title = \" \".join(title)\n",
    "    right_titles_final.append(title)\n",
    "    \n",
    "for title in left_titles:\n",
    "    title = [words for words in title.split() if words not in stop_words]\n",
    "    title = \" \".join(title)\n",
    "    left_titles_final.append(title)"
   ]
  },
  {
   "cell_type": "code",
   "execution_count": 384,
   "metadata": {},
   "outputs": [],
   "source": [
    "y_neutral = [int(x) for x in upvotes_list]\n",
    "y_right = [int(x) for x in right_upvotes_list]\n",
    "y_left = [int(x) for x in left_upvotes_list]"
   ]
  },
  {
   "cell_type": "code",
   "execution_count": 387,
   "metadata": {},
   "outputs": [],
   "source": [
    "X_train_n, X_val_n, y_train_n, y_val_n = train_test_split(neutral_titles, y_neutral, test_size=0.25)\n",
    "X_train_r, X_val_r, y_train_r, y_val_r = train_test_split(right_titles, y_right, test_size=0.25)\n",
    "X_train_l, X_val_l, y_train_l, y_val_l = train_test_split(left_titles, y_left, test_size=0.25)\n",
    "\n",
    "estimators = [(\"tf_idf\", TfidfVectorizer()), \n",
    "              (\"ridge\", linear_model.Ridge())]\n",
    "\n",
    "model_neutral = Pipeline(estimators)\n",
    "model_left = Pipeline(estimators)\n",
    "model_right = Pipeline(estimators)"
   ]
  },
  {
   "cell_type": "code",
   "execution_count": 388,
   "metadata": {},
   "outputs": [
    {
     "data": {
      "text/plain": [
       "Pipeline(memory=None,\n",
       "         steps=[('tf_idf',\n",
       "                 TfidfVectorizer(analyzer='word', binary=False,\n",
       "                                 decode_error='strict',\n",
       "                                 dtype=<class 'numpy.float64'>,\n",
       "                                 encoding='utf-8', input='content',\n",
       "                                 lowercase=True, max_df=1.0, max_features=None,\n",
       "                                 min_df=1, ngram_range=(1, 1), norm='l2',\n",
       "                                 preprocessor=None, smooth_idf=True,\n",
       "                                 stop_words=None, strip_accents=None,\n",
       "                                 sublinear_tf=False,\n",
       "                                 token_pattern='(?u)\\\\b\\\\w\\\\w+\\\\b',\n",
       "                                 tokenizer=None, use_idf=True,\n",
       "                                 vocabulary=None)),\n",
       "                ('ridge',\n",
       "                 Ridge(alpha=1.0, copy_X=True, fit_intercept=True,\n",
       "                       max_iter=None, normalize=False, random_state=None,\n",
       "                       solver='auto', tol=0.001))],\n",
       "         verbose=False)"
      ]
     },
     "execution_count": 388,
     "metadata": {},
     "output_type": "execute_result"
    }
   ],
   "source": [
    "model_neutral.fit(X_train_n, y_train_n)"
   ]
  },
  {
   "cell_type": "code",
   "execution_count": 389,
   "metadata": {},
   "outputs": [
    {
     "data": {
      "text/plain": [
       "Pipeline(memory=None,\n",
       "         steps=[('tf_idf',\n",
       "                 TfidfVectorizer(analyzer='word', binary=False,\n",
       "                                 decode_error='strict',\n",
       "                                 dtype=<class 'numpy.float64'>,\n",
       "                                 encoding='utf-8', input='content',\n",
       "                                 lowercase=True, max_df=1.0, max_features=None,\n",
       "                                 min_df=1, ngram_range=(1, 1), norm='l2',\n",
       "                                 preprocessor=None, smooth_idf=True,\n",
       "                                 stop_words=None, strip_accents=None,\n",
       "                                 sublinear_tf=False,\n",
       "                                 token_pattern='(?u)\\\\b\\\\w\\\\w+\\\\b',\n",
       "                                 tokenizer=None, use_idf=True,\n",
       "                                 vocabulary=None)),\n",
       "                ('ridge',\n",
       "                 Ridge(alpha=1.0, copy_X=True, fit_intercept=True,\n",
       "                       max_iter=None, normalize=False, random_state=None,\n",
       "                       solver='auto', tol=0.001))],\n",
       "         verbose=False)"
      ]
     },
     "execution_count": 389,
     "metadata": {},
     "output_type": "execute_result"
    }
   ],
   "source": [
    "model_left.fit(X_train_l, y_train_l)"
   ]
  },
  {
   "cell_type": "code",
   "execution_count": 390,
   "metadata": {},
   "outputs": [
    {
     "data": {
      "text/plain": [
       "Pipeline(memory=None,\n",
       "         steps=[('tf_idf',\n",
       "                 TfidfVectorizer(analyzer='word', binary=False,\n",
       "                                 decode_error='strict',\n",
       "                                 dtype=<class 'numpy.float64'>,\n",
       "                                 encoding='utf-8', input='content',\n",
       "                                 lowercase=True, max_df=1.0, max_features=None,\n",
       "                                 min_df=1, ngram_range=(1, 1), norm='l2',\n",
       "                                 preprocessor=None, smooth_idf=True,\n",
       "                                 stop_words=None, strip_accents=None,\n",
       "                                 sublinear_tf=False,\n",
       "                                 token_pattern='(?u)\\\\b\\\\w\\\\w+\\\\b',\n",
       "                                 tokenizer=None, use_idf=True,\n",
       "                                 vocabulary=None)),\n",
       "                ('ridge',\n",
       "                 Ridge(alpha=1.0, copy_X=True, fit_intercept=True,\n",
       "                       max_iter=None, normalize=False, random_state=None,\n",
       "                       solver='auto', tol=0.001))],\n",
       "         verbose=False)"
      ]
     },
     "execution_count": 390,
     "metadata": {},
     "output_type": "execute_result"
    }
   ],
   "source": [
    "model_right.fit(X_train_r, y_train_r)"
   ]
  },
  {
   "cell_type": "code",
   "execution_count": 394,
   "metadata": {},
   "outputs": [],
   "source": [
    "params = {\"ridge__alpha\":[0.1, 0.2, 0.3, 0.4, 0.5, 0.8, 1, 3, 5, 10], \n",
    "          \"tf_idf__min_df\": [1, 2, 3, 4, 5], \n",
    "          \"tf_idf__ngram_range\": [(1,1), (1,2)], \n",
    "          \"tf_idf__stop_words\": [None, \"english\"]}"
   ]
  },
  {
   "cell_type": "code",
   "execution_count": 395,
   "metadata": {},
   "outputs": [
    {
     "data": {
      "text/plain": [
       "GridSearchCV(cv='warn', error_score='raise-deprecating',\n",
       "             estimator=Pipeline(memory=None,\n",
       "                                steps=[('tf_idf',\n",
       "                                        TfidfVectorizer(analyzer='word',\n",
       "                                                        binary=False,\n",
       "                                                        decode_error='strict',\n",
       "                                                        dtype=<class 'numpy.float64'>,\n",
       "                                                        encoding='utf-8',\n",
       "                                                        input='content',\n",
       "                                                        lowercase=True,\n",
       "                                                        max_df=1.0,\n",
       "                                                        max_features=None,\n",
       "                                                        min_df=1,\n",
       "                                                        ngram_range=(1, 1),\n",
       "                                                        norm='l2',\n",
       "                                                        preprocessor=None,\n",
       "                                                        smooth_idf=True,\n",
       "                                                        sto...\n",
       "                                              fit_intercept=True, max_iter=None,\n",
       "                                              normalize=False,\n",
       "                                              random_state=None, solver='auto',\n",
       "                                              tol=0.001))],\n",
       "                                verbose=False),\n",
       "             iid='warn', n_jobs=None,\n",
       "             param_grid={'ridge__alpha': [0.1, 0.2, 0.3, 0.4, 0.5, 0.8, 1, 3, 5,\n",
       "                                          10],\n",
       "                         'tf_idf__min_df': [1, 2, 3, 4, 5],\n",
       "                         'tf_idf__ngram_range': [(1, 1), (1, 2)],\n",
       "                         'tf_idf__stop_words': [None, 'english']},\n",
       "             pre_dispatch='2*n_jobs', refit=True, return_train_score=False,\n",
       "             scoring=None, verbose=0)"
      ]
     },
     "execution_count": 395,
     "metadata": {},
     "output_type": "execute_result"
    }
   ],
   "source": [
    "grid_neutral = GridSearchCV(estimator = model_neutral, param_grid = params)\n",
    "grid_right = GridSearchCV(estimator = model_right, param_grid = params)\n",
    "grid_left = GridSearchCV(estimator = model_left, param_grid = params)\n",
    "\n",
    "grid_neutral.fit(X_train_n, y_train_n)\n",
    "grid_right.fit(X_train_r, y_train_r)\n",
    "grid_left.fit(X_train_l, y_train_l)"
   ]
  },
  {
   "cell_type": "code",
   "execution_count": 397,
   "metadata": {},
   "outputs": [
    {
     "data": {
      "text/plain": [
       "Pipeline(memory=None,\n",
       "         steps=[('tf_idf',\n",
       "                 TfidfVectorizer(analyzer='word', binary=False,\n",
       "                                 decode_error='strict',\n",
       "                                 dtype=<class 'numpy.float64'>,\n",
       "                                 encoding='utf-8', input='content',\n",
       "                                 lowercase=True, max_df=1.0, max_features=None,\n",
       "                                 min_df=1, ngram_range=(1, 2), norm='l2',\n",
       "                                 preprocessor=None, smooth_idf=True,\n",
       "                                 stop_words=None, strip_accents=None,\n",
       "                                 sublinear_tf=False,\n",
       "                                 token_pattern='(?u)\\\\b\\\\w\\\\w+\\\\b',\n",
       "                                 tokenizer=None, use_idf=True,\n",
       "                                 vocabulary=None)),\n",
       "                ('ridge',\n",
       "                 Ridge(alpha=10, copy_X=True, fit_intercept=True, max_iter=None,\n",
       "                       normalize=False, random_state=None, solver='auto',\n",
       "                       tol=0.001))],\n",
       "         verbose=False)"
      ]
     },
     "execution_count": 397,
     "metadata": {},
     "output_type": "execute_result"
    }
   ],
   "source": [
    "grid_neutral.best_estimator_"
   ]
  },
  {
   "cell_type": "code",
   "execution_count": 399,
   "metadata": {},
   "outputs": [
    {
     "data": {
      "text/plain": [
       "Pipeline(memory=None,\n",
       "         steps=[('tf_idf',\n",
       "                 TfidfVectorizer(analyzer='word', binary=False,\n",
       "                                 decode_error='strict',\n",
       "                                 dtype=<class 'numpy.float64'>,\n",
       "                                 encoding='utf-8', input='content',\n",
       "                                 lowercase=True, max_df=1.0, max_features=None,\n",
       "                                 min_df=1, ngram_range=(1, 1), norm='l2',\n",
       "                                 preprocessor=None, smooth_idf=True,\n",
       "                                 stop_words=None, strip_accents=None,\n",
       "                                 sublinear_tf=False,\n",
       "                                 token_pattern='(?u)\\\\b\\\\w\\\\w+\\\\b',\n",
       "                                 tokenizer=None, use_idf=True,\n",
       "                                 vocabulary=None)),\n",
       "                ('ridge',\n",
       "                 Ridge(alpha=3, copy_X=True, fit_intercept=True, max_iter=None,\n",
       "                       normalize=False, random_state=None, solver='auto',\n",
       "                       tol=0.001))],\n",
       "         verbose=False)"
      ]
     },
     "execution_count": 399,
     "metadata": {},
     "output_type": "execute_result"
    }
   ],
   "source": [
    "grid_right.best_estimator_"
   ]
  },
  {
   "cell_type": "code",
   "execution_count": 400,
   "metadata": {},
   "outputs": [
    {
     "data": {
      "text/plain": [
       "Pipeline(memory=None,\n",
       "         steps=[('tf_idf',\n",
       "                 TfidfVectorizer(analyzer='word', binary=False,\n",
       "                                 decode_error='strict',\n",
       "                                 dtype=<class 'numpy.float64'>,\n",
       "                                 encoding='utf-8', input='content',\n",
       "                                 lowercase=True, max_df=1.0, max_features=None,\n",
       "                                 min_df=4, ngram_range=(1, 2), norm='l2',\n",
       "                                 preprocessor=None, smooth_idf=True,\n",
       "                                 stop_words=None, strip_accents=None,\n",
       "                                 sublinear_tf=False,\n",
       "                                 token_pattern='(?u)\\\\b\\\\w\\\\w+\\\\b',\n",
       "                                 tokenizer=None, use_idf=True,\n",
       "                                 vocabulary=None)),\n",
       "                ('ridge',\n",
       "                 Ridge(alpha=10, copy_X=True, fit_intercept=True, max_iter=None,\n",
       "                       normalize=False, random_state=None, solver='auto',\n",
       "                       tol=0.001))],\n",
       "         verbose=False)"
      ]
     },
     "execution_count": 400,
     "metadata": {},
     "output_type": "execute_result"
    }
   ],
   "source": [
    "grid_left.best_estimator_"
   ]
  },
  {
   "cell_type": "code",
   "execution_count": 412,
   "metadata": {},
   "outputs": [],
   "source": [
    "def score_predictor(text: str):\n",
    "    text = text_cleaner(text)\n",
    "    text = [text]\n",
    "    which_affiliation = input(\"Will you be posting on a neutral, left or right leaning subreddit (n, l, r): \")\n",
    "    if which_affiliation == 'n':\n",
    "        return grid_neutral.predict(text)\n",
    "    elif which_affiliation == 'l':\n",
    "        return grid_left.predict(text)\n",
    "    elif which_affiliation == 'r':\n",
    "        return grid_right.predict(text)\n",
    "    else:\n",
    "        print('False input, try again')\n",
    "        score_predictor(text)"
   ]
  },
  {
   "cell_type": "markdown",
   "metadata": {},
   "source": [
    "."
   ]
  },
  {
   "cell_type": "markdown",
   "metadata": {},
   "source": [
    ".\n"
   ]
  },
  {
   "cell_type": "markdown",
   "metadata": {},
   "source": [
    "."
   ]
  },
  {
   "cell_type": "code",
   "execution_count": 670,
   "metadata": {},
   "outputs": [],
   "source": [
    "neutral_titles_df = pd.DataFrame(data = {'titles': neutral_titles})\n",
    "left_titles_df = pd.DataFrame(data = {'titles': left_titles})\n",
    "right_titles_df = pd.DataFrame(data = {'titles': right_titles})\n",
    "\n",
    "neutral_titles_df.to_csv(\"neutral_titles.csv\", sep = ',', index = False)\n",
    "left_titles_df.to_csv(\"left_titles.csv\", sep = ',', index = False)\n",
    "right_titles_df.to_csv(\"right_titles.csv\", sep = ',', index = False)"
   ]
  },
  {
   "cell_type": "markdown",
   "metadata": {},
   "source": [
    "# Scraping reddit comments"
   ]
  },
  {
   "cell_type": "markdown",
   "metadata": {},
   "source": [
    "## Left leaning comments"
   ]
  },
  {
   "cell_type": "code",
   "execution_count": null,
   "metadata": {},
   "outputs": [],
   "source": [
    "starter_url = \"https://old.reddit.com/r/liberal\"\n",
    "driver.get(starter_url)\n",
    "\n",
    "links_list = []\n",
    "current_url = starter_url\n",
    "for x in range(15):\n",
    "    page = myopener.open(current_url)\n",
    "    html = page.read().decode('utf-8')\n",
    "    soup = BeautifulSoup(html, 'html.parser')\n",
    "    links = soup.select('.may-blank')\n",
    "\n",
    "    for link in links:\n",
    "        if 'class' in link.attrs and 'comments' in link['class']:\n",
    "            links_list.append(link['href'])\n",
    "        \n",
    "    time.sleep(5)\n",
    "    \n",
    "    driver.get(current_url)\n",
    "    button = driver.find_element_by_css_selector(\"a[rel='nofollow next']\")\n",
    "    button.click()\n",
    "    current_url = driver.current_url"
   ]
  },
  {
   "cell_type": "code",
   "execution_count": 643,
   "metadata": {},
   "outputs": [],
   "source": [
    "starter_url = \"https://old.reddit.com/r/politics\"\n",
    "driver.get(starter_url)\n",
    "\n",
    "current_url = starter_url\n",
    "for x in range(15):\n",
    "    page = myopener.open(current_url)\n",
    "    html = page.read().decode('utf-8')\n",
    "    soup = BeautifulSoup(html, 'html.parser')\n",
    "    links = soup.select('.may-blank')\n",
    "\n",
    "    for link in links:\n",
    "        if 'class' in link.attrs and 'comments' in link['class']:\n",
    "            links_list.append(link['href'])\n",
    "        \n",
    "    time.sleep(5)\n",
    "    \n",
    "    driver.get(current_url)\n",
    "    button = driver.find_element_by_css_selector(\"a[rel='nofollow next']\")\n",
    "    button.click()\n",
    "    current_url = driver.current_url"
   ]
  },
  {
   "cell_type": "code",
   "execution_count": 645,
   "metadata": {},
   "outputs": [],
   "source": [
    "starter_url = \"https://old.reddit.com/r/esist\"\n",
    "driver.get(starter_url)\n",
    "\n",
    "current_url = starter_url\n",
    "for x in range(15):\n",
    "    page = myopener.open(current_url)\n",
    "    html = page.read().decode('utf-8')\n",
    "    soup = BeautifulSoup(html, 'html.parser')\n",
    "    links = soup.select('.may-blank')\n",
    "\n",
    "    for link in links:\n",
    "        if 'class' in link.attrs and 'comments' in link['class']:\n",
    "            links_list.append(link['href'])\n",
    "        \n",
    "    time.sleep(5)\n",
    "    \n",
    "    driver.get(current_url)\n",
    "    button = driver.find_element_by_css_selector(\"a[rel='nofollow next']\")\n",
    "    button.click()\n",
    "    current_url = driver.current_url"
   ]
  },
  {
   "cell_type": "code",
   "execution_count": 648,
   "metadata": {},
   "outputs": [],
   "source": [
    "left_comments_text = []\n",
    "for links in links_list:\n",
    "    page = myopener.open(links)\n",
    "    html = page.read().decode('utf-8')\n",
    "    soup = BeautifulSoup(html, 'html.parser', multi_valued_attributes = None)\n",
    "    stuff = soup.select('.commentarea')\n",
    "    \n",
    "    for comments in str(stuff).split('<p>')[1:-2]:\n",
    "        left_comments_text.append(comments.split('</p>')[0])"
   ]
  },
  {
   "cell_type": "code",
   "execution_count": 674,
   "metadata": {},
   "outputs": [],
   "source": [
    "links_list_df = pd.DataFrame(data={'url': links_list})\n",
    "left_comments_df = pd.DataFrame(data={'comment_text': left_comments_text})\n",
    "\n",
    "links_list_df.to_csv(\"left_links.csv\", sep = ',', index = False)\n",
    "left_comments_df.to_csv(\"left_comments.csv\", sep = ',', index = False)"
   ]
  },
  {
   "cell_type": "markdown",
   "metadata": {},
   "source": [
    "## Right leaning comments"
   ]
  },
  {
   "cell_type": "code",
   "execution_count": 3,
   "metadata": {},
   "outputs": [],
   "source": [
    "starter_url = \"https://old.reddit.com/r/conservative\"\n",
    "\n",
    "right_links_list = []\n",
    "current_url = starter_url\n",
    "for x in range(15):\n",
    "    page = myopener.open(current_url)\n",
    "    html = page.read().decode('utf-8')\n",
    "    soup = BeautifulSoup(html, 'html.parser')\n",
    "    links = soup.select('.may-blank')\n",
    "\n",
    "    for link in links:\n",
    "        if 'class' in link.attrs and 'comments' in link['class']:\n",
    "            right_links_list.append(link['href'])\n",
    "        \n",
    "    time.sleep(5)\n",
    "    \n",
    "    driver.get(current_url)\n",
    "    \n",
    "    time.sleep(5)\n",
    "    \n",
    "    button = driver.find_element_by_css_selector(\"a[rel='nofollow next']\")\n",
    "    button.click()\n",
    "    current_url = driver.current_url"
   ]
  },
  {
   "cell_type": "code",
   "execution_count": null,
   "metadata": {},
   "outputs": [],
   "source": [
    "starter_url = \"https://old.reddit.com/r/Libertarian\"\n",
    "driver.get(starter_url)\n",
    "\n",
    "current_url = starter_url\n",
    "for x in range(15):\n",
    "    page = myopener.open(current_url)\n",
    "    html = page.read().decode('utf-8')\n",
    "    soup = BeautifulSoup(html, 'html.parser')\n",
    "    links = soup.select('.may-blank')\n",
    "\n",
    "    for link in links:\n",
    "        if 'class' in link.attrs and 'comments' in link['class']:\n",
    "            right_links_list.append(link['href'])\n",
    "        \n",
    "    time.sleep(5)\n",
    "    \n",
    "    driver.get(current_url)\n",
    "    \n",
    "    time.sleep(5)\n",
    "    \n",
    "    button = driver.find_element_by_css_selector(\"a[rel='nofollow next']\")\n",
    "    button.click()\n",
    "    current_url = driver.current_url"
   ]
  },
  {
   "cell_type": "code",
   "execution_count": 5,
   "metadata": {},
   "outputs": [],
   "source": [
    "starter_url = \"https://old.reddit.com/r/republican\"\n",
    "driver.get(starter_url)\n",
    "\n",
    "current_url = starter_url\n",
    "for x in range(15):\n",
    "    page = myopener.open(current_url)\n",
    "    html = page.read().decode('utf-8')\n",
    "    soup = BeautifulSoup(html, 'html.parser')\n",
    "    links = soup.select('.may-blank')\n",
    "\n",
    "    for link in links:\n",
    "        if 'class' in link.attrs and 'comments' in link['class']:\n",
    "            right_links_list.append(link['href'])\n",
    "        \n",
    "    time.sleep(5)\n",
    "    \n",
    "    driver.get(current_url)\n",
    "    \n",
    "    time.sleep(5)\n",
    "    \n",
    "    button = driver.find_element_by_css_selector(\"a[rel='nofollow next']\")\n",
    "    button.click()\n",
    "    current_url = driver.current_url"
   ]
  },
  {
   "cell_type": "code",
   "execution_count": null,
   "metadata": {},
   "outputs": [],
   "source": [
    "right_comments_text = []\n",
    "for links in right_links_list:\n",
    "    page = myopener.open(links)\n",
    "    html = page.read().decode('utf-8')\n",
    "    soup = BeautifulSoup(html, 'html.parser', multi_valued_attributes = None)\n",
    "    stuff = soup.select('.commentarea')\n",
    "    \n",
    "    for comments in str(stuff).split('<p>')[1:-2]:\n",
    "        right_comments_text.append(comments.split('</p>')[0])"
   ]
  },
  {
   "cell_type": "code",
   "execution_count": null,
   "metadata": {},
   "outputs": [],
   "source": [
    "right_links_list_df = pd.DataFrame(data={'url': right_links_list})\n",
    "right_comments_df = pd.DataFrame(data={'comment_text': right_comments_text})\n",
    "\n",
    "right_links_list_df.to_csv(\"right_links.csv\", sep = ',', index = False)\n",
    "right_comments_df.to_csv(\"right_comments.csv\", sep = ',', index = False)"
   ]
  },
  {
   "cell_type": "code",
   "execution_count": 3,
   "metadata": {},
   "outputs": [],
   "source": [
    "right_comments = pd.read_csv('right_comments.csv')\n",
    "left_comments = pd.read_csv('left_comments.csv')"
   ]
  },
  {
   "cell_type": "code",
   "execution_count": 4,
   "metadata": {},
   "outputs": [
    {
     "data": {
      "text/plain": [
       "28695"
      ]
     },
     "execution_count": 4,
     "metadata": {},
     "output_type": "execute_result"
    }
   ],
   "source": [
    "len(right_comments)"
   ]
  },
  {
   "cell_type": "code",
   "execution_count": 5,
   "metadata": {},
   "outputs": [
    {
     "data": {
      "text/plain": [
       "60353"
      ]
     },
     "execution_count": 5,
     "metadata": {},
     "output_type": "execute_result"
    }
   ],
   "source": [
    "len(left_comments)"
   ]
  },
  {
   "cell_type": "markdown",
   "metadata": {},
   "source": [
    "#### We can see that with almost 3 times as many left-leaning comments, we will have problems with imbalanced classifiers"
   ]
  },
  {
   "cell_type": "markdown",
   "metadata": {},
   "source": [
    "## Topic Modeling - Text Cleaning"
   ]
  },
  {
   "cell_type": "code",
   "execution_count": 6,
   "metadata": {},
   "outputs": [
    {
     "name": "stderr",
     "output_type": "stream",
     "text": [
      "[nltk_data] Downloading package stopwords to /home/jovyan/nltk_data...\n",
      "[nltk_data]   Package stopwords is already up-to-date!\n"
     ]
    }
   ],
   "source": [
    "from nltk.corpus import stopwords\n",
    "nltk.download('stopwords')\n",
    "stop_words = set(stopwords.words(\"english\"))\n",
    "stop_words.add('href')\n",
    "stop_words.add('em')\n",
    "stop_words.add('rel')\n",
    "stop_words.add('nofollow')\n",
    "stop_words.add('com')\n",
    "stop_words.add('www')\n",
    "stop_words.add('https')"
   ]
  },
  {
   "cell_type": "code",
   "execution_count": 7,
   "metadata": {},
   "outputs": [],
   "source": [
    "from sklearn.feature_extraction.text import CountVectorizer "
   ]
  },
  {
   "cell_type": "code",
   "execution_count": 8,
   "metadata": {},
   "outputs": [],
   "source": [
    "def text_cleaner(text):\n",
    "    text = text.replace('[deleted]', \"\")\n",
    "    text = re.sub(\"[^a-zA-Z]\", \" \", text)\n",
    "    text = ' '.join(text.split())\n",
    "    text = text.lower()\n",
    "    return text\n",
    "\n",
    "def rem_stopwords(text):\n",
    "    text_n = []\n",
    "    if len(text) == 0:\n",
    "        return None\n",
    "    for words in text.split():\n",
    "        if words in stop_words or len(words) <= 1 or 'href' in words:\n",
    "            continue\n",
    "        else:\n",
    "            text_n.append(words)\n",
    "    text_new = \" \".join(text_n)\n",
    "    return text_new"
   ]
  },
  {
   "cell_type": "code",
   "execution_count": 9,
   "metadata": {},
   "outputs": [],
   "source": [
    "right_comments_clean = [text_cleaner(i) for i in right_comments['comment_text']]\n",
    "left_comments_clean = [text_cleaner(i) for i in left_comments['comment_text']]\n",
    "right_affiliation = ['right-leaning'] * len(right_comments_clean)\n",
    "left_affiliation = ['left-leaning'] * len(left_comments_clean)\n",
    "\n",
    "right_userID = list(range(len(right_comments_clean)+1))\n",
    "left_userID = list(range(len(left_comments_clean)+1))\n",
    "\n",
    "right_df = pd.DataFrame(list(zip(right_comments_clean, right_affiliation, right_userID)), \n",
    "                        columns = ['comment_text', 'affiliation', 'userID'])\n",
    "left_df = pd.DataFrame(list(zip(left_comments_clean, left_affiliation, left_userID)), \n",
    "                       columns = ['comment_text', 'affiliation', 'userID'])\n",
    "all_list = right_comments_clean + left_comments_clean\n",
    "all_df = pd.concat([right_df, left_df], ignore_index=True)"
   ]
  },
  {
   "cell_type": "code",
   "execution_count": 10,
   "metadata": {},
   "outputs": [],
   "source": [
    "all_list_clean = [rem_stopwords(a) for a in all_list if rem_stopwords(a) != None]"
   ]
  },
  {
   "cell_type": "code",
   "execution_count": 11,
   "metadata": {},
   "outputs": [],
   "source": [
    "all_words = set()\n",
    "for line in all_list_clean:\n",
    "    text = \"\".join(line)\n",
    "    text = text.strip().split()\n",
    "    for words in text:\n",
    "        all_words.add(words)"
   ]
  },
  {
   "cell_type": "code",
   "execution_count": 12,
   "metadata": {},
   "outputs": [],
   "source": [
    "vec = CountVectorizer()\n",
    "dtm = vec.fit_transform(all_list_clean)\n",
    "dtm_t = dtm.transpose()"
   ]
  },
  {
   "cell_type": "code",
   "execution_count": 13,
   "metadata": {},
   "outputs": [],
   "source": [
    "dtm_df = pd.DataFrame(dtm.toarray(), columns = vec.get_feature_names())"
   ]
  },
  {
   "cell_type": "code",
   "execution_count": 14,
   "metadata": {},
   "outputs": [],
   "source": [
    "dtm_sparse = scipy.sparse.csr_matrix(dtm_t)\n",
    "corpus = matutils.Sparse2Corpus(dtm_sparse)"
   ]
  },
  {
   "cell_type": "code",
   "execution_count": 15,
   "metadata": {},
   "outputs": [],
   "source": [
    "id2word = dict()\n",
    "for word in all_words:\n",
    "    try:\n",
    "        id2word.update({dtm_df.columns.get_loc(word): word})\n",
    "    except KeyError:\n",
    "        continue\n",
    "        \n",
    "tfidfv = TfidfVectorizer()\n",
    "tfidfv_fit = tfidfv.fit_transform(all_list)\n",
    "word2id = dict((k,v) for k, v in tfidfv.vocabulary_.items())\n",
    "d = corpora.Dictionary()\n",
    "d.id2token = id2word\n",
    "d.token2id = word2id"
   ]
  },
  {
   "cell_type": "code",
   "execution_count": 17,
   "metadata": {},
   "outputs": [],
   "source": [
    "lda = models.LdaModel(corpus=corpus, \n",
    "                      id2word=d, \n",
    "                      num_topics=8,\n",
    "                      passes=100)"
   ]
  },
  {
   "cell_type": "code",
   "execution_count": 18,
   "metadata": {},
   "outputs": [
    {
     "data": {
      "text/plain": [
       "[(0,\n",
       "  '0.033*\"trickled\" + 0.017*\"ekh\" + 0.014*\"prefect\" + 0.014*\"bi\" + 0.011*\"wokescold\" + 0.011*\"virginian\" + 0.011*\"libya\" + 0.010*\"russicans\" + 0.008*\"vis\" + 0.007*\"grapples\"'),\n",
       " (1,\n",
       "  '0.028*\"whiny\" + 0.019*\"citation\" + 0.018*\"qr\" + 0.017*\"opposing\" + 0.016*\"poena\" + 0.014*\"gop\" + 0.012*\"creeds\" + 0.011*\"stakeholder\" + 0.011*\"unfamiliar\" + 0.009*\"whiplashed\"'),\n",
       " (2,\n",
       "  '0.032*\"strangling\" + 0.012*\"confrontational\" + 0.009*\"perfectly\" + 0.009*\"pedestrian\" + 0.009*\"gb\" + 0.009*\"atomic\" + 0.009*\"counting\" + 0.009*\"harrassment\" + 0.009*\"roundabout\" + 0.008*\"organizations\"'),\n",
       " (3,\n",
       "  '0.019*\"pedestrian\" + 0.017*\"libya\" + 0.016*\"trickled\" + 0.013*\"theinsider\" + 0.012*\"revulsion\" + 0.011*\"geopolitcal\" + 0.010*\"kju\" + 0.009*\"wokescold\" + 0.008*\"oikos\" + 0.008*\"shaving\"'),\n",
       " (4,\n",
       "  '0.013*\"trickled\" + 0.010*\"gomer\" + 0.009*\"wandered\" + 0.009*\"sumpter\" + 0.008*\"prefect\" + 0.008*\"conspirator\" + 0.007*\"possessing\" + 0.007*\"canard\" + 0.007*\"pnuahwrioeogcpcbgayycw\" + 0.007*\"tribunal\"'),\n",
       " (5,\n",
       "  '0.016*\"pedestrian\" + 0.011*\"wokescold\" + 0.008*\"modsupport\" + 0.007*\"libya\" + 0.007*\"oikos\" + 0.007*\"geopolitcal\" + 0.006*\"gorge\" + 0.006*\"euros\" + 0.006*\"counteract\" + 0.005*\"unwanted\"'),\n",
       " (6,\n",
       "  '0.044*\"repeated\" + 0.036*\"repealing\" + 0.029*\"plague\" + 0.027*\"poena\" + 0.025*\"imgur\" + 0.023*\"seditious\" + 0.021*\"virginian\" + 0.016*\"reclaim\" + 0.015*\"study\" + 0.014*\"commanding\"'),\n",
       " (7,\n",
       "  '0.023*\"unwanted\" + 0.022*\"nepotistic\" + 0.011*\"waclimate\" + 0.010*\"forthright\" + 0.010*\"amongst\" + 0.008*\"xfm\" + 0.008*\"gls\" + 0.007*\"xenophobes\" + 0.007*\"ime\" + 0.007*\"nuisances\"')]"
      ]
     },
     "execution_count": 18,
     "metadata": {},
     "output_type": "execute_result"
    }
   ],
   "source": [
    "lda.print_topics()"
   ]
  },
  {
   "cell_type": "code",
   "execution_count": 19,
   "metadata": {},
   "outputs": [],
   "source": [
    "pyLDAvis.enable_notebook()"
   ]
  },
  {
   "cell_type": "code",
   "execution_count": 20,
   "metadata": {},
   "outputs": [],
   "source": [
    "vis = pyLDAvis.gensim.prepare(lda, corpus, d)"
   ]
  },
  {
   "cell_type": "code",
   "execution_count": 21,
   "metadata": {},
   "outputs": [
    {
     "data": {
      "text/html": [
       "\n",
       "<link rel=\"stylesheet\" type=\"text/css\" href=\"https://cdn.rawgit.com/bmabey/pyLDAvis/files/ldavis.v1.0.0.css\">\n",
       "\n",
       "\n",
       "<div id=\"ldavis_el2151397918776110963326050132\"></div>\n",
       "<script type=\"text/javascript\">\n",
       "\n",
       "var ldavis_el2151397918776110963326050132_data = {\"mdsDat\": {\"x\": [0.2336991132505493, 0.2502450503435951, 0.1961930158323677, -0.027697145798665238, -0.1417331564332553, -0.003939129162380029, -0.24314809760177733, -0.2636196504304333], \"y\": [-0.029654500268509514, -0.08337615143877827, -0.07587471619759657, 0.08217512381142261, 0.28983792354478627, 0.16539796768236859, -0.2532765240381833, -0.09522912309550974], \"topics\": [1, 2, 3, 4, 5, 6, 7, 8], \"cluster\": [1, 1, 1, 1, 1, 1, 1, 1], \"Freq\": [23.967248916625977, 21.158693313598633, 14.23794174194336, 9.834872245788574, 9.083456039428711, 8.150653839111328, 6.844601154327393, 6.7225260734558105]}, \"tinfo\": {\"Category\": [\"Default\", \"Default\", \"Default\", \"Default\", \"Default\", \"Default\", \"Default\", \"Default\", \"Default\", \"Default\", \"Default\", \"Default\", \"Default\", \"Default\", \"Default\", \"Default\", \"Default\", \"Default\", \"Default\", \"Default\", \"Default\", \"Default\", \"Default\", \"Default\", \"Default\", \"Default\", \"Default\", \"Default\", \"Default\", \"Default\", \"Topic1\", \"Topic1\", \"Topic1\", \"Topic1\", \"Topic1\", \"Topic1\", \"Topic1\", \"Topic1\", \"Topic1\", \"Topic1\", \"Topic1\", \"Topic1\", \"Topic1\", \"Topic1\", \"Topic1\", \"Topic1\", \"Topic1\", \"Topic1\", \"Topic1\", \"Topic1\", \"Topic1\", \"Topic1\", \"Topic1\", \"Topic1\", \"Topic1\", \"Topic1\", \"Topic1\", \"Topic1\", \"Topic1\", \"Topic1\", \"Topic1\", \"Topic1\", \"Topic1\", \"Topic1\", \"Topic1\", \"Topic1\", \"Topic1\", \"Topic1\", \"Topic1\", \"Topic1\", \"Topic1\", \"Topic1\", \"Topic1\", \"Topic1\", \"Topic1\", \"Topic1\", \"Topic1\", \"Topic1\", \"Topic1\", \"Topic1\", \"Topic1\", \"Topic1\", \"Topic1\", \"Topic1\", \"Topic1\", \"Topic1\", \"Topic1\", \"Topic1\", \"Topic2\", \"Topic2\", \"Topic2\", \"Topic2\", \"Topic2\", \"Topic2\", \"Topic2\", \"Topic2\", \"Topic2\", \"Topic2\", \"Topic2\", \"Topic2\", \"Topic2\", \"Topic2\", \"Topic2\", \"Topic2\", \"Topic2\", \"Topic2\", \"Topic2\", \"Topic2\", \"Topic2\", \"Topic2\", \"Topic2\", \"Topic2\", \"Topic2\", \"Topic2\", \"Topic2\", \"Topic2\", \"Topic2\", \"Topic2\", \"Topic2\", \"Topic2\", \"Topic2\", \"Topic2\", \"Topic2\", \"Topic2\", \"Topic2\", \"Topic2\", \"Topic2\", \"Topic2\", \"Topic2\", \"Topic2\", \"Topic2\", \"Topic2\", \"Topic2\", \"Topic2\", \"Topic2\", \"Topic2\", \"Topic2\", \"Topic2\", \"Topic2\", \"Topic2\", \"Topic2\", \"Topic2\", \"Topic2\", \"Topic2\", \"Topic2\", \"Topic2\", \"Topic2\", \"Topic2\", \"Topic2\", \"Topic2\", \"Topic2\", \"Topic2\", \"Topic2\", \"Topic3\", \"Topic3\", \"Topic3\", \"Topic3\", \"Topic3\", \"Topic3\", \"Topic3\", \"Topic3\", \"Topic3\", \"Topic3\", \"Topic3\", \"Topic3\", \"Topic3\", \"Topic3\", \"Topic3\", \"Topic3\", \"Topic3\", \"Topic3\", \"Topic3\", \"Topic3\", \"Topic3\", \"Topic3\", \"Topic3\", \"Topic3\", \"Topic3\", \"Topic3\", \"Topic3\", \"Topic3\", \"Topic3\", \"Topic3\", \"Topic3\", \"Topic3\", \"Topic3\", \"Topic3\", \"Topic3\", \"Topic3\", \"Topic3\", \"Topic3\", \"Topic3\", \"Topic3\", \"Topic3\", \"Topic3\", \"Topic3\", \"Topic3\", \"Topic3\", \"Topic3\", \"Topic3\", \"Topic3\", \"Topic3\", \"Topic3\", \"Topic3\", \"Topic4\", \"Topic4\", \"Topic4\", \"Topic4\", \"Topic4\", \"Topic4\", \"Topic4\", \"Topic4\", \"Topic4\", \"Topic4\", \"Topic4\", \"Topic4\", \"Topic4\", \"Topic4\", \"Topic4\", \"Topic4\", \"Topic4\", \"Topic4\", \"Topic4\", \"Topic4\", \"Topic4\", \"Topic4\", \"Topic4\", \"Topic4\", \"Topic4\", \"Topic4\", \"Topic4\", \"Topic4\", \"Topic4\", \"Topic4\", \"Topic4\", \"Topic4\", \"Topic4\", \"Topic4\", \"Topic4\", \"Topic4\", \"Topic4\", \"Topic4\", \"Topic4\", \"Topic4\", \"Topic4\", \"Topic4\", \"Topic4\", \"Topic4\", \"Topic4\", \"Topic4\", \"Topic5\", \"Topic5\", \"Topic5\", \"Topic5\", \"Topic5\", \"Topic5\", \"Topic5\", \"Topic5\", \"Topic5\", \"Topic5\", \"Topic5\", \"Topic5\", \"Topic5\", \"Topic5\", \"Topic5\", \"Topic5\", \"Topic5\", \"Topic5\", \"Topic5\", \"Topic5\", \"Topic5\", \"Topic5\", \"Topic5\", \"Topic5\", \"Topic5\", \"Topic5\", \"Topic5\", \"Topic5\", \"Topic5\", \"Topic5\", \"Topic5\", \"Topic5\", \"Topic5\", \"Topic5\", \"Topic5\", \"Topic5\", \"Topic5\", \"Topic5\", \"Topic6\", \"Topic6\", \"Topic6\", \"Topic6\", \"Topic6\", \"Topic6\", \"Topic6\", \"Topic6\", \"Topic6\", \"Topic6\", \"Topic6\", \"Topic6\", \"Topic6\", \"Topic6\", \"Topic6\", \"Topic6\", \"Topic6\", \"Topic6\", \"Topic6\", \"Topic6\", \"Topic6\", \"Topic6\", \"Topic6\", \"Topic6\", \"Topic6\", \"Topic6\", \"Topic6\", \"Topic6\", \"Topic6\", \"Topic6\", \"Topic6\", \"Topic6\", \"Topic6\", \"Topic6\", \"Topic6\", \"Topic6\", \"Topic6\", \"Topic6\", \"Topic6\", \"Topic6\", \"Topic6\", \"Topic6\", \"Topic6\", \"Topic7\", \"Topic7\", \"Topic7\", \"Topic7\", \"Topic7\", \"Topic7\", \"Topic7\", \"Topic7\", \"Topic7\", \"Topic7\", \"Topic7\", \"Topic7\", \"Topic7\", \"Topic7\", \"Topic7\", \"Topic7\", \"Topic7\", \"Topic7\", \"Topic7\", \"Topic7\", \"Topic7\", \"Topic7\", \"Topic7\", \"Topic7\", \"Topic7\", \"Topic7\", \"Topic7\", \"Topic7\", \"Topic7\", \"Topic7\", \"Topic7\", \"Topic7\", \"Topic7\", \"Topic7\", \"Topic7\", \"Topic7\", \"Topic8\", \"Topic8\", \"Topic8\", \"Topic8\", \"Topic8\", \"Topic8\", \"Topic8\", \"Topic8\", \"Topic8\", \"Topic8\", \"Topic8\", \"Topic8\", \"Topic8\", \"Topic8\", \"Topic8\", \"Topic8\", \"Topic8\", \"Topic8\", \"Topic8\", \"Topic8\", \"Topic8\", \"Topic8\", \"Topic8\", \"Topic8\", \"Topic8\", \"Topic8\", \"Topic8\", \"Topic8\", \"Topic8\", \"Topic8\", \"Topic8\", \"Topic8\", \"Topic8\", \"Topic8\"], \"Freq\": [3345.0, 10833.0, 3227.0, 2708.0, 3219.0, 3880.0, 9770.0, 3291.0, 2183.0, 2107.0, 2352.0, 2638.0, 1848.0, 1761.0, 7477.0, 3005.0, 2117.0, 3711.0, 6754.0, 1374.0, 1783.0, 1318.0, 3036.0, 1260.0, 1200.0, 2206.0, 4407.0, 2272.0, 1944.0, 1240.0, 2205.365234375, 1379.9857177734375, 1244.1456298828125, 1178.920166015625, 928.18408203125, 919.9287719726562, 880.3665161132812, 857.5280151367188, 825.6528930664062, 787.5531616210938, 768.6785888671875, 768.37158203125, 739.0844116210938, 687.9453735351562, 658.7636108398438, 644.6158447265625, 609.00341796875, 596.390380859375, 579.4217529296875, 560.353759765625, 538.6181640625, 526.8837280273438, 517.0220336914062, 499.4814758300781, 492.7441711425781, 496.249267578125, 485.89483642578125, 484.40765380859375, 472.22271728515625, 470.5234680175781, 1594.2008056640625, 1055.57763671875, 1020.8944702148438, 1055.81103515625, 4342.53466796875, 1471.2763671875, 2956.119384765625, 846.4644165039062, 858.0313720703125, 941.4873657226562, 911.3988647460938, 1022.57763671875, 1156.862548828125, 1269.830322265625, 1787.8145751953125, 1410.99755859375, 1787.982666015625, 1244.7525634765625, 1928.074462890625, 1485.968017578125, 1440.7225341796875, 1258.162841796875, 1261.2620849609375, 1017.127197265625, 1154.7391357421875, 1022.9755249023438, 998.4202270507812, 979.1524047851562, 1943.7559814453125, 1470.3731689453125, 1265.50830078125, 1118.4937744140625, 1035.19775390625, 1024.43115234375, 961.7078857421875, 724.1019287109375, 666.9275512695312, 663.512939453125, 647.2974853515625, 595.1184692382812, 588.998046875, 577.4163818359375, 556.7904052734375, 487.5036315917969, 480.46624755859375, 472.3703918457031, 470.3390197753906, 463.4622497558594, 462.8419189453125, 454.4538879394531, 426.58795166015625, 426.1277160644531, 422.5235900878906, 419.9588928222656, 416.984375, 392.8448486328125, 388.02484130859375, 377.5688781738281, 737.6961059570312, 1385.81005859375, 2875.49169921875, 1570.322998046875, 1901.9752197265625, 1190.66796875, 2933.740966796875, 2343.696533203125, 901.5636596679688, 1855.739501953125, 3845.8134765625, 1791.57861328125, 1071.723388671875, 4496.482421875, 1023.5325317382812, 2466.99951171875, 1559.9129638671875, 1637.8714599609375, 3750.201171875, 1129.44921875, 1527.7017822265625, 989.0950317382812, 1215.697021484375, 1141.251220703125, 1348.1099853515625, 1965.74560546875, 1701.596435546875, 2044.531005859375, 1262.3194580078125, 1254.1021728515625, 1335.923828125, 1157.378173828125, 1246.0595703125, 1197.5887451171875, 1203.495849609375, 2637.48779296875, 2116.890625, 1257.14892578125, 1029.469970703125, 956.3839111328125, 926.781005859375, 777.4408569335938, 686.6292724609375, 666.60693359375, 643.259765625, 606.65478515625, 592.5013427734375, 576.9230346679688, 574.2650146484375, 540.8720092773438, 509.0401306152344, 475.5975646972656, 438.780029296875, 431.323486328125, 426.4383544921875, 410.2744445800781, 410.2934875488281, 408.8482360839844, 396.3008728027344, 395.55364990234375, 389.9829406738281, 387.5202941894531, 372.9729309082031, 368.2033996582031, 340.86724853515625, 2271.966064453125, 1140.924560546875, 1603.9937744140625, 5163.73291015625, 955.4468383789062, 670.5375366210938, 1734.4022216796875, 617.7235717773438, 737.5531005859375, 852.935546875, 779.5994262695312, 1127.7227783203125, 731.7777709960938, 1753.376708984375, 1703.4510498046875, 667.8123779296875, 709.0950317382812, 795.7237548828125, 850.2533569335938, 675.1887817382812, 728.0466918945312, 2351.8134765625, 1059.3406982421875, 1047.9620361328125, 858.9064331054688, 725.9769287109375, 711.2713012695312, 658.0040893554688, 585.3677978515625, 544.6683959960938, 543.6544799804688, 523.4364624023438, 457.1182861328125, 456.9826354980469, 427.75048828125, 402.3106689453125, 397.9951477050781, 372.0101318359375, 352.8203125, 337.75555419921875, 337.226806640625, 329.8539733886719, 328.5943298339844, 326.61883544921875, 322.08441162109375, 315.8251037597656, 302.4176025390625, 294.23724365234375, 292.13519287109375, 286.9076843261719, 267.9468994140625, 1164.500732421875, 593.6318359375, 2438.901611328125, 534.3486938476562, 582.0405883789062, 731.4237670898438, 896.809814453125, 657.3582763671875, 507.40118408203125, 434.41094970703125, 481.3107604980469, 506.0072326660156, 487.4738464355469, 512.55908203125, 430.7755432128906, 420.93865966796875, 3226.366455078125, 1239.6259765625, 944.6942138671875, 900.6256103515625, 894.0106811523438, 849.9908447265625, 790.4088745117188, 746.5300903320312, 730.4068603515625, 680.16796875, 664.4234008789062, 643.02587890625, 624.604248046875, 620.1146240234375, 570.4385986328125, 548.4273071289062, 544.8411865234375, 547.5944213867188, 539.4734497070312, 532.875, 513.5697631835938, 514.0673217773438, 512.5447387695312, 509.79791259765625, 494.95550537109375, 482.16082763671875, 471.29449462890625, 407.9297790527344, 402.0316467285156, 397.2275390625, 817.0362548828125, 875.2810668945312, 757.2041015625, 902.85693359375, 518.498779296875, 930.8838500976562, 787.4334106445312, 529.0112915039062, 843.02099609375, 833.1189575195312, 726.4685668945312, 652.9213256835938, 595.3489379882812, 576.5723876953125, 548.315185546875, 477.4081115722656, 441.72784423828125, 413.0187072753906, 383.6391906738281, 382.97906494140625, 379.34161376953125, 348.3406982421875, 336.4743957519531, 320.4846496582031, 303.61474609375, 289.7953186035156, 286.1599426269531, 281.7633056640625, 280.860107421875, 279.1739196777344, 279.0130920410156, 273.760986328125, 267.79449462890625, 252.59144592285156, 249.27960205078125, 248.6361541748047, 242.2766571044922, 242.01089477539062, 927.8193359375, 612.878173828125, 342.0313415527344, 662.112548828125, 642.5047607421875, 732.5439453125, 1131.8626708984375, 403.6312561035156, 343.6616516113281, 388.6072082519531, 315.1977844238281, 304.1571960449219, 320.1558532714844, 3344.335205078125, 2707.30078125, 2182.477294921875, 1847.78759765625, 1760.3155517578125, 1199.982421875, 1086.9844970703125, 1065.338623046875, 1039.238525390625, 1003.9475708007812, 955.5062866210938, 943.497802734375, 876.40966796875, 841.637939453125, 727.2738647460938, 709.0673828125, 661.7839965820312, 654.9138793945312, 646.99658203125, 640.082763671875, 621.9129028320312, 615.0712280273438, 605.2977294921875, 583.2279663085938, 582.3956909179688, 554.833984375, 547.8442993164062, 435.01544189453125, 431.7281494140625, 420.412109375, 2009.6566162109375, 1141.3468017578125, 1556.3013916015625, 882.1473388671875, 943.5399780273438, 729.9515380859375, 2106.21337890625, 1373.2733154296875, 1317.5645751953125, 1259.281982421875, 1020.4915161132812, 887.183837890625, 779.6415405273438, 678.1218872070312, 664.2523803710938, 658.9841918945312, 649.0010986328125, 645.2796630859375, 632.151123046875, 625.7115478515625, 577.947265625, 567.5343627929688, 560.8377685546875, 551.12744140625, 547.3733520507812, 537.6694946289062, 407.1372375488281, 387.1614990234375, 376.8825378417969, 375.1364440917969, 363.62841796875, 336.0069580078125, 295.7543029785156, 285.741455078125, 283.5719299316406, 277.06640625, 807.0672607421875, 1209.482421875, 641.0028686523438, 376.37274169921875], \"Term\": [\"repeated\", \"trickled\", \"strangling\", \"repealing\", \"poena\", \"unwanted\", \"pedestrian\", \"virginian\", \"plague\", \"whiny\", \"nepotistic\", \"ekh\", \"imgur\", \"seditious\", \"libya\", \"prefect\", \"bi\", \"revulsion\", \"wokescold\", \"citation\", \"study\", \"qr\", \"se\", \"opposing\", \"reclaim\", \"modsupport\", \"theinsider\", \"russicans\", \"shaving\", \"confrontational\", \"modsupport\", \"witchcraft\", \"pastemagazine\", \"swehvtol\", \"haww\", \"tamper\", \"mccigarcunt\", \"delves\", \"deal\", \"francs\", \"instances\", \"handling\", \"hawley\", \"rewriting\", \"espoused\", \"pint\", \"corruptiin\", \"polisci\", \"reverses\", \"cuntosaurus\", \"treating\", \"baseload\", \"dba\", \"patched\", \"communalism\", \"wields\", \"scalping\", \"jezebel\", \"edemocracy\", \"sleighted\", \"gorge\", \"challengers\", \"provicating\", \"enhanced\", \"pedestrian\", \"counteract\", \"wokescold\", \"legion\", \"bernieman\", \"captivity\", \"locating\", \"withing\", \"maneuver\", \"nazbol\", \"geopolitcal\", \"thrived\", \"oikos\", \"magical\", \"libya\", \"euros\", \"unwanted\", \"mountainous\", \"alpha\", \"stahdx\", \"warlock\", \"cosplaying\", \"xfm\", \"theinsider\", \"shaving\", \"sahd\", \"frozen\", \"visible\", \"releaseid\", \"demand\", \"elisabeth\", \"wacko\", \"theirs\", \"virginity\", \"sightseeing\", \"retardedly\", \"popularizing\", \"guidance\", \"demonises\", \"segment\", \"lollygagging\", \"levada\", \"whoooooole\", \"procedure\", \"hebdo\", \"klanner\", \"expansionism\", \"godzillary\", \"prefatory\", \"conscripted\", \"senatorcollins\", \"hazards\", \"pcsing\", \"nightmarish\", \"stricking\", \"socom\", \"revulsion\", \"thegroundtruthproject\", \"ravikant\", \"backtrack\", \"theinsider\", \"kju\", \"stickies\", \"waay\", \"libya\", \"goest\", \"beholden\", \"pedestrian\", \"anuses\", \"geopolitcal\", \"sang\", \"goaltender\", \"trickled\", \"sodlier\", \"mountainous\", \"lockers\", \"plop\", \"summoned\", \"bereaved\", \"oikos\", \"euros\", \"wokescold\", \"actual\", \"glock\", \"se\", \"bestof\", \"warlock\", \"steak\", \"magical\", \"ekh\", \"bi\", \"vis\", \"calves\", \"presidents\", \"canals\", \"renege\", \"creeper\", \"client\", \"correlated\", \"maturity\", \"twins\", \"intrigued\", \"visas\", \"hibbing\", \"misogynist\", \"correctly\", \"criminalise\", \"claire\", \"economist\", \"jg\", \"preferable\", \"wishy\", \"kirschner\", \"wisest\", \"poetry\", \"terminals\", \"poignant\", \"queer\", \"lockstep\", \"prefect\", \"grapples\", \"russicans\", \"trickled\", \"nurture\", \"homophobia\", \"virginian\", \"ekj\", \"walden\", \"sanitized\", \"westward\", \"bereaved\", \"xe\", \"wokescold\", \"libya\", \"whitmer\", \"occupant\", \"wayward\", \"euros\", \"lasting\", \"oikos\", \"nepotistic\", \"forthright\", \"amongst\", \"gls\", \"ime\", \"nuisances\", \"hourslong\", \"ostracism\", \"ostracised\", \"kernel\", \"mien\", \"jdtsrny\", \"layover\", \"investors\", \"recalculated\", \"carted\", \"norman\", \"kevlar\", \"observing\", \"waterboarded\", \"recipients\", \"whimsical\", \"withdrawals\", \"incandescents\", \"freeza\", \"keurig\", \"mix\", \"goldman\", \"panda\", \"freer\", \"waclimate\", \"stilton\", \"unwanted\", \"relabeled\", \"microprocessor\", \"xenophobes\", \"xfm\", \"amending\", \"landholders\", \"fake\", \"westward\", \"withing\", \"goodness\", \"oikos\", \"horseback\", \"stahdx\", \"strangling\", \"confrontational\", \"perfectly\", \"atomic\", \"counting\", \"roundabout\", \"dea\", \"iajyoyddsus\", \"resistant\", \"spammed\", \"area\", \"perot\", \"referencing\", \"ballooning\", \"pgrihokq\", \"tunes\", \"solve\", \"destabilisation\", \"primitive\", \"penny\", \"advocated\", \"chinas\", \"instance\", \"shariablue\", \"accurately\", \"memorandums\", \"countries\", \"stucture\", \"stand\", \"corticies\", \"organizations\", \"harrassment\", \"rubicon\", \"gb\", \"discounts\", \"pedestrian\", \"trickled\", \"punctuator\", \"wandered\", \"sumpter\", \"conspirator\", \"canard\", \"fea\", \"pointing\", \"ekehpn\", \"yanno\", \"nickname\", \"oink\", \"gahsuc\", \"wodk\", \"released\", \"suffered\", \"icon\", \"fade\", \"politicization\", \"hazy\", \"meetups\", \"panes\", \"solidarity\", \"ahura\", \"baring\", \"socket\", \"planned\", \"wallows\", \"trooper\", \"tapes\", \"lung\", \"fiber\", \"gomer\", \"tribunal\", \"pixelated\", \"possessing\", \"pnuahwrioeogcpcbgayycw\", \"prefect\", \"trickled\", \"evaporate\", \"name\", \"tunisia\", \"acs\", \"mum\", \"occupant\", \"repeated\", \"repealing\", \"plague\", \"imgur\", \"seditious\", \"reclaim\", \"commanding\", \"sues\", \"wether\", \"rouser\", \"rubio\", \"mendacious\", \"acted\", \"translations\", \"tand\", \"boringly\", \"arson\", \"bowling\", \"constructive\", \"completes\", \"reeling\", \"penal\", \"mja\", \"prev\", \"vfa\", \"stripes\", \"clears\", \"seeee\", \"panchreston\", \"paranoid\", \"poena\", \"study\", \"virginian\", \"horseback\", \"se\", \"mcpeaceprize\", \"whiny\", \"citation\", \"qr\", \"opposing\", \"gop\", \"creeds\", \"unfamiliar\", \"whiplashed\", \"concealed\", \"discouraging\", \"emphasizes\", \"happiness\", \"auto\", \"wvgazettemail\", \"incorporate\", \"house\", \"relates\", \"creecher\", \"vflez\", \"degeneres\", \"mantle\", \"inversed\", \"childhood\", \"nazi\", \"jonathan\", \"excited\", \"warrenwelder\", \"trampling\", \"jonestown\", \"divorces\", \"stakeholder\", \"poena\", \"study\", \"lobbied\"], \"Total\": [3345.0, 10833.0, 3227.0, 2708.0, 3219.0, 3880.0, 9770.0, 3291.0, 2183.0, 2107.0, 2352.0, 2638.0, 1848.0, 1761.0, 7477.0, 3005.0, 2117.0, 3711.0, 6754.0, 1374.0, 1783.0, 1318.0, 3036.0, 1260.0, 1200.0, 2206.0, 4407.0, 2272.0, 1944.0, 1240.0, 2206.258544921875, 1380.878662109375, 1245.038330078125, 1179.81298828125, 929.0767822265625, 920.8214721679688, 881.259765625, 858.4217529296875, 826.5502319335938, 788.4461059570312, 769.5711669921875, 769.2649536132812, 739.9771118164062, 688.8384399414062, 659.6567993164062, 645.5089111328125, 609.8961181640625, 597.2832641601562, 580.314697265625, 561.2469482421875, 539.5172729492188, 527.7770385742188, 517.9436645507812, 500.3743591308594, 493.63702392578125, 497.1532287597656, 486.78778076171875, 485.3005065917969, 473.1157531738281, 471.4164123535156, 1834.4755859375, 1259.1473388671875, 1231.5321044921875, 1308.426513671875, 9770.5439453125, 2331.766845703125, 6754.6865234375, 1075.2564697265625, 1139.2607421875, 1323.6767578125, 1262.130615234375, 1529.3388671875, 1968.7796630859375, 2425.1650390625, 4812.4638671875, 3070.445556640625, 5275.0283203125, 2638.51123046875, 7477.99853515625, 4038.476806640625, 3880.37841796875, 2786.635009765625, 2901.728759765625, 1779.488037109375, 2759.524658203125, 2739.064208984375, 2327.200439453125, 4407.03955078125, 1944.6529541015625, 1471.2706298828125, 1266.4051513671875, 1119.391357421875, 1036.0943603515625, 1025.328857421875, 962.6049194335938, 724.9991455078125, 667.8246459960938, 664.4102783203125, 648.19482421875, 596.0213012695312, 589.8994140625, 578.3137817382812, 557.6873168945312, 488.4005126953125, 481.3636169433594, 473.26739501953125, 471.2362060546875, 464.3594055175781, 463.73895263671875, 455.3509826660156, 427.4853515625, 427.0246887207031, 423.4213562011719, 420.85589599609375, 417.88153076171875, 393.74212646484375, 388.9223937988281, 378.4661560058594, 793.1618041992188, 1604.344482421875, 3711.757568359375, 1990.992431640625, 2531.572265625, 1466.785400390625, 4407.03955078125, 3441.76318359375, 1067.010009765625, 2681.803466796875, 7477.99853515625, 2753.087646484375, 1405.5792236328125, 9770.5439453125, 1330.7724609375, 4812.4638671875, 2495.044677734375, 2850.501953125, 10833.7666015625, 1644.466064453125, 2786.635009765625, 1348.802978515625, 1969.5306396484375, 1784.1915283203125, 2476.618408203125, 5275.0283203125, 4038.476806640625, 6754.6865234375, 2312.917724609375, 2269.466796875, 3036.322509765625, 1836.393798828125, 2759.524658203125, 2420.3359375, 2638.51123046875, 2638.396484375, 2117.799072265625, 1258.0577392578125, 1030.378662109375, 957.2928466796875, 927.6893920898438, 778.3511962890625, 687.5387573242188, 667.515380859375, 644.1691284179688, 607.5634155273438, 593.4103393554688, 577.8324584960938, 575.1736450195312, 541.7803344726562, 509.9485168457031, 476.50628662109375, 439.7038269042969, 432.2326965332031, 427.3469543457031, 411.18255615234375, 411.2021179199219, 409.7568359375, 397.21002197265625, 396.4623107910156, 390.8917541503906, 388.4291076660156, 373.8814697265625, 369.11212158203125, 341.7759094238281, 3005.29736328125, 1388.666748046875, 2272.036376953125, 10833.7666015625, 1284.5712890625, 810.5029907226562, 3291.474365234375, 765.8534545898438, 1018.6541748046875, 1323.834228515625, 1261.679931640625, 2476.618408203125, 1160.561279296875, 6754.6865234375, 7477.99853515625, 976.59765625, 1204.9615478515625, 2230.763916015625, 4038.476806640625, 1323.3587646484375, 5275.0283203125, 2352.6943359375, 1060.2218017578125, 1048.842529296875, 859.787353515625, 726.858642578125, 712.154296875, 658.884521484375, 586.2498779296875, 545.5507202148438, 544.5353393554688, 524.3173217773438, 457.9990234375, 457.8649597167969, 428.6306457519531, 403.1917419433594, 398.87677001953125, 372.8921813964844, 353.7008361816406, 338.6377258300781, 338.1081237792969, 330.7354736328125, 329.4752197265625, 327.49969482421875, 322.9653015136719, 316.7059020996094, 303.2981872558594, 295.1186828613281, 293.0157165527344, 287.789306640625, 268.82818603515625, 1476.7139892578125, 685.263916015625, 3880.37841796875, 715.441650390625, 864.385009765625, 1473.9365234375, 2327.200439453125, 1400.853515625, 1098.4766845703125, 739.9923706054688, 1261.679931640625, 1529.3388671875, 1698.6646728515625, 5275.0283203125, 1643.136962890625, 1779.488037109375, 3227.25927734375, 1240.5196533203125, 945.5869750976562, 901.5182495117188, 894.9041137695312, 850.883544921875, 791.301513671875, 747.4227905273438, 731.2994995117188, 681.0604858398438, 665.3159790039062, 643.919921875, 625.5001831054688, 621.0071411132812, 571.3309326171875, 549.3202514648438, 545.7344970703125, 548.4930419921875, 540.366943359375, 533.7672729492188, 514.4620361328125, 514.9607543945312, 513.4369506835938, 510.690185546875, 495.84771728515625, 483.0530090332031, 472.1866455078125, 408.8227844238281, 402.9245300292969, 398.1206970214844, 1004.10595703125, 1303.5062255859375, 1069.589111328125, 1462.402099609375, 624.2941284179688, 9770.5439453125, 10833.7666015625, 782.2725830078125, 843.9193725585938, 834.0173950195312, 727.3670654296875, 653.8200073242188, 596.2474365234375, 577.4711303710938, 549.2135009765625, 478.3060607910156, 442.62689208984375, 413.91717529296875, 384.5376281738281, 383.8780212402344, 380.24078369140625, 349.23919677734375, 337.3729248046875, 321.38311767578125, 304.5132751464844, 290.6947326660156, 287.05853271484375, 282.6622314453125, 281.7633056640625, 280.072509765625, 279.9116516113281, 274.6595153808594, 268.6932373046875, 253.49024963378906, 250.17803955078125, 249.53463745117188, 243.1758575439453, 242.9095458984375, 1611.9578857421875, 1024.30615234375, 444.62823486328125, 1646.50244140625, 1719.0548095703125, 3005.29736328125, 10833.7666015625, 791.1443481445312, 577.3958129882812, 1160.512939453125, 621.7723999023438, 533.4685668945312, 1204.9615478515625, 3345.217041015625, 2708.182861328125, 2183.358642578125, 1848.6697998046875, 1761.197509765625, 1200.86376953125, 1087.86572265625, 1066.2197265625, 1040.11962890625, 1004.8292236328125, 956.3895874023438, 944.379150390625, 877.2913208007812, 842.5197143554688, 728.1559448242188, 709.9485473632812, 662.6657104492188, 655.796875, 647.8777465820312, 640.9638671875, 622.7942504882812, 615.9523315429688, 606.1788330078125, 584.1102905273438, 583.2769165039062, 555.7153930664062, 548.7255249023438, 435.8976135253906, 432.6110534667969, 421.2937927246094, 3219.886962890625, 1783.096923828125, 3291.474365234375, 1643.136962890625, 3036.322509765625, 1568.2318115234375, 2107.0986328125, 1374.158447265625, 1318.450439453125, 1260.1673583984375, 1021.3782348632812, 888.0703735351562, 780.52734375, 679.0069580078125, 665.137939453125, 659.8693237304688, 649.8861694335938, 646.1672973632812, 633.0367431640625, 626.59765625, 578.832275390625, 568.4205322265625, 561.7227172851562, 552.0133056640625, 548.260986328125, 538.5553588867188, 408.0227355957031, 388.0480651855469, 377.7681884765625, 376.0230407714844, 364.5150146484375, 336.8930358886719, 296.64007568359375, 286.62744140625, 284.458740234375, 277.9524841308594, 1356.592041015625, 3219.886962890625, 1783.096923828125, 607.5586547851562], \"loglift\": [30.0, 29.0, 28.0, 27.0, 26.0, 25.0, 24.0, 23.0, 22.0, 21.0, 20.0, 19.0, 18.0, 17.0, 16.0, 15.0, 14.0, 13.0, 12.0, 11.0, 10.0, 9.0, 8.0, 7.0, 6.0, 5.0, 4.0, 3.0, 2.0, 1.0, 1.4280999898910522, 1.4278000593185425, 1.4278000593185425, 1.4277000427246094, 1.4275000095367432, 1.4275000095367432, 1.4275000095367432, 1.42739999294281, 1.42739999294281, 1.427299976348877, 1.427299976348877, 1.427299976348877, 1.427299976348877, 1.4271999597549438, 1.4270999431610107, 1.4270999431610107, 1.4270000457763672, 1.4270000457763672, 1.426900029182434, 1.426900029182434, 1.426800012588501, 1.426800012588501, 1.4266999959945679, 1.4266999959945679, 1.4266999959945679, 1.4266999959945679, 1.4265999794006348, 1.4265999794006348, 1.4265999794006348, 1.4265999794006348, 1.288100004196167, 1.2520999908447266, 1.2409000396728516, 1.2139999866485596, 0.6176000237464905, 0.9679999947547913, 0.6021000146865845, 1.1892000436782837, 1.1449999809265137, 1.0878000259399414, 1.1029000282287598, 1.0260000228881836, 0.8967999815940857, 0.781499981880188, 0.4383000135421753, 0.6510000228881836, 0.3465999960899353, 0.6772000193595886, 0.0729999989271164, 0.4287000000476837, 0.4377000033855438, 0.6333000063896179, 0.595300018787384, 0.8690999746322632, 0.5572999715805054, 0.44359999895095825, 0.5821999907493591, -0.07580000162124634, 1.5527000427246094, 1.5525000095367432, 1.55239999294281, 1.552299976348877, 1.552299976348877, 1.5521999597549438, 1.5521999597549438, 1.551900029182434, 1.551800012588501, 1.551800012588501, 1.5516999959945679, 1.5515999794006348, 1.5515999794006348, 1.5515999794006348, 1.5514999628067017, 1.551300048828125, 1.551300048828125, 1.551200032234192, 1.551200032234192, 1.551200032234192, 1.551200032234192, 1.5511000156402588, 1.5509999990463257, 1.5509999990463257, 1.5509999990463257, 1.5509999990463257, 1.5509999990463257, 1.5507999658584595, 1.5507999658584595, 1.5506999492645264, 1.4805999994277954, 1.4067000150680542, 1.2977999448776245, 1.3157999515533447, 1.267199993133545, 1.344599962234497, 1.1461999416351318, 1.1689000129699707, 1.384600043296814, 1.1849000453948975, 0.8881000280380249, 1.1234999895095825, 1.2819000482559204, 0.7770000100135803, 1.2905999422073364, 0.8848999738693237, 1.083400011062622, 0.9990000128746033, 0.49230000376701355, 1.17739999294281, 0.9520000219345093, 1.242900013923645, 1.0706000328063965, 1.1062999963760376, 0.9448999762535095, 0.5659999847412109, 0.6887999773025513, 0.3580999970436096, 0.9476000070571899, 0.9599999785423279, 0.7321000099182129, 1.0915000438690186, 0.7580000162124634, 0.8495000004768372, 0.7681000232696533, 1.9488999843597412, 1.948799967765808, 1.9485000371932983, 1.9484000205993652, 1.9483000040054321, 1.9483000040054321, 1.948099970817566, 1.9479000568389893, 1.9479000568389893, 1.9478000402450562, 1.9478000402450562, 1.947700023651123, 1.947700023651123, 1.947700023651123, 1.94760000705719, 1.9474999904632568, 1.9473999738693237, 1.9471999406814575, 1.9471999406814575, 1.947100043296814, 1.9470000267028809, 1.9470000267028809, 1.9470000267028809, 1.9470000267028809, 1.9470000267028809, 1.9469000101089478, 1.9469000101089478, 1.9467999935150146, 1.9467999935150146, 1.9465999603271484, 1.6694999933242798, 1.7527999877929688, 1.601099967956543, 1.208299994468689, 1.6533000469207764, 1.7596999406814575, 1.3085999488830566, 1.7343000173568726, 1.6263999938964844, 1.5096999406814575, 1.4678000211715698, 1.162600040435791, 1.4881000518798828, 0.600600004196167, 0.4699999988079071, 1.569200038909912, 1.4190000295639038, 0.91839998960495, 0.3912000060081482, 1.2762999534606934, -0.031099999323487282, 2.3189001083374023, 2.3183999061584473, 2.3183999061584473, 2.31820011138916, 2.318000078201294, 2.318000078201294, 2.3178999423980713, 2.317699909210205, 2.3176000118255615, 2.3176000118255615, 2.3176000118255615, 2.3173000812530518, 2.3173000812530518, 2.317199945449829, 2.316999912261963, 2.316999912261963, 2.3169000148773193, 2.316699981689453, 2.3166000843048096, 2.3166000843048096, 2.3166000843048096, 2.3166000843048096, 2.316499948501587, 2.316499948501587, 2.316499948501587, 2.3162999153137207, 2.316200017929077, 2.316200017929077, 2.316200017929077, 2.315999984741211, 2.081700086593628, 2.1756999492645264, 1.8549000024795532, 2.027400016784668, 1.923799991607666, 1.618499994277954, 1.3657000064849854, 1.562600016593933, 1.5469000339508057, 1.7865999937057495, 1.3554999828338623, 1.2131999731063843, 1.0708999633789062, -0.01209999993443489, 0.9804999828338623, 0.8776000142097473, 2.398400068283081, 2.3980000019073486, 2.3977999687194824, 2.397700071334839, 2.397700071334839, 2.397700071334839, 2.397599935531616, 2.3975000381469727, 2.3975000381469727, 2.39739990234375, 2.39739990234375, 2.3973000049591064, 2.3973000049591064, 2.3973000049591064, 2.397200107574463, 2.3970999717712402, 2.3970999717712402, 2.3970999717712402, 2.3970999717712402, 2.3970000743865967, 2.3970000743865967, 2.3970000743865967, 2.3970000743865967, 2.3970000743865967, 2.396899938583374, 2.396899938583374, 2.3968000411987305, 2.3965001106262207, 2.3965001106262207, 2.3965001106262207, 2.192500114440918, 2.0004000663757324, 2.053299903869629, 1.9163999557495117, 2.2130000591278076, 0.04769999906420708, -0.22290000319480896, 2.007499933242798, 2.50600004196167, 2.50600004196167, 2.5058000087738037, 2.50570011138916, 2.5055999755859375, 2.505500078201294, 2.5053999423980713, 2.505199909210205, 2.505000114440918, 2.5048999786376953, 2.504699945449829, 2.504699945449829, 2.504699945449829, 2.504499912261963, 2.5044000148773193, 2.504300117492676, 2.5041000843048096, 2.503999948501587, 2.5039000511169434, 2.5039000511169434, 2.5039000511169434, 2.5039000511169434, 2.5039000511169434, 2.5037999153137207, 2.503700017929077, 2.503499984741211, 2.503499984741211, 2.503499984741211, 2.5034000873565674, 2.5034000873565674, 1.954699993133545, 1.993499994277954, 2.2446999549865723, 1.5960999727249146, 1.5228999853134155, 1.0954999923706055, 0.2483000010251999, 1.8341000080108643, 1.9881999492645264, 1.4129999876022339, 1.8277000188827515, 1.945199966430664, 1.1816999912261963, 2.6814000606536865, 2.6814000606536865, 2.681299924850464, 2.6812000274658203, 2.6812000274658203, 2.680999994277954, 2.6809000968933105, 2.6809000968933105, 2.6809000968933105, 2.680799961090088, 2.680799961090088, 2.680799961090088, 2.6807000637054443, 2.6807000637054443, 2.680500030517578, 2.680500030517578, 2.6803998947143555, 2.6803998947143555, 2.680299997329712, 2.680299997329712, 2.680299997329712, 2.680299997329712, 2.680299997329712, 2.6802000999450684, 2.6802000999450684, 2.6800999641418457, 2.6800999641418457, 2.6796998977661133, 2.6796998977661133, 2.6796000003814697, 2.2102999687194824, 2.235599994659424, 1.9327000379562378, 2.0597000122070312, 1.5128999948501587, 1.9170000553131104, 2.6993000507354736, 2.6991000175476074, 2.6989998817443848, 2.6989998817443848, 2.6988000869750977, 2.698699951171875, 2.6986000537872314, 2.6984000205993652, 2.6984000205993652, 2.6984000205993652, 2.6982998847961426, 2.6982998847961426, 2.6982998847961426, 2.6982998847961426, 2.698199987411499, 2.6981000900268555, 2.6981000900268555, 2.6981000900268555, 2.6981000900268555, 2.6981000900268555, 2.697499990463257, 2.6974000930786133, 2.6974000930786133, 2.6972999572753906, 2.6972999572753906, 2.6970999240875244, 2.696700096130371, 2.6965999603271484, 2.6965999603271484, 2.696500062942505, 2.1803998947143555, 1.7206000089645386, 1.6765999794006348, 2.2207999229431152], \"logprob\": [30.0, 29.0, 28.0, 27.0, 26.0, 25.0, 24.0, 23.0, 22.0, 21.0, 20.0, 19.0, 18.0, 17.0, 16.0, 15.0, 14.0, 13.0, 12.0, 11.0, 10.0, 9.0, 8.0, 7.0, 6.0, 5.0, 4.0, 3.0, 2.0, 1.0, -4.784200191497803, -5.2530999183654785, -5.3566999435424805, -5.4105000495910645, -5.649700164794922, -5.658599853515625, -5.702600002288818, -5.728799819946289, -5.76669979095459, -5.814000129699707, -5.838200092315674, -5.838600158691406, -5.877500057220459, -5.94920015335083, -5.992499828338623, -6.014200210571289, -6.071100234985352, -6.0920000076293945, -6.1209001541137695, -6.154300212860107, -6.193900108337402, -6.21589994430542, -6.234799861907959, -6.2692999839782715, -6.282899856567383, -6.2758002281188965, -6.296899795532227, -6.300000190734863, -6.325399875640869, -6.328999996185303, -5.108799934387207, -5.521100044250488, -5.554500102996826, -5.5208001136779785, -4.1066999435424805, -5.189000129699707, -4.491300106048584, -5.741799831390381, -5.728300094604492, -5.63539981842041, -5.667900085449219, -5.552800178527832, -5.4293999671936035, -5.336299896240234, -4.994100093841553, -5.230800151824951, -4.994100093841553, -5.356200218200684, -4.918600082397461, -5.179100036621094, -5.210000038146973, -5.3454999923706055, -5.3429999351501465, -5.558199882507324, -5.431300163269043, -5.5524001121521, -5.576700210571289, -5.596199989318848, -4.785900115966797, -5.065000057220459, -5.215000152587891, -5.338500022888184, -5.415900230407715, -5.426400184631348, -5.489500045776367, -5.7733001708984375, -5.855599880218506, -5.8607001304626465, -5.885499954223633, -5.9695000648498535, -5.979800224304199, -5.99970006942749, -6.036099910736084, -6.169000148773193, -6.183499813079834, -6.200500011444092, -6.204800128936768, -6.2195000648498535, -6.220900058746338, -6.239200115203857, -6.3024001121521, -6.303500175476074, -6.311999797821045, -6.3180999755859375, -6.325200080871582, -6.384799957275391, -6.397200107574463, -6.424499988555908, -5.754700183868408, -5.124199867248535, -4.3942999839782715, -4.999199867248535, -4.807600021362305, -5.276000022888184, -4.374199867248535, -4.598800182342529, -5.554100036621094, -4.832200050354004, -4.103499889373779, -4.867400169372559, -5.381199836730957, -3.947200059890747, -5.427199840545654, -4.547500133514404, -5.005899906158447, -4.957099914550781, -4.128699779510498, -5.328800201416016, -5.026700019836426, -5.46150016784668, -5.255199909210205, -5.318399906158447, -5.151800155639648, -4.774600028991699, -4.918900012969971, -4.735300064086914, -5.217599868774414, -5.224100112915039, -5.160900115966797, -5.304299831390381, -5.230500221252441, -5.270199775695801, -5.2652997970581055, -4.084499835968018, -4.3043999671936035, -4.825500011444092, -5.025300025939941, -5.098999977111816, -5.13040018081665, -5.306099891662598, -5.430300235748291, -5.45989990234375, -5.49560022354126, -5.554200172424316, -5.5777997970581055, -5.604400157928467, -5.609000205993652, -5.668900012969971, -5.729599952697754, -5.797500133514404, -5.8780999183654785, -5.895299911499023, -5.906599998474121, -5.945300102233887, -5.945199966430664, -5.948800086975098, -5.979899883270264, -5.981800079345703, -5.995999813079834, -6.002299785614014, -6.040599822998047, -6.053500175476074, -6.1305999755859375, -4.233699798583984, -4.922500133514404, -4.581900119781494, -3.4126999378204346, -5.099899768829346, -5.453999996185303, -4.503699779510498, -5.536099910736084, -5.358799934387207, -5.213399887084961, -5.303299903869629, -4.934199810028076, -5.366600036621094, -4.492800235748291, -4.521699905395508, -5.458099842071533, -5.398099899291992, -5.282899856567383, -5.216599941253662, -5.4471001625061035, -5.371799945831299, -3.829200029373169, -4.626699924468994, -4.637499809265137, -4.83650016784668, -5.0046000480651855, -5.025100231170654, -5.10290002822876, -5.219900131225586, -5.291999816894531, -5.293799877166748, -5.331699848175049, -5.467199802398682, -5.46750020980835, -5.533599853515625, -5.594900131225586, -5.6057000160217285, -5.6732001304626465, -5.726200103759766, -5.769800186157227, -5.771399974822998, -5.793499946594238, -5.797299861907959, -5.803299903869629, -5.817299842834473, -5.836999893188477, -5.880300045013428, -5.907800197601318, -5.914899826049805, -5.933000087738037, -6.001399993896484, -4.532100200653076, -5.205900192260742, -3.792799949645996, -5.311100006103516, -5.225599765777588, -4.997099876403809, -4.793300151824951, -5.103899955749512, -5.362800121307373, -5.518099784851074, -5.415599822998047, -5.365600109100342, -5.402900218963623, -5.352700233459473, -5.526599884033203, -5.549699783325195, -3.433500051498413, -4.390100002288818, -4.661799907684326, -4.70959997177124, -4.716899871826172, -4.767399787902832, -4.840099811553955, -4.897200107574463, -4.919099807739258, -4.990300178527832, -5.013700008392334, -5.046500205993652, -5.075500011444092, -5.082799911499023, -5.166299819946289, -5.205599784851074, -5.212200164794922, -5.207099914550781, -5.222099781036377, -5.234399795532227, -5.271299839019775, -5.270299911499023, -5.2733001708984375, -5.278600215911865, -5.308199882507324, -5.334400177001953, -5.3572001457214355, -5.5015997886657715, -5.51609992980957, -5.528200149536133, -4.807000160217285, -4.738100051879883, -4.882999897003174, -4.707099914550781, -5.26170015335083, -4.676499843597412, -4.843900203704834, -5.241600036621094, -4.667300224304199, -4.679100036621094, -4.816100120544434, -4.922800064086914, -5.015200138092041, -5.0472002029418945, -5.097499847412109, -5.235899925231934, -5.313600063323975, -5.380799770355225, -5.454599857330322, -5.456299781799316, -5.46589994430542, -5.55109977722168, -5.5858001708984375, -5.634500026702881, -5.688499927520752, -5.735099792480469, -5.747799873352051, -5.763199806213379, -5.76639986038208, -5.772500038146973, -5.7729997634887695, -5.791999816894531, -5.8140997886657715, -5.872499942779541, -5.885700225830078, -5.888299942016602, -5.9141998291015625, -5.915299892425537, -4.571499824523926, -4.986100196838379, -5.569399833679199, -4.908899784088135, -4.938899993896484, -4.807799816131592, -4.372700214385986, -5.403800010681152, -5.564599990844727, -5.441699981689453, -5.651100158691406, -5.686800003051758, -5.635499954223633, -3.1145999431610107, -3.3259999752044678, -3.5413999557495117, -3.707900047302246, -3.7564001083374023, -4.139599800109863, -4.238500118255615, -4.258600234985352, -4.283400058746338, -4.317999839782715, -4.367400169372559, -4.380099773406982, -4.453800201416016, -4.49429988861084, -4.640399932861328, -4.6656999588012695, -4.7347002029418945, -4.745200157165527, -4.757299900054932, -4.768099784851074, -4.796899795532227, -4.8078999519348145, -4.82390022277832, -4.861100196838379, -4.862500190734863, -4.910999774932861, -4.923699855804443, -5.154300212860107, -5.161900043487549, -5.188399791717529, -3.6238999366760254, -4.189700126647949, -3.8796000480651855, -4.447299957275391, -4.380000114440918, -4.63670015335083, -3.559000015258789, -3.9867000579833984, -4.02810001373291, -4.073400020599365, -4.283599853515625, -4.423600196838379, -4.552800178527832, -4.692299842834473, -4.7129998207092285, -4.7210001945495605, -4.736199855804443, -4.742000102996826, -4.762499809265137, -4.772799968719482, -4.852200031280518, -4.8703999519348145, -4.882199764251709, -4.899700164794922, -4.906499862670898, -4.9243998527526855, -5.202499866485596, -5.252799987792969, -5.279699802398682, -5.28439998626709, -5.315499782562256, -5.394499778747559, -5.52209997177124, -5.556600093841553, -5.564199924468994, -5.587399959564209, -4.5183000564575195, -4.113699913024902, -4.748600006103516, -5.281099796295166]}, \"token.table\": {\"Topic\": [5, 3, 6, 8, 7, 1, 2, 3, 5, 6, 1, 2, 3, 4, 6, 1, 4, 4, 1, 2, 3, 5, 7, 5, 8, 2, 6, 5, 6, 1, 1, 2, 2, 3, 1, 3, 1, 2, 3, 7, 7, 3, 3, 6, 1, 2, 4, 1, 8, 8, 5, 8, 3, 7, 3, 7, 1, 7, 8, 5, 2, 6, 7, 3, 3, 1, 5, 1, 2, 3, 5, 1, 2, 4, 6, 5, 5, 8, 8, 3, 3, 1, 1, 5, 1, 8, 1, 2, 2, 5, 5, 7, 8, 8, 3, 1, 6, 3, 3, 6, 2, 8, 1, 3, 1, 1, 2, 3, 3, 6, 8, 2, 6, 1, 4, 6, 6, 4, 1, 4, 4, 2, 6, 3, 4, 5, 1, 2, 3, 1, 2, 3, 4, 1, 2, 3, 2, 1, 2, 6, 4, 1, 6, 1, 2, 3, 4, 8, 1, 6, 1, 3, 2, 1, 8, 2, 5, 1, 1, 2, 6, 2, 3, 3, 6, 4, 5, 7, 4, 8, 5, 6, 4, 7, 4, 8, 5, 1, 3, 8, 4, 4, 1, 3, 8, 8, 4, 4, 4, 3, 1, 2, 3, 2, 1, 3, 4, 1, 3, 8, 4, 1, 2, 2, 1, 2, 3, 3, 8, 1, 2, 1, 2, 3, 3, 2, 6, 1, 2, 3, 1, 2, 8, 3, 1, 2, 3, 4, 7, 6, 5, 7, 4, 5, 6, 4, 3, 4, 7, 1, 1, 2, 3, 5, 6, 1, 4, 6, 1, 2, 6, 8, 4, 6, 2, 4, 4, 3, 4, 6, 4, 2, 3, 6, 1, 2, 3, 4, 6, 6, 8, 2, 5, 4, 4, 7, 4, 6, 7, 1, 1, 2, 1, 2, 5, 7, 5, 5, 5, 5, 1, 1, 6, 7, 6, 1, 2, 3, 1, 2, 6, 7, 8, 3, 3, 6, 1, 6, 2, 1, 5, 6, 2, 3, 6, 3, 3, 7, 5, 2, 1, 5, 3, 5, 8, 3, 1, 2, 3, 4, 4, 7, 7, 5, 4, 6, 8, 6, 2, 3, 7, 7, 5, 2, 1, 1, 2, 1, 5, 7, 5, 8, 7, 1, 3, 2, 1, 2, 3, 1, 3, 1, 1, 2, 3, 7, 7, 7, 2, 2, 5, 2, 2, 1, 6, 1, 2, 1, 2, 3, 6, 5, 5, 1, 3, 4, 6, 1, 8, 5, 1, 2, 3, 1, 2, 2, 4, 5, 2, 3, 7, 5, 7, 8, 7, 6, 1, 2, 6, 1, 1, 7, 6, 3, 1, 2, 1, 2, 3, 2, 1, 2, 3, 8, 7, 1, 1, 6, 2, 3, 5, 6, 6, 5, 1, 3, 6, 3, 8, 1, 4, 7, 8, 3, 7, 2, 3, 3, 2, 1, 2, 2, 4, 8, 2, 3, 6, 6, 1, 2, 3, 8, 4, 1, 2, 3, 3, 4, 7, 4, 8, 8, 2, 3, 2, 1, 3, 3, 1, 4, 1, 4, 6, 1, 2, 3, 8, 1, 3, 1, 4, 1, 3, 4, 6], \"Freq\": [0.9982903599739075, 0.350610613822937, 0.5066162347793579, 0.14153088629245758, 0.9985280632972717, 0.25206258893013, 0.5456311702728271, 0.20190946757793427, 0.9991018772125244, 0.9961705803871155, 0.43456852436065674, 0.17816965281963348, 0.21263186633586884, 0.11786077171564102, 0.056518033146858215, 0.5303909182548523, 0.4689997732639313, 0.9991967082023621, 0.1390170007944107, 0.769477903842926, 0.09167607873678207, 0.9980220198631287, 0.9989954233169556, 0.9994251132011414, 0.9983622431755066, 0.8119797110557556, 0.18748481571674347, 0.9983782172203064, 0.9967430830001831, 0.9985277056694031, 0.23691301047801971, 0.7626749277114868, 0.5442905426025391, 0.45545974373817444, 0.753119945526123, 0.24577340483665466, 0.3692018687725067, 0.6300391554832458, 0.9996227025985718, 0.9986639022827148, 0.9987848997116089, 0.998661994934082, 0.9992568492889404, 0.9987457990646362, 0.7108986377716064, 0.28783461451530457, 0.9978018999099731, 0.8386628031730652, 0.16122020781040192, 0.9979665279388428, 0.9981343150138855, 0.9991569519042969, 0.9971480965614319, 0.9986777901649475, 0.9992279410362244, 0.9992042183876038, 0.9987095594406128, 0.9984962344169617, 0.998289167881012, 0.9995810985565186, 0.9979662895202637, 0.9981205463409424, 0.9986451864242554, 0.9989374876022339, 0.9981850385665894, 0.9985306859016418, 0.9971850514411926, 0.3734852075576782, 0.3625325858592987, 0.22562450170516968, 0.03833426162600517, 0.6308521032333374, 0.2414478063583374, 0.05875372886657715, 0.06861749291419983, 0.9989897012710571, 0.9974868893623352, 0.9981643557548523, 0.9987947344779968, 0.9992163777351379, 0.9983993172645569, 0.9977782368659973, 0.9981780648231506, 0.9983552098274231, 0.9993342757225037, 0.998968780040741, 0.9995086789131165, 0.9987039566040039, 0.9987675547599792, 0.9991011023521423, 0.82973712682724, 0.16818995773792267, 0.9986825585365295, 0.9965732097625732, 0.9968481063842773, 0.9976416826248169, 0.9977904558181763, 0.9994707107543945, 0.806942880153656, 0.1919427216053009, 0.9993715882301331, 0.9986364245414734, 0.8070762753486633, 0.19259774684906006, 0.9990043044090271, 0.36796051263809204, 0.4214460253715515, 0.2104754000902176, 0.4891648292541504, 0.5106527209281921, 0.997349202632904, 0.9988646507263184, 0.9956963658332825, 0.41216641664505005, 0.5864925384521484, 0.9979078769683838, 0.99625563621521, 0.9988476037979126, 0.9994341731071472, 0.9969192743301392, 0.9977710843086243, 0.9996801018714905, 0.9986019134521484, 0.1429155468940735, 0.23933225870132446, 0.6174772381782532, 0.3715352714061737, 0.5126272439956665, 0.11574112623929977, 0.32518652081489563, 0.5525527000427246, 0.121614471077919, 0.9990842342376709, 0.2560952603816986, 0.5746356248855591, 0.1690930277109146, 0.9976003766059875, 0.2778698205947876, 0.6509055495262146, 0.07119279354810715, 0.9965335726737976, 0.42370834946632385, 0.5756974220275879, 0.11597345024347305, 0.33732378482818604, 0.25902700424194336, 0.28669577836990356, 0.9986506104469299, 0.8689131736755371, 0.13082757592201233, 0.17786845564842224, 0.8216513991355896, 0.9977282285690308, 0.9983556270599365, 0.9981935024261475, 0.32757803797721863, 0.6712664365768433, 0.998679518699646, 0.9988410472869873, 0.9981151819229126, 0.9976100921630859, 0.9984065294265747, 0.9985597133636475, 0.8278809785842896, 0.17149844765663147, 0.2623031437397003, 0.20083536207675934, 0.5367781519889832, 0.9986575245857239, 0.9992601871490479, 0.9994343519210815, 0.995930552482605, 0.9988186955451965, 0.9996376633644104, 0.997011125087738, 0.9985621571540833, 0.999148964881897, 0.9992578029632568, 0.9985593557357788, 0.9972991347312927, 0.9985287189483643, 0.9978187084197998, 0.9973201751708984, 0.9971240162849426, 0.9985871315002441, 0.998387336730957, 0.9990168809890747, 0.9957197904586792, 0.9980185627937317, 0.9969537258148193, 0.17520089447498322, 0.6810462474822998, 0.1438216269016266, 0.9970331192016602, 0.18662208318710327, 0.35139572620391846, 0.4615482687950134, 0.4231656789779663, 0.5100657939910889, 0.06649746000766754, 0.9981108903884888, 0.786789059638977, 0.212042436003685, 0.9973220229148865, 0.25782299041748047, 0.514308750629425, 0.2277347296476364, 0.3785642683506012, 0.6188703179359436, 0.7217953205108643, 0.277308851480484, 0.10527853667736053, 0.7332427501678467, 0.16088339686393738, 0.9977297782897949, 0.99716717004776, 0.9951645731925964, 0.4718570113182068, 0.4559389352798462, 0.07201030850410461, 0.5876736640930176, 0.41193029284477234, 0.9974934458732605, 0.9990726709365845, 0.9985705018043518, 0.28630971908569336, 0.11477895081043243, 0.13327111303806305, 0.4654923975467682, 0.9963124990463257, 0.9978200793266296, 0.9985396265983582, 0.6733110547065735, 0.18163202702999115, 0.14345459640026093, 0.9974875450134277, 0.9981399774551392, 0.9962093830108643, 0.9980552792549133, 0.9994295835494995, 0.4514405429363251, 0.5483315587043762, 0.28492775559425354, 0.14433839917182922, 0.5698555111885071, 0.3688977360725403, 0.03463828191161156, 0.5957784652709961, 0.5236756801605225, 0.4168788492679596, 0.058965060859918594, 0.9972792863845825, 0.999704897403717, 0.9985836744308472, 0.9987683296203613, 0.997607409954071, 0.9983791708946228, 0.743438720703125, 0.19539593160152435, 0.06072064861655235, 0.9981167912483215, 0.14523285627365112, 0.5884005427360535, 0.26556864380836487, 0.33895552158355713, 0.37269940972328186, 0.1380087435245514, 0.09725066274404526, 0.05308028310537338, 0.9977841377258301, 0.9990736246109009, 0.18523941934108734, 0.813659131526947, 0.998990535736084, 0.997868001461029, 0.9985875487327576, 0.9972573518753052, 0.9976571798324585, 0.9969289898872375, 0.9991660118103027, 0.9972533583641052, 0.9976283311843872, 0.44449931383132935, 0.4601586163043976, 0.09528640657663345, 0.9984539151191711, 0.9985625147819519, 0.9993792772293091, 0.9985713958740234, 0.9976704716682434, 0.9992116093635559, 0.22940513491630554, 0.7691819071769714, 0.9993777275085449, 0.9974199533462524, 0.21629518270492554, 0.6174060106277466, 0.1660294085741043, 0.29725638031959534, 0.3286689817905426, 0.3740427494049072, 0.6242455244064331, 0.3754790127277374, 0.9977186918258667, 0.9976423978805542, 0.9991841316223145, 0.9978514909744263, 0.9983144402503967, 0.9984753131866455, 0.47373145818710327, 0.12389899790287018, 0.40206438302993774, 0.9990049004554749, 0.7559983730316162, 0.24390265345573425, 0.9970765709877014, 0.9986494779586792, 0.998099148273468, 0.9974703192710876, 0.9970725178718567, 0.8290486335754395, 0.17051930725574493, 0.32213833928108215, 0.6762349009513855, 0.9996583461761475, 0.9969870448112488, 0.1635347306728363, 0.7513117790222168, 0.08492746204137802, 0.9970442056655884, 0.9977762699127197, 0.9992806911468506, 0.9987246990203857, 0.9992003440856934, 0.7463921308517456, 0.25159284472465515, 0.9987133741378784, 0.9967368245124817, 0.9989437460899353, 0.9982640147209167, 0.9995632171630859, 0.999636173248291, 0.9982230067253113, 0.9982864856719971, 0.9977344870567322, 0.2249608188867569, 0.7745656967163086, 0.9987828135490417, 0.9989616274833679, 0.9991747736930847, 0.7077484130859375, 0.2917008101940155, 0.999592661857605, 0.2935692369937897, 0.7059746384620667, 0.9991363883018494, 0.16071856021881104, 0.6252393126487732, 0.21402423083782196, 0.3550293445587158, 0.6443405151367188, 0.9983816742897034, 0.15248709917068481, 0.44000595808029175, 0.09649831056594849, 0.3109024167060852, 0.9993200302124023, 0.9979407787322998, 0.9991799592971802, 0.9978904724121094, 0.9986485242843628, 0.9996642470359802, 0.9981566667556763, 0.9991166591644287, 0.9975987672805786, 0.13588103652000427, 0.8639042377471924, 0.18607863783836365, 0.6865450143814087, 0.12648482620716095, 0.9972909688949585, 0.9986541271209717, 0.9984428882598877, 0.5715126991271973, 0.06799708306789398, 0.23658490180969238, 0.1236310675740242, 0.40469056367874146, 0.5948730111122131, 0.9977054595947266, 0.3445802628993988, 0.4949726164340973, 0.1603083312511444, 0.15463772416114807, 0.8453528881072998, 0.1327955573797226, 0.8668193221092224, 0.9996098279953003, 0.9304533004760742, 0.0693427249789238, 0.9987126588821411, 0.9979874491691589, 0.6398979425430298, 0.3594869077205658, 0.9988560080528259, 0.996451735496521, 0.35982683300971985, 0.6395053267478943, 0.9987801313400269, 0.9993109107017517, 0.9991078972816467, 0.9984124898910522, 0.9978574514389038, 0.9988952875137329, 0.2109500765800476, 0.7885514497756958, 0.22214458882808685, 0.6657530665397644, 0.11186648160219193, 0.9987651705741882, 0.4595424234867096, 0.34066715836524963, 0.19931960105895996, 0.997810959815979, 0.9993831515312195, 0.9990412592887878, 0.4012472331523895, 0.5984538793563843, 0.3461399972438812, 0.4766578674316406, 0.07264325022697449, 0.10448812693357468, 0.9952911734580994, 0.9975965619087219, 0.4127485156059265, 0.2516128718852997, 0.3351966142654419, 0.9993085265159607, 0.999324381351471, 0.3713555335998535, 0.628546953201294, 0.9978107810020447, 0.997700035572052, 0.5268155932426453, 0.4727364778518677, 0.999382495880127, 0.9991592168807983, 0.9979594945907593, 0.9987570643424988, 0.3076288104057312, 0.6920716166496277, 0.9986218810081482, 0.7889137864112854, 0.21060273051261902, 0.27487248182296753, 0.7244853377342224, 0.9980660080909729, 0.9989106059074402, 0.4185503423213959, 0.45152702927589417, 0.12973248958587646, 0.9978422522544861, 0.9967225790023804, 0.3025869131088257, 0.3406904637813568, 0.3568284511566162, 0.6182233691215515, 0.3812377452850342, 0.9989235401153564, 0.9985576272010803, 0.9994785785675049, 0.9985170364379883, 0.31538063287734985, 0.6840073466300964, 0.9973766803741455, 0.9976803064346313, 0.9988338947296143, 0.9981529712677002, 0.9993637204170227, 0.9984742403030396, 0.6689165234565735, 0.3308619260787964, 0.9977127313613892, 0.4376220703125, 0.3027527630329132, 0.25952351093292236, 0.9990462064743042, 0.36878708004951477, 0.6307293176651001, 0.5034137964248657, 0.4959507882595062, 0.4288414418697357, 0.18520106375217438, 0.3854416608810425, 0.9972693920135498], \"Term\": [\"accurately\", \"acs\", \"acs\", \"acs\", \"acted\", \"actual\", \"actual\", \"actual\", \"advocated\", \"ahura\", \"alpha\", \"alpha\", \"alpha\", \"alpha\", \"alpha\", \"amending\", \"amending\", \"amongst\", \"anuses\", \"anuses\", \"anuses\", \"area\", \"arson\", \"atomic\", \"auto\", \"backtrack\", \"backtrack\", \"ballooning\", \"baring\", \"baseload\", \"beholden\", \"beholden\", \"bereaved\", \"bereaved\", \"bernieman\", \"bernieman\", \"bestof\", \"bestof\", \"bi\", \"boringly\", \"bowling\", \"calves\", \"canals\", \"canard\", \"captivity\", \"captivity\", \"carted\", \"challengers\", \"challengers\", \"childhood\", \"chinas\", \"citation\", \"claire\", \"clears\", \"client\", \"commanding\", \"communalism\", \"completes\", \"concealed\", \"confrontational\", \"conscripted\", \"conspirator\", \"constructive\", \"correctly\", \"correlated\", \"corruptiin\", \"corticies\", \"cosplaying\", \"cosplaying\", \"cosplaying\", \"cosplaying\", \"counteract\", \"counteract\", \"counteract\", \"counteract\", \"counting\", \"countries\", \"creecher\", \"creeds\", \"creeper\", \"criminalise\", \"cuntosaurus\", \"dba\", \"dea\", \"deal\", \"degeneres\", \"delves\", \"demand\", \"demonises\", \"destabilisation\", \"discounts\", \"discounts\", \"discouraging\", \"divorces\", \"economist\", \"edemocracy\", \"ekehpn\", \"ekh\", \"ekj\", \"ekj\", \"elisabeth\", \"emphasizes\", \"enhanced\", \"enhanced\", \"espoused\", \"euros\", \"euros\", \"euros\", \"evaporate\", \"evaporate\", \"excited\", \"expansionism\", \"fade\", \"fake\", \"fake\", \"fea\", \"fiber\", \"forthright\", \"francs\", \"freer\", \"freeza\", \"frozen\", \"gahsuc\", \"gb\", \"gb\", \"gb\", \"geopolitcal\", \"geopolitcal\", \"geopolitcal\", \"glock\", \"glock\", \"glock\", \"gls\", \"goaltender\", \"goaltender\", \"goaltender\", \"godzillary\", \"goest\", \"goest\", \"goest\", \"goldman\", \"gomer\", \"gomer\", \"goodness\", \"goodness\", \"goodness\", \"goodness\", \"gop\", \"gorge\", \"gorge\", \"grapples\", \"grapples\", \"guidance\", \"handling\", \"happiness\", \"harrassment\", \"harrassment\", \"hawley\", \"haww\", \"hazards\", \"hazy\", \"hebdo\", \"hibbing\", \"homophobia\", \"homophobia\", \"horseback\", \"horseback\", \"horseback\", \"hourslong\", \"house\", \"iajyoyddsus\", \"icon\", \"ime\", \"imgur\", \"incandescents\", \"incorporate\", \"instance\", \"instances\", \"intrigued\", \"inversed\", \"investors\", \"jdtsrny\", \"jezebel\", \"jg\", \"jonathan\", \"jonestown\", \"kernel\", \"keurig\", \"kevlar\", \"kirschner\", \"kju\", \"kju\", \"kju\", \"klanner\", \"landholders\", \"landholders\", \"landholders\", \"lasting\", \"lasting\", \"lasting\", \"layover\", \"legion\", \"legion\", \"levada\", \"libya\", \"libya\", \"libya\", \"lobbied\", \"lobbied\", \"locating\", \"locating\", \"lockers\", \"lockers\", \"lockers\", \"lockstep\", \"lollygagging\", \"lung\", \"magical\", \"magical\", \"magical\", \"maneuver\", \"maneuver\", \"mantle\", \"maturity\", \"mccigarcunt\", \"mcpeaceprize\", \"mcpeaceprize\", \"mcpeaceprize\", \"mcpeaceprize\", \"meetups\", \"memorandums\", \"mendacious\", \"microprocessor\", \"microprocessor\", \"microprocessor\", \"mien\", \"misogynist\", \"mix\", \"mja\", \"modsupport\", \"mountainous\", \"mountainous\", \"mum\", \"mum\", \"mum\", \"name\", \"name\", \"name\", \"nazbol\", \"nazbol\", \"nazbol\", \"nazi\", \"nepotistic\", \"nickname\", \"nightmarish\", \"norman\", \"nuisances\", \"nurture\", \"nurture\", \"nurture\", \"observing\", \"occupant\", \"occupant\", \"occupant\", \"oikos\", \"oikos\", \"oikos\", \"oikos\", \"oikos\", \"oink\", \"opposing\", \"organizations\", \"organizations\", \"ostracised\", \"ostracism\", \"panchreston\", \"panda\", \"panes\", \"paranoid\", \"pastemagazine\", \"patched\", \"pcsing\", \"pedestrian\", \"pedestrian\", \"pedestrian\", \"penal\", \"penny\", \"perfectly\", \"perot\", \"pgrihokq\", \"pint\", \"pixelated\", \"pixelated\", \"plague\", \"planned\", \"plop\", \"plop\", \"plop\", \"pnuahwrioeogcpcbgayycw\", \"pnuahwrioeogcpcbgayycw\", \"pnuahwrioeogcpcbgayycw\", \"poena\", \"poena\", \"poetry\", \"poignant\", \"pointing\", \"polisci\", \"politicization\", \"popularizing\", \"possessing\", \"possessing\", \"possessing\", \"prefatory\", \"prefect\", \"prefect\", \"preferable\", \"presidents\", \"prev\", \"primitive\", \"procedure\", \"provicating\", \"provicating\", \"punctuator\", \"punctuator\", \"qr\", \"queer\", \"ravikant\", \"ravikant\", \"ravikant\", \"recalculated\", \"recipients\", \"reclaim\", \"reeling\", \"referencing\", \"relabeled\", \"relabeled\", \"relates\", \"released\", \"releaseid\", \"renege\", \"repealing\", \"repeated\", \"resistant\", \"retardedly\", \"reverses\", \"revulsion\", \"revulsion\", \"rewriting\", \"roundabout\", \"rouser\", \"rubicon\", \"rubicon\", \"rubio\", \"russicans\", \"russicans\", \"sahd\", \"sang\", \"sang\", \"sang\", \"sanitized\", \"sanitized\", \"scalping\", \"se\", \"se\", \"se\", \"se\", \"seditious\", \"seeee\", \"segment\", \"senatorcollins\", \"shariablue\", \"shaving\", \"sightseeing\", \"sleighted\", \"socket\", \"socom\", \"socom\", \"sodlier\", \"sodlier\", \"sodlier\", \"solidarity\", \"solve\", \"spammed\", \"stahdx\", \"stahdx\", \"stahdx\", \"stahdx\", \"stakeholder\", \"stakeholder\", \"stand\", \"steak\", \"steak\", \"steak\", \"stickies\", \"stickies\", \"stilton\", \"stilton\", \"strangling\", \"stricking\", \"stricking\", \"stripes\", \"stucture\", \"study\", \"study\", \"sues\", \"suffered\", \"summoned\", \"summoned\", \"sumpter\", \"swehvtol\", \"tamper\", \"tand\", \"tapes\", \"terminals\", \"thegroundtruthproject\", \"thegroundtruthproject\", \"theinsider\", \"theinsider\", \"theinsider\", \"theirs\", \"thrived\", \"thrived\", \"thrived\", \"trampling\", \"translations\", \"treating\", \"tribunal\", \"tribunal\", \"trickled\", \"trickled\", \"trickled\", \"trickled\", \"trooper\", \"tunes\", \"tunisia\", \"tunisia\", \"tunisia\", \"twins\", \"unfamiliar\", \"unwanted\", \"unwanted\", \"vfa\", \"vflez\", \"virginian\", \"virginian\", \"virginity\", \"vis\", \"visas\", \"visible\", \"waay\", \"waay\", \"wacko\", \"waclimate\", \"waclimate\", \"walden\", \"walden\", \"wallows\", \"wandered\", \"warlock\", \"warlock\", \"warlock\", \"warrenwelder\", \"waterboarded\", \"wayward\", \"wayward\", \"wayward\", \"westward\", \"westward\", \"wether\", \"whimsical\", \"whiny\", \"whiplashed\", \"whitmer\", \"whitmer\", \"whoooooole\", \"wields\", \"wisest\", \"wishy\", \"witchcraft\", \"withdrawals\", \"withing\", \"withing\", \"wodk\", \"wokescold\", \"wokescold\", \"wokescold\", \"wvgazettemail\", \"xe\", \"xe\", \"xenophobes\", \"xenophobes\", \"xfm\", \"xfm\", \"xfm\", \"yanno\"]}, \"R\": 30, \"lambda.step\": 0.01, \"plot.opts\": {\"xlab\": \"PC1\", \"ylab\": \"PC2\"}, \"topic.order\": [6, 4, 1, 8, 3, 5, 7, 2]};\n",
       "\n",
       "function LDAvis_load_lib(url, callback){\n",
       "  var s = document.createElement('script');\n",
       "  s.src = url;\n",
       "  s.async = true;\n",
       "  s.onreadystatechange = s.onload = callback;\n",
       "  s.onerror = function(){console.warn(\"failed to load library \" + url);};\n",
       "  document.getElementsByTagName(\"head\")[0].appendChild(s);\n",
       "}\n",
       "\n",
       "if(typeof(LDAvis) !== \"undefined\"){\n",
       "   // already loaded: just create the visualization\n",
       "   !function(LDAvis){\n",
       "       new LDAvis(\"#\" + \"ldavis_el2151397918776110963326050132\", ldavis_el2151397918776110963326050132_data);\n",
       "   }(LDAvis);\n",
       "}else if(typeof define === \"function\" && define.amd){\n",
       "   // require.js is available: use it to load d3/LDAvis\n",
       "   require.config({paths: {d3: \"https://cdnjs.cloudflare.com/ajax/libs/d3/3.5.5/d3.min\"}});\n",
       "   require([\"d3\"], function(d3){\n",
       "      window.d3 = d3;\n",
       "      LDAvis_load_lib(\"https://cdn.rawgit.com/bmabey/pyLDAvis/files/ldavis.v1.0.0.js\", function(){\n",
       "        new LDAvis(\"#\" + \"ldavis_el2151397918776110963326050132\", ldavis_el2151397918776110963326050132_data);\n",
       "      });\n",
       "    });\n",
       "}else{\n",
       "    // require.js not available: dynamically load d3 & LDAvis\n",
       "    LDAvis_load_lib(\"https://cdnjs.cloudflare.com/ajax/libs/d3/3.5.5/d3.min.js\", function(){\n",
       "         LDAvis_load_lib(\"https://cdn.rawgit.com/bmabey/pyLDAvis/files/ldavis.v1.0.0.js\", function(){\n",
       "                 new LDAvis(\"#\" + \"ldavis_el2151397918776110963326050132\", ldavis_el2151397918776110963326050132_data);\n",
       "            })\n",
       "         });\n",
       "}\n",
       "</script>"
      ],
      "text/plain": [
       "PreparedData(topic_coordinates=              x         y  topics  cluster       Freq\n",
       "topic                                                \n",
       "5      0.233699 -0.029655       1        1  23.967249\n",
       "3      0.250245 -0.083376       2        1  21.158693\n",
       "0      0.196193 -0.075875       3        1  14.237942\n",
       "7     -0.027697  0.082175       4        1   9.834872\n",
       "2     -0.141733  0.289838       5        1   9.083456\n",
       "4     -0.003939  0.165398       6        1   8.150654\n",
       "6     -0.243148 -0.253277       7        1   6.844601\n",
       "1     -0.263620 -0.095229       8        1   6.722526, topic_info=      Category          Freq         Term         Total  loglift  logprob\n",
       "3364   Default   3345.000000     repeated   3345.000000  30.0000  30.0000\n",
       "10951  Default  10833.000000     trickled  10833.000000  29.0000  29.0000\n",
       "18710  Default   3227.000000   strangling   3227.000000  28.0000  28.0000\n",
       "15736  Default   2708.000000    repealing   2708.000000  27.0000  27.0000\n",
       "37800  Default   3219.000000        poena   3219.000000  26.0000  26.0000\n",
       "...        ...           ...          ...           ...      ...      ...\n",
       "19548   Topic8    277.066406     divorces    277.952484   2.6965  -5.5874\n",
       "36162   Topic8    807.067261  stakeholder   1356.592041   2.1804  -4.5183\n",
       "37800   Topic8   1209.482422        poena   3219.886963   1.7206  -4.1137\n",
       "3343    Topic8    641.002869        study   1783.096924   1.6766  -4.7486\n",
       "16500   Topic8    376.372742      lobbied    607.558655   2.2208  -5.2811\n",
       "\n",
       "[401 rows x 6 columns], token_table=       Topic      Freq        Term\n",
       "term                              \n",
       "3849       5  0.998290  accurately\n",
       "26393      3  0.350611         acs\n",
       "26393      6  0.506616         acs\n",
       "26393      8  0.141531         acs\n",
       "2497       7  0.998528       acted\n",
       "...      ...       ...         ...\n",
       "21039      4  0.495951  xenophobes\n",
       "19182      1  0.428841         xfm\n",
       "19182      3  0.185201         xfm\n",
       "19182      4  0.385442         xfm\n",
       "22393      6  0.997269       yanno\n",
       "\n",
       "[495 rows x 3 columns], R=30, lambda_step=0.01, plot_opts={'xlab': 'PC1', 'ylab': 'PC2'}, topic_order=[6, 4, 1, 8, 3, 5, 7, 2])"
      ]
     },
     "execution_count": 21,
     "metadata": {},
     "output_type": "execute_result"
    }
   ],
   "source": [
    "vis"
   ]
  },
  {
   "cell_type": "markdown",
   "metadata": {},
   "source": [
    "## Creating a logistic regression based classification"
   ]
  },
  {
   "cell_type": "code",
   "execution_count": null,
   "metadata": {},
   "outputs": [],
   "source": []
  }
 ],
 "metadata": {
  "kernelspec": {
   "display_name": "Python 3",
   "language": "python",
   "name": "python3"
  },
  "language_info": {
   "codemirror_mode": {
    "name": "ipython",
    "version": 3
   },
   "file_extension": ".py",
   "mimetype": "text/x-python",
   "name": "python",
   "nbconvert_exporter": "python",
   "pygments_lexer": "ipython3",
   "version": "3.6.9"
  }
 },
 "nbformat": 4,
 "nbformat_minor": 4
}
